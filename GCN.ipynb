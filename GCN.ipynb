{
  "cells": [
    {
      "cell_type": "markdown",
      "id": "_ndKIiq_Fgh2",
      "metadata": {
        "id": "_ndKIiq_Fgh2"
      },
      "source": [
        "# Spatio-Temporal Timeseries Multi-step Forecasting\n",
        "\n",
        "- EDA(X)\n",
        "- Feature Engineering : 시계열 예측에서 feature는 예측 step에서도 있는 변수여야함, 시간에 대한 함수 or 시간에 따라 변하지 않는 것(X,Y coordinate)\n",
        "- Outlier processing\n",
        "- Model : ST-GCN\n",
        "- Timeseries Split CV (To optimize hyperparameter)\n",
        "- Direct and Recursive\n"
      ]
    },
    {
      "cell_type": "markdown",
      "id": "7ukC1-xO7t0J",
      "metadata": {
        "id": "7ukC1-xO7t0J"
      },
      "source": [
        "참고 링크 :\n",
        "- 유튜브 설명 (https://www.youtube.com/watch?v=R8s5Kh5eKm8)\n",
        "- 소스 코드 (https://github.com/VeritasYin/STGCN_IJCAI-18)\n",
        "- 소스 코드 (https://github.com/yysijie/st-gcn)"
      ]
    },
    {
      "cell_type": "markdown",
      "id": "x19o2TrqFck2",
      "metadata": {
        "id": "x19o2TrqFck2"
      },
      "source": [
        "# 데이터 불러오기"
      ]
    },
    {
      "cell_type": "code",
      "execution_count": 73,
      "id": "5vVk3xYXFBa5",
      "metadata": {
        "id": "5vVk3xYXFBa5"
      },
      "outputs": [],
      "source": [
        "import pandas as pd\n",
        "import numpy as np\n",
        "from tqdm.auto import tqdm\n",
        "\n",
        "import torch \n",
        "import torch.nn as nn\n",
        "import torch.nn.functional as F\n",
        "\n",
        "\n",
        "train = pd.read_csv(\"train.csv\")\n",
        "test = pd.read_csv(\"test.csv\")\n",
        "census = pd.read_csv(\"census_starter.csv\")\n",
        "\n",
        "train[\"istest\"] = 0\n",
        "test[\"istest\"] = 1"
      ]
    },
    {
      "cell_type": "code",
      "execution_count": 75,
      "id": "29e0d520",
      "metadata": {},
      "outputs": [
        {
          "data": {
            "text/html": [
              "<div>\n",
              "<style scoped>\n",
              "    .dataframe tbody tr th:only-of-type {\n",
              "        vertical-align: middle;\n",
              "    }\n",
              "\n",
              "    .dataframe tbody tr th {\n",
              "        vertical-align: top;\n",
              "    }\n",
              "\n",
              "    .dataframe thead th {\n",
              "        text-align: right;\n",
              "    }\n",
              "</style>\n",
              "<table border=\"1\" class=\"dataframe\">\n",
              "  <thead>\n",
              "    <tr style=\"text-align: right;\">\n",
              "      <th></th>\n",
              "      <th>cfips</th>\n",
              "      <th>microbusiness_density</th>\n",
              "      <th>active</th>\n",
              "      <th>istest</th>\n",
              "    </tr>\n",
              "  </thead>\n",
              "  <tbody>\n",
              "    <tr>\n",
              "      <th>count</th>\n",
              "      <td>122265.000000</td>\n",
              "      <td>122265.000000</td>\n",
              "      <td>1.222650e+05</td>\n",
              "      <td>122265.0</td>\n",
              "    </tr>\n",
              "    <tr>\n",
              "      <th>mean</th>\n",
              "      <td>30376.037640</td>\n",
              "      <td>3.817671</td>\n",
              "      <td>6.442858e+03</td>\n",
              "      <td>0.0</td>\n",
              "    </tr>\n",
              "    <tr>\n",
              "      <th>std</th>\n",
              "      <td>15143.508721</td>\n",
              "      <td>4.991087</td>\n",
              "      <td>3.304001e+04</td>\n",
              "      <td>0.0</td>\n",
              "    </tr>\n",
              "    <tr>\n",
              "      <th>min</th>\n",
              "      <td>1001.000000</td>\n",
              "      <td>0.000000</td>\n",
              "      <td>0.000000e+00</td>\n",
              "      <td>0.0</td>\n",
              "    </tr>\n",
              "    <tr>\n",
              "      <th>25%</th>\n",
              "      <td>18177.000000</td>\n",
              "      <td>1.639344</td>\n",
              "      <td>1.450000e+02</td>\n",
              "      <td>0.0</td>\n",
              "    </tr>\n",
              "    <tr>\n",
              "      <th>50%</th>\n",
              "      <td>29173.000000</td>\n",
              "      <td>2.586543</td>\n",
              "      <td>4.880000e+02</td>\n",
              "      <td>0.0</td>\n",
              "    </tr>\n",
              "    <tr>\n",
              "      <th>75%</th>\n",
              "      <td>45077.000000</td>\n",
              "      <td>4.519231</td>\n",
              "      <td>2.124000e+03</td>\n",
              "      <td>0.0</td>\n",
              "    </tr>\n",
              "    <tr>\n",
              "      <th>max</th>\n",
              "      <td>56045.000000</td>\n",
              "      <td>284.340030</td>\n",
              "      <td>1.167744e+06</td>\n",
              "      <td>0.0</td>\n",
              "    </tr>\n",
              "  </tbody>\n",
              "</table>\n",
              "</div>"
            ],
            "text/plain": [
              "               cfips  microbusiness_density        active    istest\n",
              "count  122265.000000          122265.000000  1.222650e+05  122265.0\n",
              "mean    30376.037640               3.817671  6.442858e+03       0.0\n",
              "std     15143.508721               4.991087  3.304001e+04       0.0\n",
              "min      1001.000000               0.000000  0.000000e+00       0.0\n",
              "25%     18177.000000               1.639344  1.450000e+02       0.0\n",
              "50%     29173.000000               2.586543  4.880000e+02       0.0\n",
              "75%     45077.000000               4.519231  2.124000e+03       0.0\n",
              "max     56045.000000             284.340030  1.167744e+06       0.0"
            ]
          },
          "execution_count": 75,
          "metadata": {},
          "output_type": "execute_result"
        }
      ],
      "source": [
        "train.describe()"
      ]
    },
    {
      "cell_type": "code",
      "execution_count": 2,
      "id": "cYLrmetBFcEt",
      "metadata": {
        "id": "cYLrmetBFcEt"
      },
      "outputs": [],
      "source": [
        "raw = pd.concat([train, test])\n",
        "raw = raw.sort_values(by = [\"cfips\", \"row_id\"]).reset_index()"
      ]
    },
    {
      "cell_type": "code",
      "execution_count": 3,
      "id": "rJCiFmrAJf9V",
      "metadata": {
        "colab": {
          "base_uri": "https://localhost:8080/"
        },
        "id": "rJCiFmrAJf9V",
        "outputId": "fb173ff1-35a1-4d91-8c93-4245d625dc8a"
      },
      "outputs": [
        {
          "data": {
            "text/plain": [
              "0          1001\n",
              "1          1001\n",
              "2          1001\n",
              "3          1001\n",
              "4          1001\n",
              "          ...  \n",
              "147340    56045\n",
              "147341    56045\n",
              "147342    56045\n",
              "147343    56045\n",
              "147344    56045\n",
              "Name: cfips, Length: 147345, dtype: int64"
            ]
          },
          "execution_count": 3,
          "metadata": {},
          "output_type": "execute_result"
        }
      ],
      "source": [
        "raw.cfips"
      ]
    },
    {
      "cell_type": "code",
      "execution_count": 4,
      "id": "VpZxnQfIKJjs",
      "metadata": {
        "id": "VpZxnQfIKJjs"
      },
      "outputs": [],
      "source": [
        "raw[\"dcount\"] = raw.groupby(\"cfips\")[\"row_id\"].cumcount()"
      ]
    },
    {
      "cell_type": "code",
      "execution_count": 5,
      "id": "1SJt8gkANPhl",
      "metadata": {
        "colab": {
          "base_uri": "https://localhost:8080/",
          "height": 661
        },
        "id": "1SJt8gkANPhl",
        "outputId": "f9aeb8fd-802c-4979-b22c-e2267b6490cf"
      },
      "outputs": [
        {
          "data": {
            "text/html": [
              "<div>\n",
              "<style scoped>\n",
              "    .dataframe tbody tr th:only-of-type {\n",
              "        vertical-align: middle;\n",
              "    }\n",
              "\n",
              "    .dataframe tbody tr th {\n",
              "        vertical-align: top;\n",
              "    }\n",
              "\n",
              "    .dataframe thead th {\n",
              "        text-align: right;\n",
              "    }\n",
              "</style>\n",
              "<table border=\"1\" class=\"dataframe\">\n",
              "  <thead>\n",
              "    <tr style=\"text-align: right;\">\n",
              "      <th></th>\n",
              "      <th>index</th>\n",
              "      <th>row_id</th>\n",
              "      <th>cfips</th>\n",
              "      <th>county</th>\n",
              "      <th>state</th>\n",
              "      <th>first_day_of_month</th>\n",
              "      <th>microbusiness_density</th>\n",
              "      <th>active</th>\n",
              "      <th>istest</th>\n",
              "      <th>dcount</th>\n",
              "    </tr>\n",
              "  </thead>\n",
              "  <tbody>\n",
              "    <tr>\n",
              "      <th>0</th>\n",
              "      <td>0</td>\n",
              "      <td>1001_2019-08-01</td>\n",
              "      <td>1001</td>\n",
              "      <td>Autauga County</td>\n",
              "      <td>Alabama</td>\n",
              "      <td>2019-08-01</td>\n",
              "      <td>3.007682</td>\n",
              "      <td>1249.0</td>\n",
              "      <td>0</td>\n",
              "      <td>0</td>\n",
              "    </tr>\n",
              "    <tr>\n",
              "      <th>1</th>\n",
              "      <td>1</td>\n",
              "      <td>1001_2019-09-01</td>\n",
              "      <td>1001</td>\n",
              "      <td>Autauga County</td>\n",
              "      <td>Alabama</td>\n",
              "      <td>2019-09-01</td>\n",
              "      <td>2.884870</td>\n",
              "      <td>1198.0</td>\n",
              "      <td>0</td>\n",
              "      <td>1</td>\n",
              "    </tr>\n",
              "    <tr>\n",
              "      <th>2</th>\n",
              "      <td>2</td>\n",
              "      <td>1001_2019-10-01</td>\n",
              "      <td>1001</td>\n",
              "      <td>Autauga County</td>\n",
              "      <td>Alabama</td>\n",
              "      <td>2019-10-01</td>\n",
              "      <td>3.055843</td>\n",
              "      <td>1269.0</td>\n",
              "      <td>0</td>\n",
              "      <td>2</td>\n",
              "    </tr>\n",
              "    <tr>\n",
              "      <th>3</th>\n",
              "      <td>3</td>\n",
              "      <td>1001_2019-11-01</td>\n",
              "      <td>1001</td>\n",
              "      <td>Autauga County</td>\n",
              "      <td>Alabama</td>\n",
              "      <td>2019-11-01</td>\n",
              "      <td>2.993233</td>\n",
              "      <td>1243.0</td>\n",
              "      <td>0</td>\n",
              "      <td>3</td>\n",
              "    </tr>\n",
              "    <tr>\n",
              "      <th>4</th>\n",
              "      <td>4</td>\n",
              "      <td>1001_2019-12-01</td>\n",
              "      <td>1001</td>\n",
              "      <td>Autauga County</td>\n",
              "      <td>Alabama</td>\n",
              "      <td>2019-12-01</td>\n",
              "      <td>2.993233</td>\n",
              "      <td>1243.0</td>\n",
              "      <td>0</td>\n",
              "      <td>4</td>\n",
              "    </tr>\n",
              "    <tr>\n",
              "      <th>...</th>\n",
              "      <td>...</td>\n",
              "      <td>...</td>\n",
              "      <td>...</td>\n",
              "      <td>...</td>\n",
              "      <td>...</td>\n",
              "      <td>...</td>\n",
              "      <td>...</td>\n",
              "      <td>...</td>\n",
              "      <td>...</td>\n",
              "      <td>...</td>\n",
              "    </tr>\n",
              "    <tr>\n",
              "      <th>147340</th>\n",
              "      <td>12539</td>\n",
              "      <td>56045_2023-02-01</td>\n",
              "      <td>56045</td>\n",
              "      <td>NaN</td>\n",
              "      <td>NaN</td>\n",
              "      <td>2023-02-01</td>\n",
              "      <td>NaN</td>\n",
              "      <td>NaN</td>\n",
              "      <td>1</td>\n",
              "      <td>42</td>\n",
              "    </tr>\n",
              "    <tr>\n",
              "      <th>147341</th>\n",
              "      <td>15674</td>\n",
              "      <td>56045_2023-03-01</td>\n",
              "      <td>56045</td>\n",
              "      <td>NaN</td>\n",
              "      <td>NaN</td>\n",
              "      <td>2023-03-01</td>\n",
              "      <td>NaN</td>\n",
              "      <td>NaN</td>\n",
              "      <td>1</td>\n",
              "      <td>43</td>\n",
              "    </tr>\n",
              "    <tr>\n",
              "      <th>147342</th>\n",
              "      <td>18809</td>\n",
              "      <td>56045_2023-04-01</td>\n",
              "      <td>56045</td>\n",
              "      <td>NaN</td>\n",
              "      <td>NaN</td>\n",
              "      <td>2023-04-01</td>\n",
              "      <td>NaN</td>\n",
              "      <td>NaN</td>\n",
              "      <td>1</td>\n",
              "      <td>44</td>\n",
              "    </tr>\n",
              "    <tr>\n",
              "      <th>147343</th>\n",
              "      <td>21944</td>\n",
              "      <td>56045_2023-05-01</td>\n",
              "      <td>56045</td>\n",
              "      <td>NaN</td>\n",
              "      <td>NaN</td>\n",
              "      <td>2023-05-01</td>\n",
              "      <td>NaN</td>\n",
              "      <td>NaN</td>\n",
              "      <td>1</td>\n",
              "      <td>45</td>\n",
              "    </tr>\n",
              "    <tr>\n",
              "      <th>147344</th>\n",
              "      <td>25079</td>\n",
              "      <td>56045_2023-06-01</td>\n",
              "      <td>56045</td>\n",
              "      <td>NaN</td>\n",
              "      <td>NaN</td>\n",
              "      <td>2023-06-01</td>\n",
              "      <td>NaN</td>\n",
              "      <td>NaN</td>\n",
              "      <td>1</td>\n",
              "      <td>46</td>\n",
              "    </tr>\n",
              "  </tbody>\n",
              "</table>\n",
              "<p>147345 rows × 10 columns</p>\n",
              "</div>"
            ],
            "text/plain": [
              "        index            row_id  cfips          county    state  \\\n",
              "0           0   1001_2019-08-01   1001  Autauga County  Alabama   \n",
              "1           1   1001_2019-09-01   1001  Autauga County  Alabama   \n",
              "2           2   1001_2019-10-01   1001  Autauga County  Alabama   \n",
              "3           3   1001_2019-11-01   1001  Autauga County  Alabama   \n",
              "4           4   1001_2019-12-01   1001  Autauga County  Alabama   \n",
              "...       ...               ...    ...             ...      ...   \n",
              "147340  12539  56045_2023-02-01  56045             NaN      NaN   \n",
              "147341  15674  56045_2023-03-01  56045             NaN      NaN   \n",
              "147342  18809  56045_2023-04-01  56045             NaN      NaN   \n",
              "147343  21944  56045_2023-05-01  56045             NaN      NaN   \n",
              "147344  25079  56045_2023-06-01  56045             NaN      NaN   \n",
              "\n",
              "       first_day_of_month  microbusiness_density  active  istest  dcount  \n",
              "0              2019-08-01               3.007682  1249.0       0       0  \n",
              "1              2019-09-01               2.884870  1198.0       0       1  \n",
              "2              2019-10-01               3.055843  1269.0       0       2  \n",
              "3              2019-11-01               2.993233  1243.0       0       3  \n",
              "4              2019-12-01               2.993233  1243.0       0       4  \n",
              "...                   ...                    ...     ...     ...     ...  \n",
              "147340         2023-02-01                    NaN     NaN       1      42  \n",
              "147341         2023-03-01                    NaN     NaN       1      43  \n",
              "147342         2023-04-01                    NaN     NaN       1      44  \n",
              "147343         2023-05-01                    NaN     NaN       1      45  \n",
              "147344         2023-06-01                    NaN     NaN       1      46  \n",
              "\n",
              "[147345 rows x 10 columns]"
            ]
          },
          "execution_count": 5,
          "metadata": {},
          "output_type": "execute_result"
        }
      ],
      "source": [
        "raw"
      ]
    },
    {
      "cell_type": "code",
      "execution_count": 6,
      "id": "Ncb6HN77LBg0",
      "metadata": {
        "colab": {
          "base_uri": "https://localhost:8080/",
          "height": 641
        },
        "id": "Ncb6HN77LBg0",
        "outputId": "bec7aaa1-13e8-4369-a221-0e4b0a3af346"
      },
      "outputs": [
        {
          "data": {
            "text/html": [
              "<div>\n",
              "<style scoped>\n",
              "    .dataframe tbody tr th:only-of-type {\n",
              "        vertical-align: middle;\n",
              "    }\n",
              "\n",
              "    .dataframe tbody tr th {\n",
              "        vertical-align: top;\n",
              "    }\n",
              "\n",
              "    .dataframe thead th {\n",
              "        text-align: right;\n",
              "    }\n",
              "</style>\n",
              "<table border=\"1\" class=\"dataframe\">\n",
              "  <thead>\n",
              "    <tr style=\"text-align: right;\">\n",
              "      <th></th>\n",
              "      <th>row_id</th>\n",
              "      <th>cfips</th>\n",
              "      <th>county</th>\n",
              "      <th>state</th>\n",
              "      <th>first_day_of_month</th>\n",
              "      <th>microbusiness_density</th>\n",
              "      <th>active</th>\n",
              "      <th>istest</th>\n",
              "    </tr>\n",
              "  </thead>\n",
              "  <tbody>\n",
              "    <tr>\n",
              "      <th>0</th>\n",
              "      <td>1001_2019-08-01</td>\n",
              "      <td>1001</td>\n",
              "      <td>Autauga County</td>\n",
              "      <td>Alabama</td>\n",
              "      <td>2019-08-01</td>\n",
              "      <td>3.007682</td>\n",
              "      <td>1249</td>\n",
              "      <td>0</td>\n",
              "    </tr>\n",
              "    <tr>\n",
              "      <th>1</th>\n",
              "      <td>1001_2019-09-01</td>\n",
              "      <td>1001</td>\n",
              "      <td>Autauga County</td>\n",
              "      <td>Alabama</td>\n",
              "      <td>2019-09-01</td>\n",
              "      <td>2.884870</td>\n",
              "      <td>1198</td>\n",
              "      <td>0</td>\n",
              "    </tr>\n",
              "    <tr>\n",
              "      <th>2</th>\n",
              "      <td>1001_2019-10-01</td>\n",
              "      <td>1001</td>\n",
              "      <td>Autauga County</td>\n",
              "      <td>Alabama</td>\n",
              "      <td>2019-10-01</td>\n",
              "      <td>3.055843</td>\n",
              "      <td>1269</td>\n",
              "      <td>0</td>\n",
              "    </tr>\n",
              "    <tr>\n",
              "      <th>3</th>\n",
              "      <td>1001_2019-11-01</td>\n",
              "      <td>1001</td>\n",
              "      <td>Autauga County</td>\n",
              "      <td>Alabama</td>\n",
              "      <td>2019-11-01</td>\n",
              "      <td>2.993233</td>\n",
              "      <td>1243</td>\n",
              "      <td>0</td>\n",
              "    </tr>\n",
              "    <tr>\n",
              "      <th>4</th>\n",
              "      <td>1001_2019-12-01</td>\n",
              "      <td>1001</td>\n",
              "      <td>Autauga County</td>\n",
              "      <td>Alabama</td>\n",
              "      <td>2019-12-01</td>\n",
              "      <td>2.993233</td>\n",
              "      <td>1243</td>\n",
              "      <td>0</td>\n",
              "    </tr>\n",
              "    <tr>\n",
              "      <th>...</th>\n",
              "      <td>...</td>\n",
              "      <td>...</td>\n",
              "      <td>...</td>\n",
              "      <td>...</td>\n",
              "      <td>...</td>\n",
              "      <td>...</td>\n",
              "      <td>...</td>\n",
              "      <td>...</td>\n",
              "    </tr>\n",
              "    <tr>\n",
              "      <th>122260</th>\n",
              "      <td>56045_2022-06-01</td>\n",
              "      <td>56045</td>\n",
              "      <td>Weston County</td>\n",
              "      <td>Wyoming</td>\n",
              "      <td>2022-06-01</td>\n",
              "      <td>1.803249</td>\n",
              "      <td>101</td>\n",
              "      <td>0</td>\n",
              "    </tr>\n",
              "    <tr>\n",
              "      <th>122261</th>\n",
              "      <td>56045_2022-07-01</td>\n",
              "      <td>56045</td>\n",
              "      <td>Weston County</td>\n",
              "      <td>Wyoming</td>\n",
              "      <td>2022-07-01</td>\n",
              "      <td>1.803249</td>\n",
              "      <td>101</td>\n",
              "      <td>0</td>\n",
              "    </tr>\n",
              "    <tr>\n",
              "      <th>122262</th>\n",
              "      <td>56045_2022-08-01</td>\n",
              "      <td>56045</td>\n",
              "      <td>Weston County</td>\n",
              "      <td>Wyoming</td>\n",
              "      <td>2022-08-01</td>\n",
              "      <td>1.785395</td>\n",
              "      <td>100</td>\n",
              "      <td>0</td>\n",
              "    </tr>\n",
              "    <tr>\n",
              "      <th>122263</th>\n",
              "      <td>56045_2022-09-01</td>\n",
              "      <td>56045</td>\n",
              "      <td>Weston County</td>\n",
              "      <td>Wyoming</td>\n",
              "      <td>2022-09-01</td>\n",
              "      <td>1.785395</td>\n",
              "      <td>100</td>\n",
              "      <td>0</td>\n",
              "    </tr>\n",
              "    <tr>\n",
              "      <th>122264</th>\n",
              "      <td>56045_2022-10-01</td>\n",
              "      <td>56045</td>\n",
              "      <td>Weston County</td>\n",
              "      <td>Wyoming</td>\n",
              "      <td>2022-10-01</td>\n",
              "      <td>1.785395</td>\n",
              "      <td>100</td>\n",
              "      <td>0</td>\n",
              "    </tr>\n",
              "  </tbody>\n",
              "</table>\n",
              "<p>122265 rows × 8 columns</p>\n",
              "</div>"
            ],
            "text/plain": [
              "                  row_id  cfips          county    state first_day_of_month  \\\n",
              "0        1001_2019-08-01   1001  Autauga County  Alabama         2019-08-01   \n",
              "1        1001_2019-09-01   1001  Autauga County  Alabama         2019-09-01   \n",
              "2        1001_2019-10-01   1001  Autauga County  Alabama         2019-10-01   \n",
              "3        1001_2019-11-01   1001  Autauga County  Alabama         2019-11-01   \n",
              "4        1001_2019-12-01   1001  Autauga County  Alabama         2019-12-01   \n",
              "...                  ...    ...             ...      ...                ...   \n",
              "122260  56045_2022-06-01  56045   Weston County  Wyoming         2022-06-01   \n",
              "122261  56045_2022-07-01  56045   Weston County  Wyoming         2022-07-01   \n",
              "122262  56045_2022-08-01  56045   Weston County  Wyoming         2022-08-01   \n",
              "122263  56045_2022-09-01  56045   Weston County  Wyoming         2022-09-01   \n",
              "122264  56045_2022-10-01  56045   Weston County  Wyoming         2022-10-01   \n",
              "\n",
              "        microbusiness_density  active  istest  \n",
              "0                    3.007682    1249       0  \n",
              "1                    2.884870    1198       0  \n",
              "2                    3.055843    1269       0  \n",
              "3                    2.993233    1243       0  \n",
              "4                    2.993233    1243       0  \n",
              "...                       ...     ...     ...  \n",
              "122260               1.803249     101       0  \n",
              "122261               1.803249     101       0  \n",
              "122262               1.785395     100       0  \n",
              "122263               1.785395     100       0  \n",
              "122264               1.785395     100       0  \n",
              "\n",
              "[122265 rows x 8 columns]"
            ]
          },
          "execution_count": 6,
          "metadata": {},
          "output_type": "execute_result"
        }
      ],
      "source": [
        "train"
      ]
    },
    {
      "cell_type": "code",
      "execution_count": 7,
      "id": "VgosLWF4PlUZ",
      "metadata": {
        "id": "VgosLWF4PlUZ"
      },
      "outputs": [],
      "source": [
        "coordinate = pd.read_excel(\"us-county-boundaries.xlsx\")"
      ]
    },
    {
      "cell_type": "code",
      "execution_count": 8,
      "id": "0uGvQNdLemGt",
      "metadata": {
        "id": "0uGvQNdLemGt"
      },
      "outputs": [],
      "source": [
        "coordinate = coordinate.sort_values(by=\"GEOID\").loc[coordinate[\"GEOID\"]<=56045].reset_index()"
      ]
    },
    {
      "cell_type": "code",
      "execution_count": 9,
      "id": "nYLlqeFzhR3U",
      "metadata": {
        "colab": {
          "base_uri": "https://localhost:8080/",
          "height": 852
        },
        "id": "nYLlqeFzhR3U",
        "outputId": "18e5eadb-1f9c-4e03-c8ec-47fa04160b35"
      },
      "outputs": [
        {
          "data": {
            "text/html": [
              "<div>\n",
              "<style scoped>\n",
              "    .dataframe tbody tr th:only-of-type {\n",
              "        vertical-align: middle;\n",
              "    }\n",
              "\n",
              "    .dataframe tbody tr th {\n",
              "        vertical-align: top;\n",
              "    }\n",
              "\n",
              "    .dataframe thead th {\n",
              "        text-align: right;\n",
              "    }\n",
              "</style>\n",
              "<table border=\"1\" class=\"dataframe\">\n",
              "  <thead>\n",
              "    <tr style=\"text-align: right;\">\n",
              "      <th></th>\n",
              "      <th>index</th>\n",
              "      <th>Geo Point</th>\n",
              "      <th>Geo Shape</th>\n",
              "      <th>STATEFP</th>\n",
              "      <th>COUNTYFP</th>\n",
              "      <th>COUNTYNS</th>\n",
              "      <th>GEOID</th>\n",
              "      <th>NAME</th>\n",
              "      <th>NAMELSAD</th>\n",
              "      <th>STUSAB</th>\n",
              "      <th>...</th>\n",
              "      <th>CSAFP</th>\n",
              "      <th>CBSAFP</th>\n",
              "      <th>METDIVFP</th>\n",
              "      <th>FUNCSTAT</th>\n",
              "      <th>ALAND</th>\n",
              "      <th>AWATER</th>\n",
              "      <th>INTPTLAT</th>\n",
              "      <th>INTPTLON</th>\n",
              "      <th>STATE_NAME</th>\n",
              "      <th>COUNTYFP NOZERO</th>\n",
              "    </tr>\n",
              "  </thead>\n",
              "  <tbody>\n",
              "    <tr>\n",
              "      <th>0</th>\n",
              "      <td>748</td>\n",
              "      <td>32.5349201866, -86.642749235</td>\n",
              "      <td>{\"coordinates\":[[[-86.903096,32.540626],[-86.9...</td>\n",
              "      <td>1</td>\n",
              "      <td>1</td>\n",
              "      <td>161526</td>\n",
              "      <td>1001</td>\n",
              "      <td>Autauga</td>\n",
              "      <td>Autauga County</td>\n",
              "      <td>AL</td>\n",
              "      <td>...</td>\n",
              "      <td>388.0</td>\n",
              "      <td>33860.0</td>\n",
              "      <td>NaN</td>\n",
              "      <td>A</td>\n",
              "      <td>1539602137</td>\n",
              "      <td>25706961</td>\n",
              "      <td>32.532237</td>\n",
              "      <td>-86.646439</td>\n",
              "      <td>Alabama</td>\n",
              "      <td>1</td>\n",
              "    </tr>\n",
              "    <tr>\n",
              "      <th>1</th>\n",
              "      <td>638</td>\n",
              "      <td>30.6609696648, -87.7498400784</td>\n",
              "      <td>{\"coordinates\":[[[-87.990684,30.55549],[-87.99...</td>\n",
              "      <td>1</td>\n",
              "      <td>3</td>\n",
              "      <td>161527</td>\n",
              "      <td>1003</td>\n",
              "      <td>Baldwin</td>\n",
              "      <td>Baldwin County</td>\n",
              "      <td>AL</td>\n",
              "      <td>...</td>\n",
              "      <td>380.0</td>\n",
              "      <td>19300.0</td>\n",
              "      <td>NaN</td>\n",
              "      <td>A</td>\n",
              "      <td>4117621645</td>\n",
              "      <td>1132980868</td>\n",
              "      <td>30.659218</td>\n",
              "      <td>-87.746067</td>\n",
              "      <td>Alabama</td>\n",
              "      <td>3</td>\n",
              "    </tr>\n",
              "    <tr>\n",
              "      <th>2</th>\n",
              "      <td>772</td>\n",
              "      <td>31.8696032448, -85.3931969755</td>\n",
              "      <td>{\"coordinates\":[[[-85.429819,32.045983],[-85.4...</td>\n",
              "      <td>1</td>\n",
              "      <td>5</td>\n",
              "      <td>161528</td>\n",
              "      <td>1005</td>\n",
              "      <td>Barbour</td>\n",
              "      <td>Barbour County</td>\n",
              "      <td>AL</td>\n",
              "      <td>...</td>\n",
              "      <td>NaN</td>\n",
              "      <td>21640.0</td>\n",
              "      <td>NaN</td>\n",
              "      <td>A</td>\n",
              "      <td>2292160139</td>\n",
              "      <td>50523213</td>\n",
              "      <td>31.870253</td>\n",
              "      <td>-85.405103</td>\n",
              "      <td>Alabama</td>\n",
              "      <td>5</td>\n",
              "    </tr>\n",
              "    <tr>\n",
              "      <th>3</th>\n",
              "      <td>1395</td>\n",
              "      <td>32.9986442965, -87.1264391014</td>\n",
              "      <td>{\"coordinates\":[[[-87.312265,33.086219],[-87.3...</td>\n",
              "      <td>1</td>\n",
              "      <td>7</td>\n",
              "      <td>161529</td>\n",
              "      <td>1007</td>\n",
              "      <td>Bibb</td>\n",
              "      <td>Bibb County</td>\n",
              "      <td>AL</td>\n",
              "      <td>...</td>\n",
              "      <td>142.0</td>\n",
              "      <td>13820.0</td>\n",
              "      <td>NaN</td>\n",
              "      <td>A</td>\n",
              "      <td>1612167476</td>\n",
              "      <td>9602089</td>\n",
              "      <td>33.015893</td>\n",
              "      <td>-87.127148</td>\n",
              "      <td>Alabama</td>\n",
              "      <td>7</td>\n",
              "    </tr>\n",
              "    <tr>\n",
              "      <th>4</th>\n",
              "      <td>1876</td>\n",
              "      <td>33.9808673856, -86.5673709608</td>\n",
              "      <td>{\"coordinates\":[[[-86.749188,33.997596],[-86.7...</td>\n",
              "      <td>1</td>\n",
              "      <td>9</td>\n",
              "      <td>161530</td>\n",
              "      <td>1009</td>\n",
              "      <td>Blount</td>\n",
              "      <td>Blount County</td>\n",
              "      <td>AL</td>\n",
              "      <td>...</td>\n",
              "      <td>142.0</td>\n",
              "      <td>13820.0</td>\n",
              "      <td>NaN</td>\n",
              "      <td>A</td>\n",
              "      <td>1670103866</td>\n",
              "      <td>15015467</td>\n",
              "      <td>33.977357</td>\n",
              "      <td>-86.566440</td>\n",
              "      <td>Alabama</td>\n",
              "      <td>9</td>\n",
              "    </tr>\n",
              "    <tr>\n",
              "      <th>...</th>\n",
              "      <td>...</td>\n",
              "      <td>...</td>\n",
              "      <td>...</td>\n",
              "      <td>...</td>\n",
              "      <td>...</td>\n",
              "      <td>...</td>\n",
              "      <td>...</td>\n",
              "      <td>...</td>\n",
              "      <td>...</td>\n",
              "      <td>...</td>\n",
              "      <td>...</td>\n",
              "      <td>...</td>\n",
              "      <td>...</td>\n",
              "      <td>...</td>\n",
              "      <td>...</td>\n",
              "      <td>...</td>\n",
              "      <td>...</td>\n",
              "      <td>...</td>\n",
              "      <td>...</td>\n",
              "      <td>...</td>\n",
              "      <td>...</td>\n",
              "    </tr>\n",
              "    <tr>\n",
              "      <th>3137</th>\n",
              "      <td>632</td>\n",
              "      <td>41.6594961424, -108.879430782</td>\n",
              "      <td>{\"coordinates\":[[[-109.49666,42.263319],[-109....</td>\n",
              "      <td>56</td>\n",
              "      <td>37</td>\n",
              "      <td>1609192</td>\n",
              "      <td>56037</td>\n",
              "      <td>Sweetwater</td>\n",
              "      <td>Sweetwater County</td>\n",
              "      <td>WY</td>\n",
              "      <td>...</td>\n",
              "      <td>NaN</td>\n",
              "      <td>40540.0</td>\n",
              "      <td>NaN</td>\n",
              "      <td>A</td>\n",
              "      <td>27005754251</td>\n",
              "      <td>166230252</td>\n",
              "      <td>41.660328</td>\n",
              "      <td>-108.875677</td>\n",
              "      <td>Wyoming</td>\n",
              "      <td>37</td>\n",
              "    </tr>\n",
              "    <tr>\n",
              "      <th>3138</th>\n",
              "      <td>2877</td>\n",
              "      <td>43.9346374164, -110.589809669</td>\n",
              "      <td>{\"coordinates\":[[[-111.049091,44.132368],[-111...</td>\n",
              "      <td>56</td>\n",
              "      <td>39</td>\n",
              "      <td>1605083</td>\n",
              "      <td>56039</td>\n",
              "      <td>Teton</td>\n",
              "      <td>Teton County</td>\n",
              "      <td>WY</td>\n",
              "      <td>...</td>\n",
              "      <td>NaN</td>\n",
              "      <td>27220.0</td>\n",
              "      <td>NaN</td>\n",
              "      <td>A</td>\n",
              "      <td>10351784298</td>\n",
              "      <td>570864879</td>\n",
              "      <td>44.048662</td>\n",
              "      <td>-110.426087</td>\n",
              "      <td>Wyoming</td>\n",
              "      <td>39</td>\n",
              "    </tr>\n",
              "    <tr>\n",
              "      <th>3139</th>\n",
              "      <td>1854</td>\n",
              "      <td>41.287491921, -110.547561693</td>\n",
              "      <td>{\"coordinates\":[[[-110.606794,40.996255],[-110...</td>\n",
              "      <td>56</td>\n",
              "      <td>41</td>\n",
              "      <td>1605084</td>\n",
              "      <td>56041</td>\n",
              "      <td>Uinta</td>\n",
              "      <td>Uinta County</td>\n",
              "      <td>WY</td>\n",
              "      <td>...</td>\n",
              "      <td>NaN</td>\n",
              "      <td>21740.0</td>\n",
              "      <td>NaN</td>\n",
              "      <td>A</td>\n",
              "      <td>5391631765</td>\n",
              "      <td>16625817</td>\n",
              "      <td>41.284726</td>\n",
              "      <td>-110.558947</td>\n",
              "      <td>Wyoming</td>\n",
              "      <td>41</td>\n",
              "    </tr>\n",
              "    <tr>\n",
              "      <th>3140</th>\n",
              "      <td>1189</td>\n",
              "      <td>43.9049970086, -107.68286072</td>\n",
              "      <td>{\"coordinates\":[[[-107.63349,43.64634],[-107.6...</td>\n",
              "      <td>56</td>\n",
              "      <td>43</td>\n",
              "      <td>1605085</td>\n",
              "      <td>56043</td>\n",
              "      <td>Washakie</td>\n",
              "      <td>Washakie County</td>\n",
              "      <td>WY</td>\n",
              "      <td>...</td>\n",
              "      <td>NaN</td>\n",
              "      <td>NaN</td>\n",
              "      <td>NaN</td>\n",
              "      <td>A</td>\n",
              "      <td>5798138761</td>\n",
              "      <td>10429604</td>\n",
              "      <td>43.878830</td>\n",
              "      <td>-107.669052</td>\n",
              "      <td>Wyoming</td>\n",
              "      <td>43</td>\n",
              "    </tr>\n",
              "    <tr>\n",
              "      <th>3141</th>\n",
              "      <td>555</td>\n",
              "      <td>43.8404850615, -104.567830048</td>\n",
              "      <td>{\"coordinates\":[[[-105.079133,43.813006],[-105...</td>\n",
              "      <td>56</td>\n",
              "      <td>45</td>\n",
              "      <td>1605086</td>\n",
              "      <td>56045</td>\n",
              "      <td>Weston</td>\n",
              "      <td>Weston County</td>\n",
              "      <td>WY</td>\n",
              "      <td>...</td>\n",
              "      <td>NaN</td>\n",
              "      <td>23940.0</td>\n",
              "      <td>NaN</td>\n",
              "      <td>A</td>\n",
              "      <td>6210804117</td>\n",
              "      <td>5225499</td>\n",
              "      <td>43.846213</td>\n",
              "      <td>-104.570020</td>\n",
              "      <td>Wyoming</td>\n",
              "      <td>45</td>\n",
              "    </tr>\n",
              "  </tbody>\n",
              "</table>\n",
              "<p>3142 rows × 23 columns</p>\n",
              "</div>"
            ],
            "text/plain": [
              "      index                      Geo Point  \\\n",
              "0       748   32.5349201866, -86.642749235   \n",
              "1       638  30.6609696648, -87.7498400784   \n",
              "2       772  31.8696032448, -85.3931969755   \n",
              "3      1395  32.9986442965, -87.1264391014   \n",
              "4      1876  33.9808673856, -86.5673709608   \n",
              "...     ...                            ...   \n",
              "3137    632  41.6594961424, -108.879430782   \n",
              "3138   2877  43.9346374164, -110.589809669   \n",
              "3139   1854   41.287491921, -110.547561693   \n",
              "3140   1189   43.9049970086, -107.68286072   \n",
              "3141    555  43.8404850615, -104.567830048   \n",
              "\n",
              "                                              Geo Shape  STATEFP  COUNTYFP  \\\n",
              "0     {\"coordinates\":[[[-86.903096,32.540626],[-86.9...        1         1   \n",
              "1     {\"coordinates\":[[[-87.990684,30.55549],[-87.99...        1         3   \n",
              "2     {\"coordinates\":[[[-85.429819,32.045983],[-85.4...        1         5   \n",
              "3     {\"coordinates\":[[[-87.312265,33.086219],[-87.3...        1         7   \n",
              "4     {\"coordinates\":[[[-86.749188,33.997596],[-86.7...        1         9   \n",
              "...                                                 ...      ...       ...   \n",
              "3137  {\"coordinates\":[[[-109.49666,42.263319],[-109....       56        37   \n",
              "3138  {\"coordinates\":[[[-111.049091,44.132368],[-111...       56        39   \n",
              "3139  {\"coordinates\":[[[-110.606794,40.996255],[-110...       56        41   \n",
              "3140  {\"coordinates\":[[[-107.63349,43.64634],[-107.6...       56        43   \n",
              "3141  {\"coordinates\":[[[-105.079133,43.813006],[-105...       56        45   \n",
              "\n",
              "      COUNTYNS  GEOID        NAME           NAMELSAD STUSAB  ...  CSAFP  \\\n",
              "0       161526   1001     Autauga     Autauga County     AL  ...  388.0   \n",
              "1       161527   1003     Baldwin     Baldwin County     AL  ...  380.0   \n",
              "2       161528   1005     Barbour     Barbour County     AL  ...    NaN   \n",
              "3       161529   1007        Bibb        Bibb County     AL  ...  142.0   \n",
              "4       161530   1009      Blount      Blount County     AL  ...  142.0   \n",
              "...        ...    ...         ...                ...    ...  ...    ...   \n",
              "3137   1609192  56037  Sweetwater  Sweetwater County     WY  ...    NaN   \n",
              "3138   1605083  56039       Teton       Teton County     WY  ...    NaN   \n",
              "3139   1605084  56041       Uinta       Uinta County     WY  ...    NaN   \n",
              "3140   1605085  56043    Washakie    Washakie County     WY  ...    NaN   \n",
              "3141   1605086  56045      Weston      Weston County     WY  ...    NaN   \n",
              "\n",
              "       CBSAFP METDIVFP  FUNCSTAT        ALAND      AWATER   INTPTLAT  \\\n",
              "0     33860.0      NaN         A   1539602137    25706961  32.532237   \n",
              "1     19300.0      NaN         A   4117621645  1132980868  30.659218   \n",
              "2     21640.0      NaN         A   2292160139    50523213  31.870253   \n",
              "3     13820.0      NaN         A   1612167476     9602089  33.015893   \n",
              "4     13820.0      NaN         A   1670103866    15015467  33.977357   \n",
              "...       ...      ...       ...          ...         ...        ...   \n",
              "3137  40540.0      NaN         A  27005754251   166230252  41.660328   \n",
              "3138  27220.0      NaN         A  10351784298   570864879  44.048662   \n",
              "3139  21740.0      NaN         A   5391631765    16625817  41.284726   \n",
              "3140      NaN      NaN         A   5798138761    10429604  43.878830   \n",
              "3141  23940.0      NaN         A   6210804117     5225499  43.846213   \n",
              "\n",
              "        INTPTLON  STATE_NAME  COUNTYFP NOZERO  \n",
              "0     -86.646439     Alabama                1  \n",
              "1     -87.746067     Alabama                3  \n",
              "2     -85.405103     Alabama                5  \n",
              "3     -87.127148     Alabama                7  \n",
              "4     -86.566440     Alabama                9  \n",
              "...          ...         ...              ...  \n",
              "3137 -108.875677     Wyoming               37  \n",
              "3138 -110.426087     Wyoming               39  \n",
              "3139 -110.558947     Wyoming               41  \n",
              "3140 -107.669052     Wyoming               43  \n",
              "3141 -104.570020     Wyoming               45  \n",
              "\n",
              "[3142 rows x 23 columns]"
            ]
          },
          "execution_count": 9,
          "metadata": {},
          "output_type": "execute_result"
        }
      ],
      "source": [
        "coordinate"
      ]
    },
    {
      "cell_type": "code",
      "execution_count": 10,
      "id": "GFZUawhdiBu6",
      "metadata": {
        "id": "GFZUawhdiBu6"
      },
      "outputs": [],
      "source": [
        "li = []\n",
        "for i in range(1001, 56047):\n",
        "  if i in test[\"cfips\"].unique():\n",
        "    li.append(i)"
      ]
    },
    {
      "cell_type": "code",
      "execution_count": 11,
      "id": "Kgzg7gAuibTL",
      "metadata": {
        "id": "Kgzg7gAuibTL"
      },
      "outputs": [],
      "source": [
        "for i in li:\n",
        "  coordinate[coordinate[\"GEOID\"] == i]"
      ]
    },
    {
      "cell_type": "code",
      "execution_count": 12,
      "id": "yj_oZAJQi8Mu",
      "metadata": {
        "id": "yj_oZAJQi8Mu"
      },
      "outputs": [],
      "source": [
        "coordinate[\"GEOID\"].values\n",
        "array = np.array(li)"
      ]
    },
    {
      "cell_type": "code",
      "execution_count": 13,
      "id": "7jTw-VufmuWh",
      "metadata": {
        "id": "7jTw-VufmuWh"
      },
      "outputs": [],
      "source": [
        "for i in coordinate[\"GEOID\"].values:\n",
        "  if i not in array:\n",
        "    coordinate = coordinate[coordinate[\"GEOID\"] != i]"
      ]
    },
    {
      "cell_type": "code",
      "execution_count": 14,
      "id": "A5z91QFunAbd",
      "metadata": {
        "colab": {
          "base_uri": "https://localhost:8080/",
          "height": 852
        },
        "id": "A5z91QFunAbd",
        "outputId": "8c653387-8275-4874-ddf3-1ee861d0919c"
      },
      "outputs": [
        {
          "data": {
            "text/html": [
              "<div>\n",
              "<style scoped>\n",
              "    .dataframe tbody tr th:only-of-type {\n",
              "        vertical-align: middle;\n",
              "    }\n",
              "\n",
              "    .dataframe tbody tr th {\n",
              "        vertical-align: top;\n",
              "    }\n",
              "\n",
              "    .dataframe thead th {\n",
              "        text-align: right;\n",
              "    }\n",
              "</style>\n",
              "<table border=\"1\" class=\"dataframe\">\n",
              "  <thead>\n",
              "    <tr style=\"text-align: right;\">\n",
              "      <th></th>\n",
              "      <th>index</th>\n",
              "      <th>Geo Point</th>\n",
              "      <th>Geo Shape</th>\n",
              "      <th>STATEFP</th>\n",
              "      <th>COUNTYFP</th>\n",
              "      <th>COUNTYNS</th>\n",
              "      <th>GEOID</th>\n",
              "      <th>NAME</th>\n",
              "      <th>NAMELSAD</th>\n",
              "      <th>STUSAB</th>\n",
              "      <th>...</th>\n",
              "      <th>CSAFP</th>\n",
              "      <th>CBSAFP</th>\n",
              "      <th>METDIVFP</th>\n",
              "      <th>FUNCSTAT</th>\n",
              "      <th>ALAND</th>\n",
              "      <th>AWATER</th>\n",
              "      <th>INTPTLAT</th>\n",
              "      <th>INTPTLON</th>\n",
              "      <th>STATE_NAME</th>\n",
              "      <th>COUNTYFP NOZERO</th>\n",
              "    </tr>\n",
              "  </thead>\n",
              "  <tbody>\n",
              "    <tr>\n",
              "      <th>0</th>\n",
              "      <td>748</td>\n",
              "      <td>32.5349201866, -86.642749235</td>\n",
              "      <td>{\"coordinates\":[[[-86.903096,32.540626],[-86.9...</td>\n",
              "      <td>1</td>\n",
              "      <td>1</td>\n",
              "      <td>161526</td>\n",
              "      <td>1001</td>\n",
              "      <td>Autauga</td>\n",
              "      <td>Autauga County</td>\n",
              "      <td>AL</td>\n",
              "      <td>...</td>\n",
              "      <td>388.0</td>\n",
              "      <td>33860.0</td>\n",
              "      <td>NaN</td>\n",
              "      <td>A</td>\n",
              "      <td>1539602137</td>\n",
              "      <td>25706961</td>\n",
              "      <td>32.532237</td>\n",
              "      <td>-86.646439</td>\n",
              "      <td>Alabama</td>\n",
              "      <td>1</td>\n",
              "    </tr>\n",
              "    <tr>\n",
              "      <th>1</th>\n",
              "      <td>638</td>\n",
              "      <td>30.6609696648, -87.7498400784</td>\n",
              "      <td>{\"coordinates\":[[[-87.990684,30.55549],[-87.99...</td>\n",
              "      <td>1</td>\n",
              "      <td>3</td>\n",
              "      <td>161527</td>\n",
              "      <td>1003</td>\n",
              "      <td>Baldwin</td>\n",
              "      <td>Baldwin County</td>\n",
              "      <td>AL</td>\n",
              "      <td>...</td>\n",
              "      <td>380.0</td>\n",
              "      <td>19300.0</td>\n",
              "      <td>NaN</td>\n",
              "      <td>A</td>\n",
              "      <td>4117621645</td>\n",
              "      <td>1132980868</td>\n",
              "      <td>30.659218</td>\n",
              "      <td>-87.746067</td>\n",
              "      <td>Alabama</td>\n",
              "      <td>3</td>\n",
              "    </tr>\n",
              "    <tr>\n",
              "      <th>2</th>\n",
              "      <td>772</td>\n",
              "      <td>31.8696032448, -85.3931969755</td>\n",
              "      <td>{\"coordinates\":[[[-85.429819,32.045983],[-85.4...</td>\n",
              "      <td>1</td>\n",
              "      <td>5</td>\n",
              "      <td>161528</td>\n",
              "      <td>1005</td>\n",
              "      <td>Barbour</td>\n",
              "      <td>Barbour County</td>\n",
              "      <td>AL</td>\n",
              "      <td>...</td>\n",
              "      <td>NaN</td>\n",
              "      <td>21640.0</td>\n",
              "      <td>NaN</td>\n",
              "      <td>A</td>\n",
              "      <td>2292160139</td>\n",
              "      <td>50523213</td>\n",
              "      <td>31.870253</td>\n",
              "      <td>-85.405103</td>\n",
              "      <td>Alabama</td>\n",
              "      <td>5</td>\n",
              "    </tr>\n",
              "    <tr>\n",
              "      <th>3</th>\n",
              "      <td>1395</td>\n",
              "      <td>32.9986442965, -87.1264391014</td>\n",
              "      <td>{\"coordinates\":[[[-87.312265,33.086219],[-87.3...</td>\n",
              "      <td>1</td>\n",
              "      <td>7</td>\n",
              "      <td>161529</td>\n",
              "      <td>1007</td>\n",
              "      <td>Bibb</td>\n",
              "      <td>Bibb County</td>\n",
              "      <td>AL</td>\n",
              "      <td>...</td>\n",
              "      <td>142.0</td>\n",
              "      <td>13820.0</td>\n",
              "      <td>NaN</td>\n",
              "      <td>A</td>\n",
              "      <td>1612167476</td>\n",
              "      <td>9602089</td>\n",
              "      <td>33.015893</td>\n",
              "      <td>-87.127148</td>\n",
              "      <td>Alabama</td>\n",
              "      <td>7</td>\n",
              "    </tr>\n",
              "    <tr>\n",
              "      <th>4</th>\n",
              "      <td>1876</td>\n",
              "      <td>33.9808673856, -86.5673709608</td>\n",
              "      <td>{\"coordinates\":[[[-86.749188,33.997596],[-86.7...</td>\n",
              "      <td>1</td>\n",
              "      <td>9</td>\n",
              "      <td>161530</td>\n",
              "      <td>1009</td>\n",
              "      <td>Blount</td>\n",
              "      <td>Blount County</td>\n",
              "      <td>AL</td>\n",
              "      <td>...</td>\n",
              "      <td>142.0</td>\n",
              "      <td>13820.0</td>\n",
              "      <td>NaN</td>\n",
              "      <td>A</td>\n",
              "      <td>1670103866</td>\n",
              "      <td>15015467</td>\n",
              "      <td>33.977357</td>\n",
              "      <td>-86.566440</td>\n",
              "      <td>Alabama</td>\n",
              "      <td>9</td>\n",
              "    </tr>\n",
              "    <tr>\n",
              "      <th>...</th>\n",
              "      <td>...</td>\n",
              "      <td>...</td>\n",
              "      <td>...</td>\n",
              "      <td>...</td>\n",
              "      <td>...</td>\n",
              "      <td>...</td>\n",
              "      <td>...</td>\n",
              "      <td>...</td>\n",
              "      <td>...</td>\n",
              "      <td>...</td>\n",
              "      <td>...</td>\n",
              "      <td>...</td>\n",
              "      <td>...</td>\n",
              "      <td>...</td>\n",
              "      <td>...</td>\n",
              "      <td>...</td>\n",
              "      <td>...</td>\n",
              "      <td>...</td>\n",
              "      <td>...</td>\n",
              "      <td>...</td>\n",
              "      <td>...</td>\n",
              "    </tr>\n",
              "    <tr>\n",
              "      <th>3137</th>\n",
              "      <td>632</td>\n",
              "      <td>41.6594961424, -108.879430782</td>\n",
              "      <td>{\"coordinates\":[[[-109.49666,42.263319],[-109....</td>\n",
              "      <td>56</td>\n",
              "      <td>37</td>\n",
              "      <td>1609192</td>\n",
              "      <td>56037</td>\n",
              "      <td>Sweetwater</td>\n",
              "      <td>Sweetwater County</td>\n",
              "      <td>WY</td>\n",
              "      <td>...</td>\n",
              "      <td>NaN</td>\n",
              "      <td>40540.0</td>\n",
              "      <td>NaN</td>\n",
              "      <td>A</td>\n",
              "      <td>27005754251</td>\n",
              "      <td>166230252</td>\n",
              "      <td>41.660328</td>\n",
              "      <td>-108.875677</td>\n",
              "      <td>Wyoming</td>\n",
              "      <td>37</td>\n",
              "    </tr>\n",
              "    <tr>\n",
              "      <th>3138</th>\n",
              "      <td>2877</td>\n",
              "      <td>43.9346374164, -110.589809669</td>\n",
              "      <td>{\"coordinates\":[[[-111.049091,44.132368],[-111...</td>\n",
              "      <td>56</td>\n",
              "      <td>39</td>\n",
              "      <td>1605083</td>\n",
              "      <td>56039</td>\n",
              "      <td>Teton</td>\n",
              "      <td>Teton County</td>\n",
              "      <td>WY</td>\n",
              "      <td>...</td>\n",
              "      <td>NaN</td>\n",
              "      <td>27220.0</td>\n",
              "      <td>NaN</td>\n",
              "      <td>A</td>\n",
              "      <td>10351784298</td>\n",
              "      <td>570864879</td>\n",
              "      <td>44.048662</td>\n",
              "      <td>-110.426087</td>\n",
              "      <td>Wyoming</td>\n",
              "      <td>39</td>\n",
              "    </tr>\n",
              "    <tr>\n",
              "      <th>3139</th>\n",
              "      <td>1854</td>\n",
              "      <td>41.287491921, -110.547561693</td>\n",
              "      <td>{\"coordinates\":[[[-110.606794,40.996255],[-110...</td>\n",
              "      <td>56</td>\n",
              "      <td>41</td>\n",
              "      <td>1605084</td>\n",
              "      <td>56041</td>\n",
              "      <td>Uinta</td>\n",
              "      <td>Uinta County</td>\n",
              "      <td>WY</td>\n",
              "      <td>...</td>\n",
              "      <td>NaN</td>\n",
              "      <td>21740.0</td>\n",
              "      <td>NaN</td>\n",
              "      <td>A</td>\n",
              "      <td>5391631765</td>\n",
              "      <td>16625817</td>\n",
              "      <td>41.284726</td>\n",
              "      <td>-110.558947</td>\n",
              "      <td>Wyoming</td>\n",
              "      <td>41</td>\n",
              "    </tr>\n",
              "    <tr>\n",
              "      <th>3140</th>\n",
              "      <td>1189</td>\n",
              "      <td>43.9049970086, -107.68286072</td>\n",
              "      <td>{\"coordinates\":[[[-107.63349,43.64634],[-107.6...</td>\n",
              "      <td>56</td>\n",
              "      <td>43</td>\n",
              "      <td>1605085</td>\n",
              "      <td>56043</td>\n",
              "      <td>Washakie</td>\n",
              "      <td>Washakie County</td>\n",
              "      <td>WY</td>\n",
              "      <td>...</td>\n",
              "      <td>NaN</td>\n",
              "      <td>NaN</td>\n",
              "      <td>NaN</td>\n",
              "      <td>A</td>\n",
              "      <td>5798138761</td>\n",
              "      <td>10429604</td>\n",
              "      <td>43.878830</td>\n",
              "      <td>-107.669052</td>\n",
              "      <td>Wyoming</td>\n",
              "      <td>43</td>\n",
              "    </tr>\n",
              "    <tr>\n",
              "      <th>3141</th>\n",
              "      <td>555</td>\n",
              "      <td>43.8404850615, -104.567830048</td>\n",
              "      <td>{\"coordinates\":[[[-105.079133,43.813006],[-105...</td>\n",
              "      <td>56</td>\n",
              "      <td>45</td>\n",
              "      <td>1605086</td>\n",
              "      <td>56045</td>\n",
              "      <td>Weston</td>\n",
              "      <td>Weston County</td>\n",
              "      <td>WY</td>\n",
              "      <td>...</td>\n",
              "      <td>NaN</td>\n",
              "      <td>23940.0</td>\n",
              "      <td>NaN</td>\n",
              "      <td>A</td>\n",
              "      <td>6210804117</td>\n",
              "      <td>5225499</td>\n",
              "      <td>43.846213</td>\n",
              "      <td>-104.570020</td>\n",
              "      <td>Wyoming</td>\n",
              "      <td>45</td>\n",
              "    </tr>\n",
              "  </tbody>\n",
              "</table>\n",
              "<p>3135 rows × 23 columns</p>\n",
              "</div>"
            ],
            "text/plain": [
              "      index                      Geo Point  \\\n",
              "0       748   32.5349201866, -86.642749235   \n",
              "1       638  30.6609696648, -87.7498400784   \n",
              "2       772  31.8696032448, -85.3931969755   \n",
              "3      1395  32.9986442965, -87.1264391014   \n",
              "4      1876  33.9808673856, -86.5673709608   \n",
              "...     ...                            ...   \n",
              "3137    632  41.6594961424, -108.879430782   \n",
              "3138   2877  43.9346374164, -110.589809669   \n",
              "3139   1854   41.287491921, -110.547561693   \n",
              "3140   1189   43.9049970086, -107.68286072   \n",
              "3141    555  43.8404850615, -104.567830048   \n",
              "\n",
              "                                              Geo Shape  STATEFP  COUNTYFP  \\\n",
              "0     {\"coordinates\":[[[-86.903096,32.540626],[-86.9...        1         1   \n",
              "1     {\"coordinates\":[[[-87.990684,30.55549],[-87.99...        1         3   \n",
              "2     {\"coordinates\":[[[-85.429819,32.045983],[-85.4...        1         5   \n",
              "3     {\"coordinates\":[[[-87.312265,33.086219],[-87.3...        1         7   \n",
              "4     {\"coordinates\":[[[-86.749188,33.997596],[-86.7...        1         9   \n",
              "...                                                 ...      ...       ...   \n",
              "3137  {\"coordinates\":[[[-109.49666,42.263319],[-109....       56        37   \n",
              "3138  {\"coordinates\":[[[-111.049091,44.132368],[-111...       56        39   \n",
              "3139  {\"coordinates\":[[[-110.606794,40.996255],[-110...       56        41   \n",
              "3140  {\"coordinates\":[[[-107.63349,43.64634],[-107.6...       56        43   \n",
              "3141  {\"coordinates\":[[[-105.079133,43.813006],[-105...       56        45   \n",
              "\n",
              "      COUNTYNS  GEOID        NAME           NAMELSAD STUSAB  ...  CSAFP  \\\n",
              "0       161526   1001     Autauga     Autauga County     AL  ...  388.0   \n",
              "1       161527   1003     Baldwin     Baldwin County     AL  ...  380.0   \n",
              "2       161528   1005     Barbour     Barbour County     AL  ...    NaN   \n",
              "3       161529   1007        Bibb        Bibb County     AL  ...  142.0   \n",
              "4       161530   1009      Blount      Blount County     AL  ...  142.0   \n",
              "...        ...    ...         ...                ...    ...  ...    ...   \n",
              "3137   1609192  56037  Sweetwater  Sweetwater County     WY  ...    NaN   \n",
              "3138   1605083  56039       Teton       Teton County     WY  ...    NaN   \n",
              "3139   1605084  56041       Uinta       Uinta County     WY  ...    NaN   \n",
              "3140   1605085  56043    Washakie    Washakie County     WY  ...    NaN   \n",
              "3141   1605086  56045      Weston      Weston County     WY  ...    NaN   \n",
              "\n",
              "       CBSAFP METDIVFP  FUNCSTAT        ALAND      AWATER   INTPTLAT  \\\n",
              "0     33860.0      NaN         A   1539602137    25706961  32.532237   \n",
              "1     19300.0      NaN         A   4117621645  1132980868  30.659218   \n",
              "2     21640.0      NaN         A   2292160139    50523213  31.870253   \n",
              "3     13820.0      NaN         A   1612167476     9602089  33.015893   \n",
              "4     13820.0      NaN         A   1670103866    15015467  33.977357   \n",
              "...       ...      ...       ...          ...         ...        ...   \n",
              "3137  40540.0      NaN         A  27005754251   166230252  41.660328   \n",
              "3138  27220.0      NaN         A  10351784298   570864879  44.048662   \n",
              "3139  21740.0      NaN         A   5391631765    16625817  41.284726   \n",
              "3140      NaN      NaN         A   5798138761    10429604  43.878830   \n",
              "3141  23940.0      NaN         A   6210804117     5225499  43.846213   \n",
              "\n",
              "        INTPTLON  STATE_NAME  COUNTYFP NOZERO  \n",
              "0     -86.646439     Alabama                1  \n",
              "1     -87.746067     Alabama                3  \n",
              "2     -85.405103     Alabama                5  \n",
              "3     -87.127148     Alabama                7  \n",
              "4     -86.566440     Alabama                9  \n",
              "...          ...         ...              ...  \n",
              "3137 -108.875677     Wyoming               37  \n",
              "3138 -110.426087     Wyoming               39  \n",
              "3139 -110.558947     Wyoming               41  \n",
              "3140 -107.669052     Wyoming               43  \n",
              "3141 -104.570020     Wyoming               45  \n",
              "\n",
              "[3135 rows x 23 columns]"
            ]
          },
          "execution_count": 14,
          "metadata": {},
          "output_type": "execute_result"
        }
      ],
      "source": [
        "coordinate"
      ]
    },
    {
      "cell_type": "code",
      "execution_count": 15,
      "id": "-P24xxTMncqj",
      "metadata": {
        "id": "-P24xxTMncqj"
      },
      "outputs": [],
      "source": [
        "coordinate = coordinate[[\"GEOID\", \"Geo Point\"]]"
      ]
    },
    {
      "cell_type": "code",
      "execution_count": 16,
      "id": "K3_F5xn1pwPy",
      "metadata": {
        "colab": {
          "base_uri": "https://localhost:8080/",
          "height": 423
        },
        "id": "K3_F5xn1pwPy",
        "outputId": "7e524342-cbb8-4aa7-ecfa-f54d896a4549"
      },
      "outputs": [
        {
          "data": {
            "text/html": [
              "<div>\n",
              "<style scoped>\n",
              "    .dataframe tbody tr th:only-of-type {\n",
              "        vertical-align: middle;\n",
              "    }\n",
              "\n",
              "    .dataframe tbody tr th {\n",
              "        vertical-align: top;\n",
              "    }\n",
              "\n",
              "    .dataframe thead th {\n",
              "        text-align: right;\n",
              "    }\n",
              "</style>\n",
              "<table border=\"1\" class=\"dataframe\">\n",
              "  <thead>\n",
              "    <tr style=\"text-align: right;\">\n",
              "      <th></th>\n",
              "      <th>GEOID</th>\n",
              "      <th>Geo Point</th>\n",
              "    </tr>\n",
              "  </thead>\n",
              "  <tbody>\n",
              "    <tr>\n",
              "      <th>0</th>\n",
              "      <td>1001</td>\n",
              "      <td>32.5349201866, -86.642749235</td>\n",
              "    </tr>\n",
              "    <tr>\n",
              "      <th>1</th>\n",
              "      <td>1003</td>\n",
              "      <td>30.6609696648, -87.7498400784</td>\n",
              "    </tr>\n",
              "    <tr>\n",
              "      <th>2</th>\n",
              "      <td>1005</td>\n",
              "      <td>31.8696032448, -85.3931969755</td>\n",
              "    </tr>\n",
              "    <tr>\n",
              "      <th>3</th>\n",
              "      <td>1007</td>\n",
              "      <td>32.9986442965, -87.1264391014</td>\n",
              "    </tr>\n",
              "    <tr>\n",
              "      <th>4</th>\n",
              "      <td>1009</td>\n",
              "      <td>33.9808673856, -86.5673709608</td>\n",
              "    </tr>\n",
              "    <tr>\n",
              "      <th>...</th>\n",
              "      <td>...</td>\n",
              "      <td>...</td>\n",
              "    </tr>\n",
              "    <tr>\n",
              "      <th>3137</th>\n",
              "      <td>56037</td>\n",
              "      <td>41.6594961424, -108.879430782</td>\n",
              "    </tr>\n",
              "    <tr>\n",
              "      <th>3138</th>\n",
              "      <td>56039</td>\n",
              "      <td>43.9346374164, -110.589809669</td>\n",
              "    </tr>\n",
              "    <tr>\n",
              "      <th>3139</th>\n",
              "      <td>56041</td>\n",
              "      <td>41.287491921, -110.547561693</td>\n",
              "    </tr>\n",
              "    <tr>\n",
              "      <th>3140</th>\n",
              "      <td>56043</td>\n",
              "      <td>43.9049970086, -107.68286072</td>\n",
              "    </tr>\n",
              "    <tr>\n",
              "      <th>3141</th>\n",
              "      <td>56045</td>\n",
              "      <td>43.8404850615, -104.567830048</td>\n",
              "    </tr>\n",
              "  </tbody>\n",
              "</table>\n",
              "<p>3135 rows × 2 columns</p>\n",
              "</div>"
            ],
            "text/plain": [
              "      GEOID                      Geo Point\n",
              "0      1001   32.5349201866, -86.642749235\n",
              "1      1003  30.6609696648, -87.7498400784\n",
              "2      1005  31.8696032448, -85.3931969755\n",
              "3      1007  32.9986442965, -87.1264391014\n",
              "4      1009  33.9808673856, -86.5673709608\n",
              "...     ...                            ...\n",
              "3137  56037  41.6594961424, -108.879430782\n",
              "3138  56039  43.9346374164, -110.589809669\n",
              "3139  56041   41.287491921, -110.547561693\n",
              "3140  56043   43.9049970086, -107.68286072\n",
              "3141  56045  43.8404850615, -104.567830048\n",
              "\n",
              "[3135 rows x 2 columns]"
            ]
          },
          "execution_count": 16,
          "metadata": {},
          "output_type": "execute_result"
        }
      ],
      "source": [
        "coordinate"
      ]
    },
    {
      "cell_type": "code",
      "execution_count": 17,
      "id": "PaKPexJQqI5C",
      "metadata": {
        "id": "PaKPexJQqI5C"
      },
      "outputs": [],
      "source": [
        "coordinate = coordinate.reset_index()"
      ]
    },
    {
      "cell_type": "code",
      "execution_count": 18,
      "id": "ZKOBcfRKnnWv",
      "metadata": {
        "id": "ZKOBcfRKnnWv"
      },
      "outputs": [],
      "source": [
        "X = []\n",
        "Y = []\n",
        "for i in range(3135):\n",
        "  X.append(float(coordinate[\"Geo Point\"].str.split(\", \")[i][0]))\n",
        "  Y.append(float(coordinate[\"Geo Point\"].str.split(\", \")[i][1]))"
      ]
    },
    {
      "cell_type": "code",
      "execution_count": 19,
      "id": "ywnLpj8yo0BN",
      "metadata": {
        "id": "ywnLpj8yo0BN"
      },
      "outputs": [],
      "source": [
        "distance = np.zeros((3135, 3135))\n",
        "for i in range(3135):\n",
        "  for j in range(3135):\n",
        "    distance[i, j] = ((X[i]-X[j])**2 + (Y[i]-Y[j])**2)**(1/2)"
      ]
    },
    {
      "cell_type": "code",
      "execution_count": 20,
      "id": "2KRwp8rArmlG",
      "metadata": {
        "colab": {
          "base_uri": "https://localhost:8080/"
        },
        "id": "2KRwp8rArmlG",
        "outputId": "f242974c-d46a-4404-fa0e-1113ee140652"
      },
      "outputs": [
        {
          "data": {
            "text/plain": [
              "(3135, 3135)"
            ]
          },
          "execution_count": 20,
          "metadata": {},
          "output_type": "execute_result"
        }
      ],
      "source": [
        "distance.shape"
      ]
    },
    {
      "cell_type": "code",
      "execution_count": 21,
      "id": "hJbcMQMorwbz",
      "metadata": {
        "colab": {
          "base_uri": "https://localhost:8080/",
          "height": 455
        },
        "id": "hJbcMQMorwbz",
        "outputId": "c1b5cb94-ff71-4404-9431-7ced265638bf"
      },
      "outputs": [
        {
          "data": {
            "text/html": [
              "<div>\n",
              "<style scoped>\n",
              "    .dataframe tbody tr th:only-of-type {\n",
              "        vertical-align: middle;\n",
              "    }\n",
              "\n",
              "    .dataframe tbody tr th {\n",
              "        vertical-align: top;\n",
              "    }\n",
              "\n",
              "    .dataframe thead th {\n",
              "        text-align: right;\n",
              "    }\n",
              "</style>\n",
              "<table border=\"1\" class=\"dataframe\">\n",
              "  <thead>\n",
              "    <tr style=\"text-align: right;\">\n",
              "      <th></th>\n",
              "      <th></th>\n",
              "      <th>microbusiness_density</th>\n",
              "    </tr>\n",
              "    <tr>\n",
              "      <th>dcount</th>\n",
              "      <th>cfips</th>\n",
              "      <th></th>\n",
              "    </tr>\n",
              "  </thead>\n",
              "  <tbody>\n",
              "    <tr>\n",
              "      <th rowspan=\"5\" valign=\"top\">0</th>\n",
              "      <th>1001</th>\n",
              "      <td>3.007682</td>\n",
              "    </tr>\n",
              "    <tr>\n",
              "      <th>1003</th>\n",
              "      <td>7.239156</td>\n",
              "    </tr>\n",
              "    <tr>\n",
              "      <th>1005</th>\n",
              "      <td>1.073138</td>\n",
              "    </tr>\n",
              "    <tr>\n",
              "      <th>1007</th>\n",
              "      <td>1.310777</td>\n",
              "    </tr>\n",
              "    <tr>\n",
              "      <th>1009</th>\n",
              "      <td>1.544148</td>\n",
              "    </tr>\n",
              "    <tr>\n",
              "      <th>...</th>\n",
              "      <th>...</th>\n",
              "      <td>...</td>\n",
              "    </tr>\n",
              "    <tr>\n",
              "      <th rowspan=\"5\" valign=\"top\">46</th>\n",
              "      <th>56037</th>\n",
              "      <td>0.000000</td>\n",
              "    </tr>\n",
              "    <tr>\n",
              "      <th>56039</th>\n",
              "      <td>0.000000</td>\n",
              "    </tr>\n",
              "    <tr>\n",
              "      <th>56041</th>\n",
              "      <td>0.000000</td>\n",
              "    </tr>\n",
              "    <tr>\n",
              "      <th>56043</th>\n",
              "      <td>0.000000</td>\n",
              "    </tr>\n",
              "    <tr>\n",
              "      <th>56045</th>\n",
              "      <td>0.000000</td>\n",
              "    </tr>\n",
              "  </tbody>\n",
              "</table>\n",
              "<p>147345 rows × 1 columns</p>\n",
              "</div>"
            ],
            "text/plain": [
              "              microbusiness_density\n",
              "dcount cfips                       \n",
              "0      1001                3.007682\n",
              "       1003                7.239156\n",
              "       1005                1.073138\n",
              "       1007                1.310777\n",
              "       1009                1.544148\n",
              "...                             ...\n",
              "46     56037               0.000000\n",
              "       56039               0.000000\n",
              "       56041               0.000000\n",
              "       56043               0.000000\n",
              "       56045               0.000000\n",
              "\n",
              "[147345 rows x 1 columns]"
            ]
          },
          "execution_count": 21,
          "metadata": {},
          "output_type": "execute_result"
        }
      ],
      "source": [
        "raw[[\"dcount\", \"cfips\", \"microbusiness_density\"]].groupby([\"dcount\", \"cfips\"]).sum()"
      ]
    },
    {
      "cell_type": "code",
      "execution_count": 22,
      "id": "8vON_GyuFy9H",
      "metadata": {
        "colab": {
          "base_uri": "https://localhost:8080/",
          "height": 284
        },
        "id": "8vON_GyuFy9H",
        "outputId": "6ccb4ef6-8b81-4456-d78a-b825bed73ee0"
      },
      "outputs": [
        {
          "data": {
            "text/plain": [
              "<matplotlib.axes._subplots.AxesSubplot at 0x2b67c943130>"
            ]
          },
          "execution_count": 22,
          "metadata": {},
          "output_type": "execute_result"
        },
        {
          "data": {
            "image/png": "[encoded data removed]",
            "text/plain": [
              "<Figure size 432x288 with 1 Axes>"
            ]
          },
          "metadata": {
            "needs_background": "light"
          },
          "output_type": "display_data"
        }
      ],
      "source": [
        "import seaborn as sns\n",
        "\n",
        "sns.histplot(distance.reshape(-1))"
      ]
    },
    {
      "cell_type": "code",
      "execution_count": 23,
      "id": "i5JHLkhBH7z9",
      "metadata": {
        "colab": {
          "base_uri": "https://localhost:8080/"
        },
        "id": "i5JHLkhBH7z9",
        "outputId": "ea02489b-4bdf-44b5-d05d-15a3d0afcb48"
      },
      "outputs": [
        {
          "data": {
            "text/plain": [
              "982822.5"
            ]
          },
          "execution_count": 23,
          "metadata": {},
          "output_type": "execute_result"
        }
      ],
      "source": [
        "3135*3135*0.1"
      ]
    },
    {
      "cell_type": "code",
      "execution_count": 24,
      "id": "scN9oqv4Gby8",
      "metadata": {
        "id": "scN9oqv4Gby8"
      },
      "outputs": [],
      "source": [
        "distance[(distance<4.5) & (distance>0)] = 1"
      ]
    },
    {
      "cell_type": "code",
      "execution_count": 25,
      "id": "l9q32Z0hIjYD",
      "metadata": {
        "id": "l9q32Z0hIjYD"
      },
      "outputs": [],
      "source": [
        "distance[(distance>=4.5)&(distance<=6.824)] = 2"
      ]
    },
    {
      "cell_type": "code",
      "execution_count": 26,
      "id": "0WEGQHsNK1Fh",
      "metadata": {
        "colab": {
          "base_uri": "https://localhost:8080/"
        },
        "id": "0WEGQHsNK1Fh",
        "outputId": "38ae1c80-eb29-46a1-e1a3-98c734d0dd8d"
      },
      "outputs": [
        {
          "name": "stdout",
          "output_type": "stream",
          "text": [
            "[ 31729.86313465  31747.31763793  31752.0412256  ... 231446.92745146\n",
            " 233143.37291925 241189.41061201]\n"
          ]
        },
        {
          "data": {
            "text/plain": [
              "array([[0.00000000e+00, 2.46528144e-05, 2.51489745e-05, ...,\n",
              "        3.85204091e-04, 3.92189030e-04, 3.91125424e-04],\n",
              "       [2.66812607e-05, 0.00000000e+00, 2.51489745e-05, ...,\n",
              "        3.80603101e-04, 3.92451093e-04, 3.94343128e-04],\n",
              "       [2.66812607e-05, 2.46528144e-05, 0.00000000e+00, ...,\n",
              "        4.06431315e-04, 4.15403285e-04, 4.17186122e-04],\n",
              "       ...,\n",
              "       [6.79218944e-04, 6.20085221e-04, 6.75491667e-04, ...,\n",
              "        0.00000000e+00, 1.63987497e-05, 3.69115903e-05],\n",
              "       [6.38103388e-04, 5.89985461e-04, 6.37058726e-04, ...,\n",
              "        1.51316904e-05, 0.00000000e+00, 1.84557952e-05],\n",
              "       [5.65444043e-04, 5.26754218e-04, 5.68482856e-04, ...,\n",
              "        3.02633808e-05, 1.63987497e-05, 0.00000000e+00]])"
            ]
          },
          "execution_count": 26,
          "metadata": {},
          "output_type": "execute_result"
        }
      ],
      "source": [
        "Dl = np.sum(distance, 0)\n",
        "print(np.unique(Dl))\n",
        "Dn = np.zeros((3135, 3135))\n",
        "for i in range(3135):\n",
        "  if Dl[i] > 0:\n",
        "    Dn[i, i] = Dl[i] ** (-1)\n",
        "AD = np.dot(distance, Dn)\n",
        "AD"
      ]
    },
    {
      "cell_type": "code",
      "execution_count": 27,
      "id": "AF3HpX-OL__4",
      "metadata": {
        "colab": {
          "base_uri": "https://localhost:8080/"
        },
        "id": "AF3HpX-OL__4",
        "outputId": "04f23776-0a33-4c07-c18d-2a015c913630"
      },
      "outputs": [
        {
          "data": {
            "text/plain": [
              "(3135, 3135)"
            ]
          },
          "execution_count": 27,
          "metadata": {},
          "output_type": "execute_result"
        }
      ],
      "source": [
        "AD.shape"
      ]
    },
    {
      "cell_type": "code",
      "execution_count": 28,
      "id": "p2u-SP1RJlGw",
      "metadata": {
        "id": "p2u-SP1RJlGw"
      },
      "outputs": [],
      "source": [
        "A = np.zeros((3, 3135, 3135))\n",
        "for i, hop in enumerate(range(3)):\n",
        "  A[i][distance == hop] = AD[distance == hop]"
      ]
    },
    {
      "cell_type": "code",
      "execution_count": 29,
      "id": "Njw6EdQ-s1bG",
      "metadata": {
        "id": "Njw6EdQ-s1bG"
      },
      "outputs": [],
      "source": [
        "data = pd.pivot_table(raw[[\"dcount\", \"cfips\", \"microbusiness_density\"]], index = \"dcount\", columns = \"cfips\", values = \"microbusiness_density\")"
      ]
    },
    {
      "cell_type": "code",
      "execution_count": 30,
      "id": "mzsbvhE3Vu6T",
      "metadata": {
        "colab": {
          "base_uri": "https://localhost:8080/"
        },
        "id": "mzsbvhE3Vu6T",
        "outputId": "58be351a-175f-4e6a-d543-08ea76a83145"
      },
      "outputs": [
        {
          "data": {
            "text/html": [
              "<div>\n",
              "<style scoped>\n",
              "    .dataframe tbody tr th:only-of-type {\n",
              "        vertical-align: middle;\n",
              "    }\n",
              "\n",
              "    .dataframe tbody tr th {\n",
              "        vertical-align: top;\n",
              "    }\n",
              "\n",
              "    .dataframe thead th {\n",
              "        text-align: right;\n",
              "    }\n",
              "</style>\n",
              "<table border=\"1\" class=\"dataframe\">\n",
              "  <thead>\n",
              "    <tr style=\"text-align: right;\">\n",
              "      <th>cfips</th>\n",
              "      <th>1001</th>\n",
              "      <th>1003</th>\n",
              "      <th>1005</th>\n",
              "      <th>1007</th>\n",
              "      <th>1009</th>\n",
              "      <th>1011</th>\n",
              "      <th>1013</th>\n",
              "      <th>1015</th>\n",
              "      <th>1017</th>\n",
              "      <th>1019</th>\n",
              "      <th>...</th>\n",
              "      <th>56027</th>\n",
              "      <th>56029</th>\n",
              "      <th>56031</th>\n",
              "      <th>56033</th>\n",
              "      <th>56035</th>\n",
              "      <th>56037</th>\n",
              "      <th>56039</th>\n",
              "      <th>56041</th>\n",
              "      <th>56043</th>\n",
              "      <th>56045</th>\n",
              "    </tr>\n",
              "    <tr>\n",
              "      <th>dcount</th>\n",
              "      <th></th>\n",
              "      <th></th>\n",
              "      <th></th>\n",
              "      <th></th>\n",
              "      <th></th>\n",
              "      <th></th>\n",
              "      <th></th>\n",
              "      <th></th>\n",
              "      <th></th>\n",
              "      <th></th>\n",
              "      <th></th>\n",
              "      <th></th>\n",
              "      <th></th>\n",
              "      <th></th>\n",
              "      <th></th>\n",
              "      <th></th>\n",
              "      <th></th>\n",
              "      <th></th>\n",
              "      <th></th>\n",
              "      <th></th>\n",
              "      <th></th>\n",
              "    </tr>\n",
              "  </thead>\n",
              "  <tbody>\n",
              "    <tr>\n",
              "      <th>0</th>\n",
              "      <td>3.007682</td>\n",
              "      <td>7.239156</td>\n",
              "      <td>1.073138</td>\n",
              "      <td>1.310777</td>\n",
              "      <td>1.544148</td>\n",
              "      <td>0.926372</td>\n",
              "      <td>0.674981</td>\n",
              "      <td>2.691544</td>\n",
              "      <td>1.486542</td>\n",
              "      <td>1.104277</td>\n",
              "      <td>...</td>\n",
              "      <td>1.150575</td>\n",
              "      <td>5.916088</td>\n",
              "      <td>4.062681</td>\n",
              "      <td>30.183279</td>\n",
              "      <td>6.115724</td>\n",
              "      <td>2.640386</td>\n",
              "      <td>26.433363</td>\n",
              "      <td>4.612016</td>\n",
              "      <td>2.603246</td>\n",
              "      <td>1.548594</td>\n",
              "    </tr>\n",
              "    <tr>\n",
              "      <th>1</th>\n",
              "      <td>2.884870</td>\n",
              "      <td>7.290936</td>\n",
              "      <td>0.995794</td>\n",
              "      <td>1.305176</td>\n",
              "      <td>1.575892</td>\n",
              "      <td>0.998556</td>\n",
              "      <td>0.739265</td>\n",
              "      <td>2.703752</td>\n",
              "      <td>1.355156</td>\n",
              "      <td>1.089747</td>\n",
              "      <td>...</td>\n",
              "      <td>1.150575</td>\n",
              "      <td>5.894528</td>\n",
              "      <td>3.888567</td>\n",
              "      <td>31.712736</td>\n",
              "      <td>6.142085</td>\n",
              "      <td>2.858371</td>\n",
              "      <td>26.611856</td>\n",
              "      <td>4.338306</td>\n",
              "      <td>2.683593</td>\n",
              "      <td>1.530794</td>\n",
              "    </tr>\n",
              "    <tr>\n",
              "      <th>2</th>\n",
              "      <td>3.055843</td>\n",
              "      <td>7.425439</td>\n",
              "      <td>1.160149</td>\n",
              "      <td>1.254761</td>\n",
              "      <td>1.546415</td>\n",
              "      <td>0.974495</td>\n",
              "      <td>0.713551</td>\n",
              "      <td>2.693764</td>\n",
              "      <td>1.355156</td>\n",
              "      <td>1.084903</td>\n",
              "      <td>...</td>\n",
              "      <td>1.150575</td>\n",
              "      <td>5.881592</td>\n",
              "      <td>3.903076</td>\n",
              "      <td>31.990431</td>\n",
              "      <td>6.181626</td>\n",
              "      <td>2.913635</td>\n",
              "      <td>26.736261</td>\n",
              "      <td>4.420419</td>\n",
              "      <td>2.635385</td>\n",
              "      <td>1.530794</td>\n",
              "    </tr>\n",
              "    <tr>\n",
              "      <th>3</th>\n",
              "      <td>2.993233</td>\n",
              "      <td>7.426071</td>\n",
              "      <td>1.000628</td>\n",
              "      <td>1.254761</td>\n",
              "      <td>1.573625</td>\n",
              "      <td>1.022618</td>\n",
              "      <td>1.054256</td>\n",
              "      <td>2.739270</td>\n",
              "      <td>1.362664</td>\n",
              "      <td>1.084903</td>\n",
              "      <td>...</td>\n",
              "      <td>1.200600</td>\n",
              "      <td>5.954897</td>\n",
              "      <td>3.845038</td>\n",
              "      <td>32.776520</td>\n",
              "      <td>6.234348</td>\n",
              "      <td>3.008812</td>\n",
              "      <td>26.920164</td>\n",
              "      <td>4.372520</td>\n",
              "      <td>2.683593</td>\n",
              "      <td>1.601994</td>\n",
              "    </tr>\n",
              "    <tr>\n",
              "      <th>4</th>\n",
              "      <td>2.993233</td>\n",
              "      <td>7.470274</td>\n",
              "      <td>1.000628</td>\n",
              "      <td>1.265965</td>\n",
              "      <td>1.555485</td>\n",
              "      <td>1.034649</td>\n",
              "      <td>1.054256</td>\n",
              "      <td>2.729281</td>\n",
              "      <td>1.343894</td>\n",
              "      <td>1.089747</td>\n",
              "      <td>...</td>\n",
              "      <td>1.200600</td>\n",
              "      <td>5.911776</td>\n",
              "      <td>3.845038</td>\n",
              "      <td>32.806427</td>\n",
              "      <td>6.273890</td>\n",
              "      <td>3.088637</td>\n",
              "      <td>26.903938</td>\n",
              "      <td>4.310935</td>\n",
              "      <td>2.635385</td>\n",
              "      <td>1.584194</td>\n",
              "    </tr>\n",
              "    <tr>\n",
              "      <th>5</th>\n",
              "      <td>2.969090</td>\n",
              "      <td>7.413655</td>\n",
              "      <td>1.027229</td>\n",
              "      <td>1.253638</td>\n",
              "      <td>1.573217</td>\n",
              "      <td>1.060717</td>\n",
              "      <td>1.060871</td>\n",
              "      <td>2.719628</td>\n",
              "      <td>1.319910</td>\n",
              "      <td>1.079399</td>\n",
              "      <td>...</td>\n",
              "      <td>1.218893</td>\n",
              "      <td>5.901441</td>\n",
              "      <td>3.890260</td>\n",
              "      <td>32.847649</td>\n",
              "      <td>6.353848</td>\n",
              "      <td>3.150922</td>\n",
              "      <td>26.684565</td>\n",
              "      <td>4.367864</td>\n",
              "      <td>2.666882</td>\n",
              "      <td>1.590706</td>\n",
              "    </tr>\n",
              "    <tr>\n",
              "      <th>6</th>\n",
              "      <td>2.909326</td>\n",
              "      <td>7.282522</td>\n",
              "      <td>1.022314</td>\n",
              "      <td>1.248041</td>\n",
              "      <td>1.536999</td>\n",
              "      <td>1.036333</td>\n",
              "      <td>1.060871</td>\n",
              "      <td>2.745211</td>\n",
              "      <td>1.331096</td>\n",
              "      <td>1.069675</td>\n",
              "      <td>...</td>\n",
              "      <td>1.269680</td>\n",
              "      <td>5.871155</td>\n",
              "      <td>3.716069</td>\n",
              "      <td>32.246933</td>\n",
              "      <td>6.486774</td>\n",
              "      <td>3.169494</td>\n",
              "      <td>26.738255</td>\n",
              "      <td>4.237172</td>\n",
              "      <td>2.699208</td>\n",
              "      <td>1.519214</td>\n",
              "    </tr>\n",
              "    <tr>\n",
              "      <th>7</th>\n",
              "      <td>2.933231</td>\n",
              "      <td>7.309610</td>\n",
              "      <td>1.032144</td>\n",
              "      <td>1.264831</td>\n",
              "      <td>1.541526</td>\n",
              "      <td>1.060717</td>\n",
              "      <td>1.009121</td>\n",
              "      <td>2.756335</td>\n",
              "      <td>1.301268</td>\n",
              "      <td>1.074537</td>\n",
              "      <td>...</td>\n",
              "      <td>1.269680</td>\n",
              "      <td>5.897114</td>\n",
              "      <td>3.527362</td>\n",
              "      <td>32.856171</td>\n",
              "      <td>7.018477</td>\n",
              "      <td>3.237588</td>\n",
              "      <td>26.668457</td>\n",
              "      <td>4.182143</td>\n",
              "      <td>2.699208</td>\n",
              "      <td>1.537087</td>\n",
              "    </tr>\n",
              "    <tr>\n",
              "      <th>8</th>\n",
              "      <td>3.000167</td>\n",
              "      <td>7.568799</td>\n",
              "      <td>1.086209</td>\n",
              "      <td>1.270428</td>\n",
              "      <td>1.577744</td>\n",
              "      <td>1.011948</td>\n",
              "      <td>0.996183</td>\n",
              "      <td>2.818625</td>\n",
              "      <td>1.327368</td>\n",
              "      <td>1.059950</td>\n",
              "      <td>...</td>\n",
              "      <td>1.269680</td>\n",
              "      <td>5.979319</td>\n",
              "      <td>3.469299</td>\n",
              "      <td>34.142807</td>\n",
              "      <td>6.965306</td>\n",
              "      <td>3.293302</td>\n",
              "      <td>27.119463</td>\n",
              "      <td>4.195900</td>\n",
              "      <td>2.683045</td>\n",
              "      <td>1.554960</td>\n",
              "    </tr>\n",
              "    <tr>\n",
              "      <th>9</th>\n",
              "      <td>3.004948</td>\n",
              "      <td>7.603275</td>\n",
              "      <td>1.081294</td>\n",
              "      <td>1.287217</td>\n",
              "      <td>1.575481</td>\n",
              "      <td>0.890027</td>\n",
              "      <td>0.996183</td>\n",
              "      <td>2.834197</td>\n",
              "      <td>1.342282</td>\n",
              "      <td>1.084261</td>\n",
              "      <td>...</td>\n",
              "      <td>1.320467</td>\n",
              "      <td>6.005279</td>\n",
              "      <td>3.483815</td>\n",
              "      <td>40.916836</td>\n",
              "      <td>7.257743</td>\n",
              "      <td>3.311873</td>\n",
              "      <td>27.414764</td>\n",
              "      <td>4.443527</td>\n",
              "      <td>2.731534</td>\n",
              "      <td>1.608579</td>\n",
              "    </tr>\n",
              "    <tr>\n",
              "      <th>10</th>\n",
              "      <td>3.019292</td>\n",
              "      <td>7.708551</td>\n",
              "      <td>0.997739</td>\n",
              "      <td>1.304007</td>\n",
              "      <td>1.570953</td>\n",
              "      <td>0.926603</td>\n",
              "      <td>1.002652</td>\n",
              "      <td>2.853107</td>\n",
              "      <td>1.342282</td>\n",
              "      <td>1.059950</td>\n",
              "      <td>...</td>\n",
              "      <td>1.371254</td>\n",
              "      <td>6.022585</td>\n",
              "      <td>3.498331</td>\n",
              "      <td>40.192570</td>\n",
              "      <td>7.297621</td>\n",
              "      <td>3.126161</td>\n",
              "      <td>27.506041</td>\n",
              "      <td>4.450406</td>\n",
              "      <td>2.699208</td>\n",
              "      <td>1.662198</td>\n",
              "    </tr>\n",
              "    <tr>\n",
              "      <th>11</th>\n",
              "      <td>3.083837</td>\n",
              "      <td>7.783045</td>\n",
              "      <td>0.987909</td>\n",
              "      <td>1.343183</td>\n",
              "      <td>1.602644</td>\n",
              "      <td>0.914411</td>\n",
              "      <td>0.763309</td>\n",
              "      <td>2.887589</td>\n",
              "      <td>1.349739</td>\n",
              "      <td>1.074537</td>\n",
              "      <td>...</td>\n",
              "      <td>1.320467</td>\n",
              "      <td>6.009605</td>\n",
              "      <td>3.440267</td>\n",
              "      <td>41.261929</td>\n",
              "      <td>7.324206</td>\n",
              "      <td>3.194255</td>\n",
              "      <td>27.720806</td>\n",
              "      <td>4.477920</td>\n",
              "      <td>2.731534</td>\n",
              "      <td>1.554960</td>\n",
              "    </tr>\n",
              "    <tr>\n",
              "      <th>12</th>\n",
              "      <td>3.174679</td>\n",
              "      <td>7.853229</td>\n",
              "      <td>0.982994</td>\n",
              "      <td>1.304007</td>\n",
              "      <td>1.604907</td>\n",
              "      <td>0.950988</td>\n",
              "      <td>0.769778</td>\n",
              "      <td>2.917621</td>\n",
              "      <td>1.379568</td>\n",
              "      <td>1.210677</td>\n",
              "      <td>...</td>\n",
              "      <td>1.269680</td>\n",
              "      <td>6.000952</td>\n",
              "      <td>3.454783</td>\n",
              "      <td>41.585720</td>\n",
              "      <td>7.191280</td>\n",
              "      <td>3.197351</td>\n",
              "      <td>27.565102</td>\n",
              "      <td>4.491677</td>\n",
              "      <td>2.569905</td>\n",
              "      <td>1.590706</td>\n",
              "    </tr>\n",
              "    <tr>\n",
              "      <th>13</th>\n",
              "      <td>3.205756</td>\n",
              "      <td>8.412239</td>\n",
              "      <td>1.022314</td>\n",
              "      <td>1.320797</td>\n",
              "      <td>1.647916</td>\n",
              "      <td>0.926603</td>\n",
              "      <td>0.782716</td>\n",
              "      <td>2.886476</td>\n",
              "      <td>1.379568</td>\n",
              "      <td>1.205815</td>\n",
              "      <td>...</td>\n",
              "      <td>1.320467</td>\n",
              "      <td>6.256219</td>\n",
              "      <td>3.454783</td>\n",
              "      <td>42.275902</td>\n",
              "      <td>7.350791</td>\n",
              "      <td>3.178779</td>\n",
              "      <td>27.495302</td>\n",
              "      <td>3.907002</td>\n",
              "      <td>2.586068</td>\n",
              "      <td>1.590706</td>\n",
              "    </tr>\n",
              "    <tr>\n",
              "      <th>14</th>\n",
              "      <td>3.193804</td>\n",
              "      <td>8.329126</td>\n",
              "      <td>1.037059</td>\n",
              "      <td>1.326394</td>\n",
              "      <td>1.641125</td>\n",
              "      <td>0.938795</td>\n",
              "      <td>0.802122</td>\n",
              "      <td>2.906498</td>\n",
              "      <td>1.379568</td>\n",
              "      <td>1.215539</td>\n",
              "      <td>...</td>\n",
              "      <td>1.320467</td>\n",
              "      <td>6.290832</td>\n",
              "      <td>3.411235</td>\n",
              "      <td>46.749317</td>\n",
              "      <td>7.324206</td>\n",
              "      <td>3.163303</td>\n",
              "      <td>27.441610</td>\n",
              "      <td>3.838217</td>\n",
              "      <td>2.650719</td>\n",
              "      <td>1.554960</td>\n",
              "    </tr>\n",
              "    <tr>\n",
              "      <th>15</th>\n",
              "      <td>3.038416</td>\n",
              "      <td>8.263252</td>\n",
              "      <td>1.032144</td>\n",
              "      <td>1.320797</td>\n",
              "      <td>1.641125</td>\n",
              "      <td>0.877835</td>\n",
              "      <td>0.776247</td>\n",
              "      <td>2.892038</td>\n",
              "      <td>1.360925</td>\n",
              "      <td>1.234988</td>\n",
              "      <td>...</td>\n",
              "      <td>1.320467</td>\n",
              "      <td>6.273526</td>\n",
              "      <td>3.396720</td>\n",
              "      <td>46.787663</td>\n",
              "      <td>7.284328</td>\n",
              "      <td>3.188065</td>\n",
              "      <td>27.463087</td>\n",
              "      <td>3.886367</td>\n",
              "      <td>2.666882</td>\n",
              "      <td>1.554960</td>\n",
              "    </tr>\n",
              "    <tr>\n",
              "      <th>16</th>\n",
              "      <td>3.002558</td>\n",
              "      <td>8.224466</td>\n",
              "      <td>1.032144</td>\n",
              "      <td>1.309604</td>\n",
              "      <td>1.613962</td>\n",
              "      <td>0.877835</td>\n",
              "      <td>0.763309</td>\n",
              "      <td>2.883139</td>\n",
              "      <td>1.338553</td>\n",
              "      <td>1.264161</td>\n",
              "      <td>...</td>\n",
              "      <td>1.269680</td>\n",
              "      <td>6.273526</td>\n",
              "      <td>3.266076</td>\n",
              "      <td>43.494377</td>\n",
              "      <td>7.297621</td>\n",
              "      <td>3.172589</td>\n",
              "      <td>27.484564</td>\n",
              "      <td>3.838217</td>\n",
              "      <td>2.666882</td>\n",
              "      <td>1.572833</td>\n",
              "    </tr>\n",
              "    <tr>\n",
              "      <th>17</th>\n",
              "      <td>2.947244</td>\n",
              "      <td>8.011045</td>\n",
              "      <td>1.111998</td>\n",
              "      <td>1.310044</td>\n",
              "      <td>1.612029</td>\n",
              "      <td>0.862069</td>\n",
              "      <td>0.761075</td>\n",
              "      <td>2.880691</td>\n",
              "      <td>1.383719</td>\n",
              "      <td>1.248911</td>\n",
              "      <td>...</td>\n",
              "      <td>1.382489</td>\n",
              "      <td>6.229196</td>\n",
              "      <td>3.186344</td>\n",
              "      <td>44.220387</td>\n",
              "      <td>7.220456</td>\n",
              "      <td>3.255770</td>\n",
              "      <td>27.114956</td>\n",
              "      <td>3.798428</td>\n",
              "      <td>2.694660</td>\n",
              "      <td>1.598707</td>\n",
              "    </tr>\n",
              "    <tr>\n",
              "      <th>18</th>\n",
              "      <td>3.106106</td>\n",
              "      <td>7.909001</td>\n",
              "      <td>1.072105</td>\n",
              "      <td>1.287650</td>\n",
              "      <td>1.688793</td>\n",
              "      <td>0.800493</td>\n",
              "      <td>1.736811</td>\n",
              "      <td>2.702250</td>\n",
              "      <td>1.282196</td>\n",
              "      <td>1.185981</td>\n",
              "      <td>...</td>\n",
              "      <td>1.587302</td>\n",
              "      <td>5.844465</td>\n",
              "      <td>3.442390</td>\n",
              "      <td>80.121498</td>\n",
              "      <td>7.750398</td>\n",
              "      <td>3.534121</td>\n",
              "      <td>25.209639</td>\n",
              "      <td>3.467531</td>\n",
              "      <td>3.141015</td>\n",
              "      <td>1.724448</td>\n",
              "    </tr>\n",
              "    <tr>\n",
              "      <th>19</th>\n",
              "      <td>3.144043</td>\n",
              "      <td>7.978031</td>\n",
              "      <td>1.057146</td>\n",
              "      <td>1.287650</td>\n",
              "      <td>1.700081</td>\n",
              "      <td>0.825123</td>\n",
              "      <td>1.730306</td>\n",
              "      <td>2.698905</td>\n",
              "      <td>1.282196</td>\n",
              "      <td>1.195663</td>\n",
              "      <td>...</td>\n",
              "      <td>1.638505</td>\n",
              "      <td>5.840142</td>\n",
              "      <td>3.499289</td>\n",
              "      <td>82.661156</td>\n",
              "      <td>7.829889</td>\n",
              "      <td>3.540377</td>\n",
              "      <td>25.358242</td>\n",
              "      <td>3.481318</td>\n",
              "      <td>3.256737</td>\n",
              "      <td>1.760374</td>\n",
              "    </tr>\n",
              "    <tr>\n",
              "      <th>20</th>\n",
              "      <td>3.224659</td>\n",
              "      <td>8.032654</td>\n",
              "      <td>1.102025</td>\n",
              "      <td>1.259657</td>\n",
              "      <td>1.702339</td>\n",
              "      <td>0.862069</td>\n",
              "      <td>1.730306</td>\n",
              "      <td>2.689983</td>\n",
              "      <td>1.293476</td>\n",
              "      <td>1.234389</td>\n",
              "      <td>...</td>\n",
              "      <td>1.638505</td>\n",
              "      <td>5.917953</td>\n",
              "      <td>3.442390</td>\n",
              "      <td>82.235069</td>\n",
              "      <td>7.763646</td>\n",
              "      <td>3.474698</td>\n",
              "      <td>25.581148</td>\n",
              "      <td>3.426168</td>\n",
              "      <td>3.207142</td>\n",
              "      <td>1.724448</td>\n",
              "    </tr>\n",
              "    <tr>\n",
              "      <th>21</th>\n",
              "      <td>3.227030</td>\n",
              "      <td>8.061466</td>\n",
              "      <td>1.097038</td>\n",
              "      <td>1.259657</td>\n",
              "      <td>1.720401</td>\n",
              "      <td>0.874384</td>\n",
              "      <td>1.860405</td>\n",
              "      <td>2.649834</td>\n",
              "      <td>1.282196</td>\n",
              "      <td>1.229548</td>\n",
              "      <td>...</td>\n",
              "      <td>1.689708</td>\n",
              "      <td>5.900662</td>\n",
              "      <td>3.385491</td>\n",
              "      <td>83.825516</td>\n",
              "      <td>7.737149</td>\n",
              "      <td>3.449678</td>\n",
              "      <td>25.591763</td>\n",
              "      <td>3.426168</td>\n",
              "      <td>3.157547</td>\n",
              "      <td>1.688522</td>\n",
              "    </tr>\n",
              "    <tr>\n",
              "      <th>22</th>\n",
              "      <td>3.222288</td>\n",
              "      <td>8.077073</td>\n",
              "      <td>1.107011</td>\n",
              "      <td>1.237263</td>\n",
              "      <td>1.713628</td>\n",
              "      <td>0.874384</td>\n",
              "      <td>1.886424</td>\n",
              "      <td>2.642027</td>\n",
              "      <td>1.252115</td>\n",
              "      <td>1.215026</td>\n",
              "      <td>...</td>\n",
              "      <td>1.740911</td>\n",
              "      <td>5.917953</td>\n",
              "      <td>3.385491</td>\n",
              "      <td>86.770164</td>\n",
              "      <td>7.710652</td>\n",
              "      <td>3.487208</td>\n",
              "      <td>25.655451</td>\n",
              "      <td>3.364125</td>\n",
              "      <td>3.124483</td>\n",
              "      <td>1.652596</td>\n",
              "    </tr>\n",
              "    <tr>\n",
              "      <th>23</th>\n",
              "      <td>3.210433</td>\n",
              "      <td>7.984033</td>\n",
              "      <td>1.146903</td>\n",
              "      <td>1.237263</td>\n",
              "      <td>1.715885</td>\n",
              "      <td>0.837438</td>\n",
              "      <td>1.886424</td>\n",
              "      <td>2.685522</td>\n",
              "      <td>1.270916</td>\n",
              "      <td>1.210185</td>\n",
              "      <td>...</td>\n",
              "      <td>1.740911</td>\n",
              "      <td>5.969827</td>\n",
              "      <td>3.399715</td>\n",
              "      <td>88.099052</td>\n",
              "      <td>7.631161</td>\n",
              "      <td>3.434040</td>\n",
              "      <td>25.602377</td>\n",
              "      <td>3.364125</td>\n",
              "      <td>3.124483</td>\n",
              "      <td>1.652596</td>\n",
              "    </tr>\n",
              "    <tr>\n",
              "      <th>24</th>\n",
              "      <td>3.219917</td>\n",
              "      <td>7.918605</td>\n",
              "      <td>1.156876</td>\n",
              "      <td>1.209271</td>\n",
              "      <td>1.711370</td>\n",
              "      <td>0.825123</td>\n",
              "      <td>1.892929</td>\n",
              "      <td>2.671024</td>\n",
              "      <td>1.282196</td>\n",
              "      <td>1.215026</td>\n",
              "      <td>...</td>\n",
              "      <td>1.740911</td>\n",
              "      <td>5.974150</td>\n",
              "      <td>3.413940</td>\n",
              "      <td>90.942459</td>\n",
              "      <td>7.631161</td>\n",
              "      <td>3.452806</td>\n",
              "      <td>25.719137</td>\n",
              "      <td>3.439956</td>\n",
              "      <td>3.107952</td>\n",
              "      <td>1.670559</td>\n",
              "    </tr>\n",
              "    <tr>\n",
              "      <th>25</th>\n",
              "      <td>3.186722</td>\n",
              "      <td>7.802155</td>\n",
              "      <td>1.121971</td>\n",
              "      <td>1.186877</td>\n",
              "      <td>1.729432</td>\n",
              "      <td>0.800493</td>\n",
              "      <td>1.918949</td>\n",
              "      <td>2.665447</td>\n",
              "      <td>1.353638</td>\n",
              "      <td>1.215026</td>\n",
              "      <td>...</td>\n",
              "      <td>1.740911</td>\n",
              "      <td>5.883370</td>\n",
              "      <td>3.371266</td>\n",
              "      <td>90.077621</td>\n",
              "      <td>7.684154</td>\n",
              "      <td>3.362107</td>\n",
              "      <td>25.517462</td>\n",
              "      <td>3.481318</td>\n",
              "      <td>3.058357</td>\n",
              "      <td>1.688522</td>\n",
              "    </tr>\n",
              "    <tr>\n",
              "      <th>26</th>\n",
              "      <td>3.203320</td>\n",
              "      <td>7.832168</td>\n",
              "      <td>1.136930</td>\n",
              "      <td>1.186877</td>\n",
              "      <td>1.731690</td>\n",
              "      <td>0.775862</td>\n",
              "      <td>1.918949</td>\n",
              "      <td>2.688868</td>\n",
              "      <td>1.372438</td>\n",
              "      <td>1.200503</td>\n",
              "      <td>...</td>\n",
              "      <td>1.792115</td>\n",
              "      <td>5.939567</td>\n",
              "      <td>3.399715</td>\n",
              "      <td>92.220726</td>\n",
              "      <td>7.710652</td>\n",
              "      <td>3.255770</td>\n",
              "      <td>25.628914</td>\n",
              "      <td>3.501999</td>\n",
              "      <td>3.124483</td>\n",
              "      <td>1.670559</td>\n",
              "    </tr>\n",
              "    <tr>\n",
              "      <th>27</th>\n",
              "      <td>3.200948</td>\n",
              "      <td>7.900597</td>\n",
              "      <td>1.151890</td>\n",
              "      <td>1.231665</td>\n",
              "      <td>1.733947</td>\n",
              "      <td>0.800493</td>\n",
              "      <td>1.951473</td>\n",
              "      <td>2.683291</td>\n",
              "      <td>1.376199</td>\n",
              "      <td>1.219866</td>\n",
              "      <td>...</td>\n",
              "      <td>1.792115</td>\n",
              "      <td>5.943890</td>\n",
              "      <td>3.328592</td>\n",
              "      <td>96.304420</td>\n",
              "      <td>7.750398</td>\n",
              "      <td>3.093138</td>\n",
              "      <td>25.666065</td>\n",
              "      <td>3.481318</td>\n",
              "      <td>3.058357</td>\n",
              "      <td>1.760374</td>\n",
              "    </tr>\n",
              "    <tr>\n",
              "      <th>28</th>\n",
              "      <td>3.286307</td>\n",
              "      <td>7.930010</td>\n",
              "      <td>1.151890</td>\n",
              "      <td>1.209271</td>\n",
              "      <td>1.752009</td>\n",
              "      <td>0.837438</td>\n",
              "      <td>1.918949</td>\n",
              "      <td>2.696674</td>\n",
              "      <td>1.402519</td>\n",
              "      <td>1.215026</td>\n",
              "      <td>...</td>\n",
              "      <td>1.792115</td>\n",
              "      <td>5.961181</td>\n",
              "      <td>3.314367</td>\n",
              "      <td>100.164530</td>\n",
              "      <td>7.737149</td>\n",
              "      <td>3.039970</td>\n",
              "      <td>25.846514</td>\n",
              "      <td>3.777747</td>\n",
              "      <td>3.058357</td>\n",
              "      <td>1.796300</td>\n",
              "    </tr>\n",
              "    <tr>\n",
              "      <th>29</th>\n",
              "      <td>3.296781</td>\n",
              "      <td>7.733397</td>\n",
              "      <td>1.186629</td>\n",
              "      <td>1.214165</td>\n",
              "      <td>1.752923</td>\n",
              "      <td>0.848746</td>\n",
              "      <td>1.977162</td>\n",
              "      <td>2.701134</td>\n",
              "      <td>1.412333</td>\n",
              "      <td>1.193420</td>\n",
              "      <td>...</td>\n",
              "      <td>1.873662</td>\n",
              "      <td>5.890694</td>\n",
              "      <td>3.284049</td>\n",
              "      <td>98.470734</td>\n",
              "      <td>7.595103</td>\n",
              "      <td>2.926768</td>\n",
              "      <td>25.532248</td>\n",
              "      <td>3.754478</td>\n",
              "      <td>3.027295</td>\n",
              "      <td>1.749688</td>\n",
              "    </tr>\n",
              "    <tr>\n",
              "      <th>30</th>\n",
              "      <td>3.334431</td>\n",
              "      <td>7.823300</td>\n",
              "      <td>1.206827</td>\n",
              "      <td>1.236650</td>\n",
              "      <td>1.777708</td>\n",
              "      <td>0.874082</td>\n",
              "      <td>1.944535</td>\n",
              "      <td>2.706717</td>\n",
              "      <td>1.438767</td>\n",
              "      <td>1.326550</td>\n",
              "      <td>...</td>\n",
              "      <td>1.820128</td>\n",
              "      <td>5.882100</td>\n",
              "      <td>3.284049</td>\n",
              "      <td>102.143490</td>\n",
              "      <td>7.687245</td>\n",
              "      <td>2.892446</td>\n",
              "      <td>25.438322</td>\n",
              "      <td>3.954258</td>\n",
              "      <td>3.027295</td>\n",
              "      <td>1.749688</td>\n",
              "    </tr>\n",
              "    <tr>\n",
              "      <th>31</th>\n",
              "      <td>3.336785</td>\n",
              "      <td>7.945311</td>\n",
              "      <td>1.196728</td>\n",
              "      <td>1.264755</td>\n",
              "      <td>1.797986</td>\n",
              "      <td>0.924753</td>\n",
              "      <td>1.977162</td>\n",
              "      <td>2.717883</td>\n",
              "      <td>1.457649</td>\n",
              "      <td>1.217193</td>\n",
              "      <td>...</td>\n",
              "      <td>1.820128</td>\n",
              "      <td>5.989516</td>\n",
              "      <td>3.241399</td>\n",
              "      <td>104.880290</td>\n",
              "      <td>7.897854</td>\n",
              "      <td>2.848763</td>\n",
              "      <td>25.636610</td>\n",
              "      <td>4.023147</td>\n",
              "      <td>3.010753</td>\n",
              "      <td>1.767542</td>\n",
              "    </tr>\n",
              "    <tr>\n",
              "      <th>32</th>\n",
              "      <td>3.372082</td>\n",
              "      <td>7.979170</td>\n",
              "      <td>1.191678</td>\n",
              "      <td>1.253513</td>\n",
              "      <td>1.764189</td>\n",
              "      <td>0.912085</td>\n",
              "      <td>1.853181</td>\n",
              "      <td>2.707833</td>\n",
              "      <td>1.480307</td>\n",
              "      <td>1.240966</td>\n",
              "      <td>...</td>\n",
              "      <td>1.766595</td>\n",
              "      <td>6.023890</td>\n",
              "      <td>3.227182</td>\n",
              "      <td>105.979190</td>\n",
              "      <td>7.858365</td>\n",
              "      <td>2.851883</td>\n",
              "      <td>25.626175</td>\n",
              "      <td>4.064481</td>\n",
              "      <td>2.977668</td>\n",
              "      <td>1.767542</td>\n",
              "    </tr>\n",
              "    <tr>\n",
              "      <th>33</th>\n",
              "      <td>3.313253</td>\n",
              "      <td>7.907365</td>\n",
              "      <td>1.186629</td>\n",
              "      <td>1.247892</td>\n",
              "      <td>1.748417</td>\n",
              "      <td>0.912085</td>\n",
              "      <td>1.807504</td>\n",
              "      <td>2.691084</td>\n",
              "      <td>1.487859</td>\n",
              "      <td>1.245721</td>\n",
              "      <td>...</td>\n",
              "      <td>1.766595</td>\n",
              "      <td>6.058262</td>\n",
              "      <td>3.212966</td>\n",
              "      <td>106.209000</td>\n",
              "      <td>7.832039</td>\n",
              "      <td>2.820681</td>\n",
              "      <td>25.506157</td>\n",
              "      <td>3.885368</td>\n",
              "      <td>2.944582</td>\n",
              "      <td>1.803249</td>\n",
              "    </tr>\n",
              "    <tr>\n",
              "      <th>34</th>\n",
              "      <td>3.346197</td>\n",
              "      <td>8.507496</td>\n",
              "      <td>1.191678</td>\n",
              "      <td>1.275998</td>\n",
              "      <td>1.773202</td>\n",
              "      <td>0.937421</td>\n",
              "      <td>1.983687</td>\n",
              "      <td>2.724583</td>\n",
              "      <td>1.468978</td>\n",
              "      <td>1.117345</td>\n",
              "      <td>...</td>\n",
              "      <td>1.713062</td>\n",
              "      <td>6.101229</td>\n",
              "      <td>3.212966</td>\n",
              "      <td>113.199350</td>\n",
              "      <td>7.739897</td>\n",
              "      <td>2.783238</td>\n",
              "      <td>25.652266</td>\n",
              "      <td>3.906035</td>\n",
              "      <td>3.126551</td>\n",
              "      <td>1.803249</td>\n",
              "    </tr>\n",
              "    <tr>\n",
              "      <th>35</th>\n",
              "      <td>3.437971</td>\n",
              "      <td>8.573463</td>\n",
              "      <td>1.216926</td>\n",
              "      <td>1.326588</td>\n",
              "      <td>1.831783</td>\n",
              "      <td>0.950089</td>\n",
              "      <td>2.042414</td>\n",
              "      <td>2.782648</td>\n",
              "      <td>1.548280</td>\n",
              "      <td>1.141118</td>\n",
              "      <td>...</td>\n",
              "      <td>1.766595</td>\n",
              "      <td>6.191458</td>\n",
              "      <td>3.184532</td>\n",
              "      <td>114.093510</td>\n",
              "      <td>7.884691</td>\n",
              "      <td>2.836282</td>\n",
              "      <td>25.939260</td>\n",
              "      <td>3.981813</td>\n",
              "      <td>3.225807</td>\n",
              "      <td>1.803249</td>\n",
              "    </tr>\n",
              "    <tr>\n",
              "      <th>36</th>\n",
              "      <td>3.423852</td>\n",
              "      <td>8.491150</td>\n",
              "      <td>1.196728</td>\n",
              "      <td>1.292861</td>\n",
              "      <td>1.836289</td>\n",
              "      <td>0.962757</td>\n",
              "      <td>2.107667</td>\n",
              "      <td>2.788231</td>\n",
              "      <td>1.521846</td>\n",
              "      <td>1.131609</td>\n",
              "      <td>...</td>\n",
              "      <td>1.766595</td>\n",
              "      <td>6.221535</td>\n",
              "      <td>3.156099</td>\n",
              "      <td>113.441690</td>\n",
              "      <td>7.779387</td>\n",
              "      <td>2.811320</td>\n",
              "      <td>26.085369</td>\n",
              "      <td>3.974924</td>\n",
              "      <td>3.209264</td>\n",
              "      <td>1.785395</td>\n",
              "    </tr>\n",
              "    <tr>\n",
              "      <th>37</th>\n",
              "      <td>3.442677</td>\n",
              "      <td>8.341701</td>\n",
              "      <td>1.206827</td>\n",
              "      <td>1.315346</td>\n",
              "      <td>1.852060</td>\n",
              "      <td>0.975424</td>\n",
              "      <td>2.166395</td>\n",
              "      <td>2.809447</td>\n",
              "      <td>1.502964</td>\n",
              "      <td>1.131609</td>\n",
              "      <td>...</td>\n",
              "      <td>1.766595</td>\n",
              "      <td>6.178568</td>\n",
              "      <td>3.170316</td>\n",
              "      <td>128.262240</td>\n",
              "      <td>7.792550</td>\n",
              "      <td>2.811320</td>\n",
              "      <td>26.090586</td>\n",
              "      <td>3.995591</td>\n",
              "      <td>3.209264</td>\n",
              "      <td>1.785395</td>\n",
              "    </tr>\n",
              "    <tr>\n",
              "      <th>38</th>\n",
              "      <td>3.463856</td>\n",
              "      <td>8.359798</td>\n",
              "      <td>1.232074</td>\n",
              "      <td>1.287240</td>\n",
              "      <td>1.831783</td>\n",
              "      <td>0.988092</td>\n",
              "      <td>2.185970</td>\n",
              "      <td>2.800514</td>\n",
              "      <td>1.442544</td>\n",
              "      <td>1.117345</td>\n",
              "      <td>...</td>\n",
              "      <td>1.713062</td>\n",
              "      <td>6.217238</td>\n",
              "      <td>3.212966</td>\n",
              "      <td>227.756650</td>\n",
              "      <td>7.792550</td>\n",
              "      <td>2.823801</td>\n",
              "      <td>26.273220</td>\n",
              "      <td>4.009369</td>\n",
              "      <td>3.126551</td>\n",
              "      <td>1.785395</td>\n",
              "    </tr>\n",
              "  </tbody>\n",
              "</table>\n",
              "<p>39 rows × 3135 columns</p>\n",
              "</div>"
            ],
            "text/plain": [
              "cfips      1001      1003      1005      1007      1009      1011      1013   \\\n",
              "dcount                                                                         \n",
              "0       3.007682  7.239156  1.073138  1.310777  1.544148  0.926372  0.674981   \n",
              "1       2.884870  7.290936  0.995794  1.305176  1.575892  0.998556  0.739265   \n",
              "2       3.055843  7.425439  1.160149  1.254761  1.546415  0.974495  0.713551   \n",
              "3       2.993233  7.426071  1.000628  1.254761  1.573625  1.022618  1.054256   \n",
              "4       2.993233  7.470274  1.000628  1.265965  1.555485  1.034649  1.054256   \n",
              "5       2.969090  7.413655  1.027229  1.253638  1.573217  1.060717  1.060871   \n",
              "6       2.909326  7.282522  1.022314  1.248041  1.536999  1.036333  1.060871   \n",
              "7       2.933231  7.309610  1.032144  1.264831  1.541526  1.060717  1.009121   \n",
              "8       3.000167  7.568799  1.086209  1.270428  1.577744  1.011948  0.996183   \n",
              "9       3.004948  7.603275  1.081294  1.287217  1.575481  0.890027  0.996183   \n",
              "10      3.019292  7.708551  0.997739  1.304007  1.570953  0.926603  1.002652   \n",
              "11      3.083837  7.783045  0.987909  1.343183  1.602644  0.914411  0.763309   \n",
              "12      3.174679  7.853229  0.982994  1.304007  1.604907  0.950988  0.769778   \n",
              "13      3.205756  8.412239  1.022314  1.320797  1.647916  0.926603  0.782716   \n",
              "14      3.193804  8.329126  1.037059  1.326394  1.641125  0.938795  0.802122   \n",
              "15      3.038416  8.263252  1.032144  1.320797  1.641125  0.877835  0.776247   \n",
              "16      3.002558  8.224466  1.032144  1.309604  1.613962  0.877835  0.763309   \n",
              "17      2.947244  8.011045  1.111998  1.310044  1.612029  0.862069  0.761075   \n",
              "18      3.106106  7.909001  1.072105  1.287650  1.688793  0.800493  1.736811   \n",
              "19      3.144043  7.978031  1.057146  1.287650  1.700081  0.825123  1.730306   \n",
              "20      3.224659  8.032654  1.102025  1.259657  1.702339  0.862069  1.730306   \n",
              "21      3.227030  8.061466  1.097038  1.259657  1.720401  0.874384  1.860405   \n",
              "22      3.222288  8.077073  1.107011  1.237263  1.713628  0.874384  1.886424   \n",
              "23      3.210433  7.984033  1.146903  1.237263  1.715885  0.837438  1.886424   \n",
              "24      3.219917  7.918605  1.156876  1.209271  1.711370  0.825123  1.892929   \n",
              "25      3.186722  7.802155  1.121971  1.186877  1.729432  0.800493  1.918949   \n",
              "26      3.203320  7.832168  1.136930  1.186877  1.731690  0.775862  1.918949   \n",
              "27      3.200948  7.900597  1.151890  1.231665  1.733947  0.800493  1.951473   \n",
              "28      3.286307  7.930010  1.151890  1.209271  1.752009  0.837438  1.918949   \n",
              "29      3.296781  7.733397  1.186629  1.214165  1.752923  0.848746  1.977162   \n",
              "30      3.334431  7.823300  1.206827  1.236650  1.777708  0.874082  1.944535   \n",
              "31      3.336785  7.945311  1.196728  1.264755  1.797986  0.924753  1.977162   \n",
              "32      3.372082  7.979170  1.191678  1.253513  1.764189  0.912085  1.853181   \n",
              "33      3.313253  7.907365  1.186629  1.247892  1.748417  0.912085  1.807504   \n",
              "34      3.346197  8.507496  1.191678  1.275998  1.773202  0.937421  1.983687   \n",
              "35      3.437971  8.573463  1.216926  1.326588  1.831783  0.950089  2.042414   \n",
              "36      3.423852  8.491150  1.196728  1.292861  1.836289  0.962757  2.107667   \n",
              "37      3.442677  8.341701  1.206827  1.315346  1.852060  0.975424  2.166395   \n",
              "38      3.463856  8.359798  1.232074  1.287240  1.831783  0.988092  2.185970   \n",
              "\n",
              "cfips      1015      1017      1019   ...     56027     56029     56031  \\\n",
              "dcount                                ...                                 \n",
              "0       2.691544  1.486542  1.104277  ...  1.150575  5.916088  4.062681   \n",
              "1       2.703752  1.355156  1.089747  ...  1.150575  5.894528  3.888567   \n",
              "2       2.693764  1.355156  1.084903  ...  1.150575  5.881592  3.903076   \n",
              "3       2.739270  1.362664  1.084903  ...  1.200600  5.954897  3.845038   \n",
              "4       2.729281  1.343894  1.089747  ...  1.200600  5.911776  3.845038   \n",
              "5       2.719628  1.319910  1.079399  ...  1.218893  5.901441  3.890260   \n",
              "6       2.745211  1.331096  1.069675  ...  1.269680  5.871155  3.716069   \n",
              "7       2.756335  1.301268  1.074537  ...  1.269680  5.897114  3.527362   \n",
              "8       2.818625  1.327368  1.059950  ...  1.269680  5.979319  3.469299   \n",
              "9       2.834197  1.342282  1.084261  ...  1.320467  6.005279  3.483815   \n",
              "10      2.853107  1.342282  1.059950  ...  1.371254  6.022585  3.498331   \n",
              "11      2.887589  1.349739  1.074537  ...  1.320467  6.009605  3.440267   \n",
              "12      2.917621  1.379568  1.210677  ...  1.269680  6.000952  3.454783   \n",
              "13      2.886476  1.379568  1.205815  ...  1.320467  6.256219  3.454783   \n",
              "14      2.906498  1.379568  1.215539  ...  1.320467  6.290832  3.411235   \n",
              "15      2.892038  1.360925  1.234988  ...  1.320467  6.273526  3.396720   \n",
              "16      2.883139  1.338553  1.264161  ...  1.269680  6.273526  3.266076   \n",
              "17      2.880691  1.383719  1.248911  ...  1.382489  6.229196  3.186344   \n",
              "18      2.702250  1.282196  1.185981  ...  1.587302  5.844465  3.442390   \n",
              "19      2.698905  1.282196  1.195663  ...  1.638505  5.840142  3.499289   \n",
              "20      2.689983  1.293476  1.234389  ...  1.638505  5.917953  3.442390   \n",
              "21      2.649834  1.282196  1.229548  ...  1.689708  5.900662  3.385491   \n",
              "22      2.642027  1.252115  1.215026  ...  1.740911  5.917953  3.385491   \n",
              "23      2.685522  1.270916  1.210185  ...  1.740911  5.969827  3.399715   \n",
              "24      2.671024  1.282196  1.215026  ...  1.740911  5.974150  3.413940   \n",
              "25      2.665447  1.353638  1.215026  ...  1.740911  5.883370  3.371266   \n",
              "26      2.688868  1.372438  1.200503  ...  1.792115  5.939567  3.399715   \n",
              "27      2.683291  1.376199  1.219866  ...  1.792115  5.943890  3.328592   \n",
              "28      2.696674  1.402519  1.215026  ...  1.792115  5.961181  3.314367   \n",
              "29      2.701134  1.412333  1.193420  ...  1.873662  5.890694  3.284049   \n",
              "30      2.706717  1.438767  1.326550  ...  1.820128  5.882100  3.284049   \n",
              "31      2.717883  1.457649  1.217193  ...  1.820128  5.989516  3.241399   \n",
              "32      2.707833  1.480307  1.240966  ...  1.766595  6.023890  3.227182   \n",
              "33      2.691084  1.487859  1.245721  ...  1.766595  6.058262  3.212966   \n",
              "34      2.724583  1.468978  1.117345  ...  1.713062  6.101229  3.212966   \n",
              "35      2.782648  1.548280  1.141118  ...  1.766595  6.191458  3.184532   \n",
              "36      2.788231  1.521846  1.131609  ...  1.766595  6.221535  3.156099   \n",
              "37      2.809447  1.502964  1.131609  ...  1.766595  6.178568  3.170316   \n",
              "38      2.800514  1.442544  1.117345  ...  1.713062  6.217238  3.212966   \n",
              "\n",
              "cfips        56033     56035     56037      56039     56041     56043  \\\n",
              "dcount                                                                  \n",
              "0        30.183279  6.115724  2.640386  26.433363  4.612016  2.603246   \n",
              "1        31.712736  6.142085  2.858371  26.611856  4.338306  2.683593   \n",
              "2        31.990431  6.181626  2.913635  26.736261  4.420419  2.635385   \n",
              "3        32.776520  6.234348  3.008812  26.920164  4.372520  2.683593   \n",
              "4        32.806427  6.273890  3.088637  26.903938  4.310935  2.635385   \n",
              "5        32.847649  6.353848  3.150922  26.684565  4.367864  2.666882   \n",
              "6        32.246933  6.486774  3.169494  26.738255  4.237172  2.699208   \n",
              "7        32.856171  7.018477  3.237588  26.668457  4.182143  2.699208   \n",
              "8        34.142807  6.965306  3.293302  27.119463  4.195900  2.683045   \n",
              "9        40.916836  7.257743  3.311873  27.414764  4.443527  2.731534   \n",
              "10       40.192570  7.297621  3.126161  27.506041  4.450406  2.699208   \n",
              "11       41.261929  7.324206  3.194255  27.720806  4.477920  2.731534   \n",
              "12       41.585720  7.191280  3.197351  27.565102  4.491677  2.569905   \n",
              "13       42.275902  7.350791  3.178779  27.495302  3.907002  2.586068   \n",
              "14       46.749317  7.324206  3.163303  27.441610  3.838217  2.650719   \n",
              "15       46.787663  7.284328  3.188065  27.463087  3.886367  2.666882   \n",
              "16       43.494377  7.297621  3.172589  27.484564  3.838217  2.666882   \n",
              "17       44.220387  7.220456  3.255770  27.114956  3.798428  2.694660   \n",
              "18       80.121498  7.750398  3.534121  25.209639  3.467531  3.141015   \n",
              "19       82.661156  7.829889  3.540377  25.358242  3.481318  3.256737   \n",
              "20       82.235069  7.763646  3.474698  25.581148  3.426168  3.207142   \n",
              "21       83.825516  7.737149  3.449678  25.591763  3.426168  3.157547   \n",
              "22       86.770164  7.710652  3.487208  25.655451  3.364125  3.124483   \n",
              "23       88.099052  7.631161  3.434040  25.602377  3.364125  3.124483   \n",
              "24       90.942459  7.631161  3.452806  25.719137  3.439956  3.107952   \n",
              "25       90.077621  7.684154  3.362107  25.517462  3.481318  3.058357   \n",
              "26       92.220726  7.710652  3.255770  25.628914  3.501999  3.124483   \n",
              "27       96.304420  7.750398  3.093138  25.666065  3.481318  3.058357   \n",
              "28      100.164530  7.737149  3.039970  25.846514  3.777747  3.058357   \n",
              "29       98.470734  7.595103  2.926768  25.532248  3.754478  3.027295   \n",
              "30      102.143490  7.687245  2.892446  25.438322  3.954258  3.027295   \n",
              "31      104.880290  7.897854  2.848763  25.636610  4.023147  3.010753   \n",
              "32      105.979190  7.858365  2.851883  25.626175  4.064481  2.977668   \n",
              "33      106.209000  7.832039  2.820681  25.506157  3.885368  2.944582   \n",
              "34      113.199350  7.739897  2.783238  25.652266  3.906035  3.126551   \n",
              "35      114.093510  7.884691  2.836282  25.939260  3.981813  3.225807   \n",
              "36      113.441690  7.779387  2.811320  26.085369  3.974924  3.209264   \n",
              "37      128.262240  7.792550  2.811320  26.090586  3.995591  3.209264   \n",
              "38      227.756650  7.792550  2.823801  26.273220  4.009369  3.126551   \n",
              "\n",
              "cfips      56045  \n",
              "dcount            \n",
              "0       1.548594  \n",
              "1       1.530794  \n",
              "2       1.530794  \n",
              "3       1.601994  \n",
              "4       1.584194  \n",
              "5       1.590706  \n",
              "6       1.519214  \n",
              "7       1.537087  \n",
              "8       1.554960  \n",
              "9       1.608579  \n",
              "10      1.662198  \n",
              "11      1.554960  \n",
              "12      1.590706  \n",
              "13      1.590706  \n",
              "14      1.554960  \n",
              "15      1.554960  \n",
              "16      1.572833  \n",
              "17      1.598707  \n",
              "18      1.724448  \n",
              "19      1.760374  \n",
              "20      1.724448  \n",
              "21      1.688522  \n",
              "22      1.652596  \n",
              "23      1.652596  \n",
              "24      1.670559  \n",
              "25      1.688522  \n",
              "26      1.670559  \n",
              "27      1.760374  \n",
              "28      1.796300  \n",
              "29      1.749688  \n",
              "30      1.749688  \n",
              "31      1.767542  \n",
              "32      1.767542  \n",
              "33      1.803249  \n",
              "34      1.803249  \n",
              "35      1.803249  \n",
              "36      1.785395  \n",
              "37      1.785395  \n",
              "38      1.785395  \n",
              "\n",
              "[39 rows x 3135 columns]"
            ]
          },
          "execution_count": 30,
          "metadata": {},
          "output_type": "execute_result"
        }
      ],
      "source": [
        "data"
      ]
    },
    {
      "cell_type": "markdown",
      "id": "KkXOPLio7poo",
      "metadata": {
        "id": "KkXOPLio7poo"
      },
      "source": [
        "## TimeSeriesSplit"
      ]
    },
    {
      "cell_type": "code",
      "execution_count": 31,
      "id": "DyYQ3AFPt26x",
      "metadata": {
        "id": "DyYQ3AFPt26x"
      },
      "outputs": [],
      "source": [
        "feat = []\n",
        "label = []\n",
        "\n",
        "for i in range(10,35):\n",
        "  X.append(data.values[i-10:i+1])\n",
        "  Y.append(data.values[i+1:i+5])"
      ]
    },
    {
      "cell_type": "code",
      "execution_count": 32,
      "id": "vPUT4FFNAs3a",
      "metadata": {
        "colab": {
          "base_uri": "https://localhost:8080/"
        },
        "id": "vPUT4FFNAs3a",
        "outputId": "f8f8a023-5c0c-4013-a281-0772ab6bf298"
      },
      "outputs": [
        {
          "data": {
            "text/plain": [
              "((5, 11, 3135), (5, 4, 3135))"
            ]
          },
          "execution_count": 32,
          "metadata": {},
          "output_type": "execute_result"
        }
      ],
      "source": [
        "np.array(feat)[20:].shape, np.array(label)[20:].shape"
      ]
    },
    {
      "cell_type": "code",
      "execution_count": 33,
      "id": "fb17urkr88MG",
      "metadata": {
        "colab": {
          "base_uri": "https://localhost:8080/"
        },
        "id": "fb17urkr88MG",
        "outputId": "3156456a-1e18-48b9-8715-4a872dd8b7ae"
      },
      "outputs": [
        {
          "name": "stdout",
          "output_type": "stream",
          "text": [
            "(25, 11, 3135)\n",
            "(20, 11, 3135) (20, 4, 3135)\n"
          ]
        }
      ],
      "source": [
        "feat = np.array(feat)\n",
        "label = np.array(label)\n",
        "\n",
        "print(feat.shape)\n",
        "train = feat[:20]\n",
        "train_label = label[:20]\n",
        "valid = feat[20:]\n",
        "valid_label = label[20:]\n",
        "print(train.shape, train_label.shape)"
      ]
    },
    {
      "cell_type": "code",
      "execution_count": 34,
      "id": "aNBz1tmUWeZ1",
      "metadata": {
        "id": "aNBz1tmUWeZ1"
      },
      "outputs": [],
      "source": [
        "train = np.array(train).reshape(20, 1,11, 3135)\n",
        "train_label = np.array(train_label).reshape(20, 4, 3135)\n",
        "\n",
        "valid = np.array(valid).reshape(5, 1, 11, 3135)\n",
        "valid_label = np.array(valid_label).reshape(5, 4, 3135)"
      ]
    },
    {
      "cell_type": "code",
      "execution_count": 35,
      "id": "bCiUQuBGTUtN",
      "metadata": {
        "colab": {
          "base_uri": "https://localhost:8080/"
        },
        "id": "bCiUQuBGTUtN",
        "outputId": "b4509d55-0ce2-4278-c2cf-28056dab4dc9"
      },
      "outputs": [
        {
          "name": "stderr",
          "output_type": "stream",
          "text": [
            "<ipython-input-35-d8a69986a5d8>:1: VisibleDeprecationWarning: Creating an ndarray from ragged nested sequences (which is a list-or-tuple of lists-or-tuples-or ndarrays with different lengths or shapes) is deprecated. If you meant to do this, you must specify 'dtype=object' when creating the ndarray.\n",
            "  train_dataset = np.array([(i, j) for (i, j) in zip(train, train_label)])\n",
            "<ipython-input-35-d8a69986a5d8>:2: VisibleDeprecationWarning: Creating an ndarray from ragged nested sequences (which is a list-or-tuple of lists-or-tuples-or ndarrays with different lengths or shapes) is deprecated. If you meant to do this, you must specify 'dtype=object' when creating the ndarray.\n",
            "  val_dataset = np.array([(i, j) for (i, j) in zip(valid, valid_label)])\n"
          ]
        }
      ],
      "source": [
        "train_dataset = np.array([(i, j) for (i, j) in zip(train, train_label)])\n",
        "val_dataset = np.array([(i, j) for (i, j) in zip(valid, valid_label)])"
      ]
    },
    {
      "cell_type": "code",
      "execution_count": 36,
      "id": "1ptvxuJPQ71C",
      "metadata": {
        "id": "1ptvxuJPQ71C"
      },
      "outputs": [],
      "source": [
        "from torch.utils.data import DataLoader\n",
        "\n",
        "train_dataloader = DataLoader(train_dataset, batch_size = 1, shuffle = True)\n",
        "val_dataloader = DataLoader(val_dataset, batch_size = 1, shuffle = True)"
      ]
    },
    {
      "cell_type": "code",
      "execution_count": 37,
      "id": "ZnKvx3zMe6Fh",
      "metadata": {
        "id": "ZnKvx3zMe6Fh"
      },
      "outputs": [],
      "source": [
        "class SMAPE(nn.Module):\n",
        "    def __init__(self):\n",
        "        super(SMAPE, self).__init__()\n",
        "        \n",
        "\n",
        "    def forward(self, y_pred, target):\n",
        "        loss = 2 * (y_pred - target).abs() / (y_pred.abs() + target.abs() + 1e-8)\n",
        "        return torch.mean(loss)"
      ]
    },
    {
      "cell_type": "code",
      "execution_count": 38,
      "id": "gwuLujhQ3FfN",
      "metadata": {
        "id": "gwuLujhQ3FfN"
      },
      "outputs": [],
      "source": [
        "def train(model, train_loader, optimizer, val_loader, scheduler, device):\n",
        "  model = model.to(device)\n",
        "  criterion = SMAPE().to(device)\n",
        "  best_loss = 1e10\n",
        "  best_model = None\n",
        "\n",
        "  hist = {\"train\" : [],\n",
        "          \"valid\" : []}\n",
        "\n",
        "  for epoch in range(1, 51):\n",
        "    model.train()\n",
        "    train_loss = []\n",
        "\n",
        "    for data, label in tqdm(train_dataloader.dataset):\n",
        "      data = torch.tensor(data).to(device)\n",
        "      label = torch.tensor(label).to(device)\n",
        "      epoch_loss = []\n",
        "      \n",
        "      for i in range(4):\n",
        "        optimizer.zero_grad()\n",
        "\n",
        "        logit = model(data, A, device)\n",
        "        logit = logit.view(1, -1)\n",
        "\n",
        "        data = torch.cat((data[0][1:], logit)).view(1,11, 3135)\n",
        "\n",
        "        loss = criterion(logit, label[i])\n",
        "        \n",
        "        loss.backward()\n",
        "        optimizer.step()\n",
        "        epoch_loss.append(loss.item())\n",
        "\n",
        "\n",
        "      train_loss.append(np.mean(epoch_loss))\n",
        "\n",
        "    with torch.no_grad():\n",
        "      valid_loss = []\n",
        "      for data, label in tqdm(val_loader.dataset):\n",
        "        model.eval()\n",
        "        data = torch.tensor(data).to(device)\n",
        "        label = torch.tensor(label).to(device)\n",
        "        epoch_loss = []\n",
        "        for i in range(4):\n",
        "              \n",
        "          optimizer.zero_grad()\n",
        "          \n",
        "          logit = model(data, A, device)\n",
        "          logit = logit.view(1, -1)\n",
        "\n",
        "          data = torch.cat((data[0][1:], logit)).view(1, 11, 3135)\n",
        "\n",
        "          loss = criterion(logit, label[i])\n",
        "\n",
        "          epoch_loss.append(loss.item())\n",
        "\n",
        "        valid_loss.append(np.mean(epoch_loss))\n",
        "\n",
        "    _valid_loss = np.mean(valid_loss)\n",
        "    _train_loss = np.mean(train_loss)\n",
        "\n",
        "    scheduler.step(_valid_loss)\n",
        "\n",
        "    if _valid_loss < best_loss:\n",
        "      best_loss = _valid_loss\n",
        "      best_model = model \n",
        "\n",
        "    print(\"Epoch :\", epoch, \"train_loss :\", _train_loss, \"valid_loss :\", _valid_loss)\n",
        "    hist[\"train\"].append(_train_loss)\n",
        "    hist[\"valid\"].append(_valid_loss)\n",
        "\n",
        "  print(\"best loss :\", best_loss)\n",
        "  return best_model, hist"
      ]
    },
    {
      "cell_type": "code",
      "execution_count": 39,
      "id": "AYVcMCkLhBry",
      "metadata": {
        "colab": {
          "base_uri": "https://localhost:8080/"
        },
        "id": "AYVcMCkLhBry",
        "outputId": "03b5d87e-1abe-46d1-913f-62128a4b1ef3"
      },
      "outputs": [
        {
          "data": {
            "text/plain": [
              "device(type='cuda')"
            ]
          },
          "execution_count": 39,
          "metadata": {},
          "output_type": "execute_result"
        }
      ],
      "source": [
        "device = torch.device(\"cuda\" if torch.cuda.is_available() else \"cpu\")\n",
        "device"
      ]
    },
    {
      "cell_type": "code",
      "execution_count": 40,
      "id": "UCMyl-tbtoAZ",
      "metadata": {
        "id": "UCMyl-tbtoAZ"
      },
      "outputs": [],
      "source": [
        "import torch\n",
        "import torch.nn as nn\n",
        "\n",
        "class Model(nn.Module):\n",
        "\n",
        "  def __init__(self, in_channels, num_class, A):\n",
        "    super().__init__()\n",
        "\n",
        "    self.A = torch.tensor(A, dtype = torch.float32, requires_grad = False)\n",
        "\n",
        "    spatial_kernel_size = self.A.size(0)\n",
        "    temporal_kernel_size = 3\n",
        "    kernel_size = (temporal_kernel_size, spatial_kernel_size)\n",
        "    self.data_bn = nn.BatchNorm1d(3135)\n",
        "\n",
        "    self.st_gcn_networks = nn.ModuleList((\n",
        "        st_gcn(1, 3, kernel_size, 1, residual = False),\n",
        "        st_gcn(3, 64, kernel_size, 1),\n",
        "        st_gcn(64, 64, kernel_size, 1),\n",
        "        st_gcn(64, 64, kernel_size, 1),\n",
        "        st_gcn(64, 128, kernel_size, 2),\n",
        "        st_gcn(128, 128, kernel_size, 1),\n",
        "        st_gcn(128, 128, kernel_size, 1),\n",
        "        st_gcn(128, 256, kernel_size, 2),\n",
        "        st_gcn(256, 256, kernel_size, 1),\n",
        "        st_gcn(256, 256, kernel_size, 1)\n",
        "    ))\n",
        "\n",
        "    self.edge_importance = nn.ParameterList([\n",
        "                nn.Parameter(torch.ones(self.A.shape))\n",
        "                for i in self.st_gcn_networks\n",
        "            ])\n",
        "\n",
        "    self.fcn = nn.Conv2d(256, num_class, kernel_size = 1)\n",
        "\n",
        "  def forward(self, x, A, device):\n",
        "    x = torch.tensor(x, dtype = torch.float32)\n",
        "    x = x.view(1, 1, x.size(1), x.size(2))\n",
        "    N, C, T, V = x.size()\n",
        "    x = x.permute(0, 1, 3, 2).contiguous().view(N*C, V, T)\n",
        "    x = self.data_bn(x)\n",
        "    x = x.view(N, C, T, V)\n",
        "\n",
        "    self.A = self.A.to(device)  \n",
        "    for gcn, importance in zip(self.st_gcn_networks, self.edge_importance):\n",
        "      x = gcn(x, self.A * importance.to(device))\n",
        "\n",
        "    x = F.avg_pool2d(x, x.size()[2:])\n",
        "    \n",
        "    x = self.fcn(x)\n",
        "\n",
        "    return x.view(-1)\n",
        "\n",
        "class st_gcn(nn.Module):\n",
        "\n",
        "  def __init__(self, in_channels, out_channels, kernel_size, stride = 1, dropout = 0, residual = True):\n",
        "    super().__init__()\n",
        "    padding = ((kernel_size[0] - 1) // 2, 0)\n",
        "    self.s_kernel_size = kernel_size[1]\n",
        "    self.gcn = nn.Conv2d(\n",
        "        in_channels, out_channels * kernel_size[1],\n",
        "        kernel_size = (1, 1),\n",
        "        padding = (0, 0),\n",
        "        stride = (1, 1),\n",
        "        bias = True\n",
        "    )\n",
        "\n",
        "    self.tcn = nn.Sequential(\n",
        "            nn.BatchNorm2d(out_channels),\n",
        "            nn.ReLU(inplace=True),\n",
        "            nn.Conv2d(\n",
        "                out_channels,\n",
        "                out_channels,\n",
        "                (kernel_size[0], 1),\n",
        "                (stride, 1),\n",
        "                padding,\n",
        "            ),\n",
        "            nn.BatchNorm2d(out_channels),\n",
        "            nn.Dropout(dropout, inplace=True),\n",
        "        )\n",
        "    \n",
        "    if not residual:\n",
        "      self.residual = lambda x : 0\n",
        "\n",
        "    elif (in_channels == out_channels) and (stride == 1):\n",
        "      self.residual = lambda x : x\n",
        "\n",
        "    else :\n",
        "      self.residual = nn.Sequential(\n",
        "                nn.Conv2d(\n",
        "                    in_channels,\n",
        "                    out_channels,\n",
        "                    kernel_size=1,\n",
        "                    stride=(stride, 1)),\n",
        "                nn.BatchNorm2d(out_channels),\n",
        "            )\n",
        "      \n",
        "    self.relu = nn.ReLU(inplace = True)\n",
        "\n",
        "  def forward(self, x, A):\n",
        "\n",
        "    res = self.residual(x)\n",
        "    x = self.gcn(x)\n",
        "    n, c, t, v = x.size()\n",
        "    x = x.view(n, self.s_kernel_size, c // self.s_kernel_size, t, v)\n",
        "    x = torch.einsum(\"nkctv, kvw -> nctw\", (x, A))\n",
        "    x = self.tcn(x) + res\n",
        "\n",
        "    return self.relu(x)"
      ]
    },
    {
      "cell_type": "code",
      "execution_count": 41,
      "id": "ec43a8d2",
      "metadata": {},
      "outputs": [
        {
          "data": {
            "application/vnd.jupyter.widget-view+json": {
              "model_id": "e9093b4636ce4379a003b1ac2d97a947",
              "version_major": 2,
              "version_minor": 0
            },
            "text/plain": [
              "  0%|          | 0/20 [00:00<?, ?it/s]"
            ]
          },
          "metadata": {},
          "output_type": "display_data"
        },
        {
          "name": "stderr",
          "output_type": "stream",
          "text": [
            "<ipython-input-40-b90fe0543d41>:37: UserWarning: To copy construct from a tensor, it is recommended to use sourceTensor.clone().detach() or sourceTensor.clone().detach().requires_grad_(True), rather than torch.tensor(sourceTensor).\n",
            "  x = torch.tensor(x, dtype = torch.float32)\n"
          ]
        },
        {
          "data": {
            "application/vnd.jupyter.widget-view+json": {
              "model_id": "7eb182d9a1d844fba46dda2780c2b478",
              "version_major": 2,
              "version_minor": 0
            },
            "text/plain": [
              "  0%|          | 0/5 [00:00<?, ?it/s]"
            ]
          },
          "metadata": {},
          "output_type": "display_data"
        },
        {
          "name": "stdout",
          "output_type": "stream",
          "text": [
            "Epoch : 1 train_loss : 0.9919915310194345 valid_loss : 1.0842905514987589\n"
          ]
        },
        {
          "data": {
            "application/vnd.jupyter.widget-view+json": {
              "model_id": "2a11fdab84534779b2af6fc4a6bb67b1",
              "version_major": 2,
              "version_minor": 0
            },
            "text/plain": [
              "  0%|          | 0/20 [00:00<?, ?it/s]"
            ]
          },
          "metadata": {},
          "output_type": "display_data"
        },
        {
          "data": {
            "application/vnd.jupyter.widget-view+json": {
              "model_id": "a53410267b924d0c8275aa6d41702ec1",
              "version_major": 2,
              "version_minor": 0
            },
            "text/plain": [
              "  0%|          | 0/5 [00:00<?, ?it/s]"
            ]
          },
          "metadata": {},
          "output_type": "display_data"
        },
        {
          "name": "stdout",
          "output_type": "stream",
          "text": [
            "Epoch : 2 train_loss : 0.9045700640231189 valid_loss : 1.8519870543417667\n"
          ]
        },
        {
          "data": {
            "application/vnd.jupyter.widget-view+json": {
              "model_id": "3a26dade1f794a2184937702062643ce",
              "version_major": 2,
              "version_minor": 0
            },
            "text/plain": [
              "  0%|          | 0/20 [00:00<?, ?it/s]"
            ]
          },
          "metadata": {},
          "output_type": "display_data"
        },
        {
          "data": {
            "application/vnd.jupyter.widget-view+json": {
              "model_id": "76647469569b411497db5ba47a491f62",
              "version_major": 2,
              "version_minor": 0
            },
            "text/plain": [
              "  0%|          | 0/5 [00:00<?, ?it/s]"
            ]
          },
          "metadata": {},
          "output_type": "display_data"
        },
        {
          "name": "stdout",
          "output_type": "stream",
          "text": [
            "Epoch : 3 train_loss : 0.8968189849393019 valid_loss : 1.8642452883304255\n"
          ]
        },
        {
          "data": {
            "application/vnd.jupyter.widget-view+json": {
              "model_id": "51276cb8bfd74b458d6be03fb14b8d8d",
              "version_major": 2,
              "version_minor": 0
            },
            "text/plain": [
              "  0%|          | 0/20 [00:00<?, ?it/s]"
            ]
          },
          "metadata": {},
          "output_type": "display_data"
        },
        {
          "data": {
            "application/vnd.jupyter.widget-view+json": {
              "model_id": "77b3de64812b4191922187cf94565501",
              "version_major": 2,
              "version_minor": 0
            },
            "text/plain": [
              "  0%|          | 0/5 [00:00<?, ?it/s]"
            ]
          },
          "metadata": {},
          "output_type": "display_data"
        },
        {
          "name": "stdout",
          "output_type": "stream",
          "text": [
            "Epoch : 4 train_loss : 0.8910506440625662 valid_loss : 1.856506831207409\n"
          ]
        },
        {
          "data": {
            "application/vnd.jupyter.widget-view+json": {
              "model_id": "63cc49cab31f42e0a40a1215d71512b2",
              "version_major": 2,
              "version_minor": 0
            },
            "text/plain": [
              "  0%|          | 0/20 [00:00<?, ?it/s]"
            ]
          },
          "metadata": {},
          "output_type": "display_data"
        },
        {
          "data": {
            "application/vnd.jupyter.widget-view+json": {
              "model_id": "be788550d5ea46d68a02a2fe958e628e",
              "version_major": 2,
              "version_minor": 0
            },
            "text/plain": [
              "  0%|          | 0/5 [00:00<?, ?it/s]"
            ]
          },
          "metadata": {},
          "output_type": "display_data"
        },
        {
          "name": "stdout",
          "output_type": "stream",
          "text": [
            "Epoch : 5 train_loss : 0.8866344449835152 valid_loss : 1.8335970311546255\n"
          ]
        },
        {
          "data": {
            "application/vnd.jupyter.widget-view+json": {
              "model_id": "18674c1523e9433988dd86a33ff46f87",
              "version_major": 2,
              "version_minor": 0
            },
            "text/plain": [
              "  0%|          | 0/20 [00:00<?, ?it/s]"
            ]
          },
          "metadata": {},
          "output_type": "display_data"
        },
        {
          "data": {
            "application/vnd.jupyter.widget-view+json": {
              "model_id": "795f013dd9824a0a9d406c5a032c01b8",
              "version_major": 2,
              "version_minor": 0
            },
            "text/plain": [
              "  0%|          | 0/5 [00:00<?, ?it/s]"
            ]
          },
          "metadata": {},
          "output_type": "display_data"
        },
        {
          "name": "stdout",
          "output_type": "stream",
          "text": [
            "Epoch : 6 train_loss : 0.879228320895406 valid_loss : 1.873468962599171\n"
          ]
        },
        {
          "data": {
            "application/vnd.jupyter.widget-view+json": {
              "model_id": "bd280eba3d5448d0a3884f2018ea4b2a",
              "version_major": 2,
              "version_minor": 0
            },
            "text/plain": [
              "  0%|          | 0/20 [00:00<?, ?it/s]"
            ]
          },
          "metadata": {},
          "output_type": "display_data"
        },
        {
          "data": {
            "application/vnd.jupyter.widget-view+json": {
              "model_id": "7898841f6cda47db9d0a30db918fc7c8",
              "version_major": 2,
              "version_minor": 0
            },
            "text/plain": [
              "  0%|          | 0/5 [00:00<?, ?it/s]"
            ]
          },
          "metadata": {},
          "output_type": "display_data"
        },
        {
          "name": "stdout",
          "output_type": "stream",
          "text": [
            "Epoch : 7 train_loss : 0.872144850225626 valid_loss : 1.8614743928348694\n"
          ]
        },
        {
          "data": {
            "application/vnd.jupyter.widget-view+json": {
              "model_id": "cf61f315206844da83a9ed46a87c3ee7",
              "version_major": 2,
              "version_minor": 0
            },
            "text/plain": [
              "  0%|          | 0/20 [00:00<?, ?it/s]"
            ]
          },
          "metadata": {},
          "output_type": "display_data"
        },
        {
          "data": {
            "application/vnd.jupyter.widget-view+json": {
              "model_id": "91623fbedd7d4659ba8a0eb4f57c5811",
              "version_major": 2,
              "version_minor": 0
            },
            "text/plain": [
              "  0%|          | 0/5 [00:00<?, ?it/s]"
            ]
          },
          "metadata": {},
          "output_type": "display_data"
        },
        {
          "name": "stdout",
          "output_type": "stream",
          "text": [
            "Epoch : 8 train_loss : 0.8660234378607103 valid_loss : 1.8590527942630246\n"
          ]
        },
        {
          "data": {
            "application/vnd.jupyter.widget-view+json": {
              "model_id": "3b3ce414f7cb4ae59b6dcddb5880863f",
              "version_major": 2,
              "version_minor": 0
            },
            "text/plain": [
              "  0%|          | 0/20 [00:00<?, ?it/s]"
            ]
          },
          "metadata": {},
          "output_type": "display_data"
        },
        {
          "data": {
            "application/vnd.jupyter.widget-view+json": {
              "model_id": "af8ef42b4e494cd9a356e77450f3beba",
              "version_major": 2,
              "version_minor": 0
            },
            "text/plain": [
              "  0%|          | 0/5 [00:00<?, ?it/s]"
            ]
          },
          "metadata": {},
          "output_type": "display_data"
        },
        {
          "name": "stdout",
          "output_type": "stream",
          "text": [
            "Epoch 00009: reducing learning rate of group 0 to 5.0000e-04.\n",
            "Epoch : 9 train_loss : 0.8622712317474314 valid_loss : 1.8498790163083743\n"
          ]
        },
        {
          "data": {
            "application/vnd.jupyter.widget-view+json": {
              "model_id": "955af233a5904b34be5e9e3357007f49",
              "version_major": 2,
              "version_minor": 0
            },
            "text/plain": [
              "  0%|          | 0/20 [00:00<?, ?it/s]"
            ]
          },
          "metadata": {},
          "output_type": "display_data"
        },
        {
          "data": {
            "application/vnd.jupyter.widget-view+json": {
              "model_id": "680567aff51f430facd35f9c72965f9c",
              "version_major": 2,
              "version_minor": 0
            },
            "text/plain": [
              "  0%|          | 0/5 [00:00<?, ?it/s]"
            ]
          },
          "metadata": {},
          "output_type": "display_data"
        },
        {
          "name": "stdout",
          "output_type": "stream",
          "text": [
            "Epoch : 10 train_loss : 0.8596898883709271 valid_loss : 1.853815982763734\n"
          ]
        },
        {
          "data": {
            "application/vnd.jupyter.widget-view+json": {
              "model_id": "aadb603e5b9847e386fdff7b6fc3f151",
              "version_major": 2,
              "version_minor": 0
            },
            "text/plain": [
              "  0%|          | 0/20 [00:00<?, ?it/s]"
            ]
          },
          "metadata": {},
          "output_type": "display_data"
        },
        {
          "data": {
            "application/vnd.jupyter.widget-view+json": {
              "model_id": "332e6ae91cf440c68344b266f07f7890",
              "version_major": 2,
              "version_minor": 0
            },
            "text/plain": [
              "  0%|          | 0/5 [00:00<?, ?it/s]"
            ]
          },
          "metadata": {},
          "output_type": "display_data"
        },
        {
          "name": "stdout",
          "output_type": "stream",
          "text": [
            "Epoch : 11 train_loss : 0.8584345384576773 valid_loss : 1.8495936534666844\n"
          ]
        },
        {
          "data": {
            "application/vnd.jupyter.widget-view+json": {
              "model_id": "08a5fcf4c3f74c758c7bd7499811d68b",
              "version_major": 2,
              "version_minor": 0
            },
            "text/plain": [
              "  0%|          | 0/20 [00:00<?, ?it/s]"
            ]
          },
          "metadata": {},
          "output_type": "display_data"
        },
        {
          "data": {
            "application/vnd.jupyter.widget-view+json": {
              "model_id": "4b62ffafba254e1db3a52740fc61efe3",
              "version_major": 2,
              "version_minor": 0
            },
            "text/plain": [
              "  0%|          | 0/5 [00:00<?, ?it/s]"
            ]
          },
          "metadata": {},
          "output_type": "display_data"
        },
        {
          "name": "stdout",
          "output_type": "stream",
          "text": [
            "Epoch 00012: reducing learning rate of group 0 to 2.5000e-04.\n",
            "Epoch : 12 train_loss : 0.8579904194660086 valid_loss : 1.8594833241251236\n"
          ]
        },
        {
          "data": {
            "application/vnd.jupyter.widget-view+json": {
              "model_id": "ba2528a1515d4029ba22f6c607e3fcc4",
              "version_major": 2,
              "version_minor": 0
            },
            "text/plain": [
              "  0%|          | 0/20 [00:00<?, ?it/s]"
            ]
          },
          "metadata": {},
          "output_type": "display_data"
        },
        {
          "data": {
            "application/vnd.jupyter.widget-view+json": {
              "model_id": "2dcfbb3f7bb540fcbc7fb153d7e0d591",
              "version_major": 2,
              "version_minor": 0
            },
            "text/plain": [
              "  0%|          | 0/5 [00:00<?, ?it/s]"
            ]
          },
          "metadata": {},
          "output_type": "display_data"
        },
        {
          "name": "stdout",
          "output_type": "stream",
          "text": [
            "Epoch : 13 train_loss : 0.8592624490503352 valid_loss : 1.877787452849312\n"
          ]
        },
        {
          "data": {
            "application/vnd.jupyter.widget-view+json": {
              "model_id": "c39dbec5069441a2bb5292c19976d23e",
              "version_major": 2,
              "version_minor": 0
            },
            "text/plain": [
              "  0%|          | 0/20 [00:00<?, ?it/s]"
            ]
          },
          "metadata": {},
          "output_type": "display_data"
        },
        {
          "data": {
            "application/vnd.jupyter.widget-view+json": {
              "model_id": "c9c791fdb56d449aa076e915ff9cdcc0",
              "version_major": 2,
              "version_minor": 0
            },
            "text/plain": [
              "  0%|          | 0/5 [00:00<?, ?it/s]"
            ]
          },
          "metadata": {},
          "output_type": "display_data"
        },
        {
          "name": "stdout",
          "output_type": "stream",
          "text": [
            "Epoch : 14 train_loss : 0.8588737415349257 valid_loss : 1.8799006287667317\n"
          ]
        },
        {
          "data": {
            "application/vnd.jupyter.widget-view+json": {
              "model_id": "8056abf9dd9944278df93f010f4677d8",
              "version_major": 2,
              "version_minor": 0
            },
            "text/plain": [
              "  0%|          | 0/20 [00:00<?, ?it/s]"
            ]
          },
          "metadata": {},
          "output_type": "display_data"
        },
        {
          "data": {
            "application/vnd.jupyter.widget-view+json": {
              "model_id": "c67b9715cfb740d6bfddc76aa94c5b8e",
              "version_major": 2,
              "version_minor": 0
            },
            "text/plain": [
              "  0%|          | 0/5 [00:00<?, ?it/s]"
            ]
          },
          "metadata": {},
          "output_type": "display_data"
        },
        {
          "name": "stdout",
          "output_type": "stream",
          "text": [
            "Epoch : 15 train_loss : 0.8589414463013265 valid_loss : 1.8854752722652488\n"
          ]
        },
        {
          "data": {
            "application/vnd.jupyter.widget-view+json": {
              "model_id": "4cdea0004db8486fb485bd1cc73f61da",
              "version_major": 2,
              "version_minor": 0
            },
            "text/plain": [
              "  0%|          | 0/20 [00:00<?, ?it/s]"
            ]
          },
          "metadata": {},
          "output_type": "display_data"
        },
        {
          "data": {
            "application/vnd.jupyter.widget-view+json": {
              "model_id": "e8e399adeb054146ba2ea39f04fa804a",
              "version_major": 2,
              "version_minor": 0
            },
            "text/plain": [
              "  0%|          | 0/5 [00:00<?, ?it/s]"
            ]
          },
          "metadata": {},
          "output_type": "display_data"
        },
        {
          "name": "stdout",
          "output_type": "stream",
          "text": [
            "Epoch : 16 train_loss : 0.858808666667576 valid_loss : 1.8892035104991298\n"
          ]
        },
        {
          "data": {
            "application/vnd.jupyter.widget-view+json": {
              "model_id": "346eac722c164eb9b62b263f0be50dc5",
              "version_major": 2,
              "version_minor": 0
            },
            "text/plain": [
              "  0%|          | 0/20 [00:00<?, ?it/s]"
            ]
          },
          "metadata": {},
          "output_type": "display_data"
        },
        {
          "data": {
            "application/vnd.jupyter.widget-view+json": {
              "model_id": "3c7eb2cac7b54557afc5aad478dca0a5",
              "version_major": 2,
              "version_minor": 0
            },
            "text/plain": [
              "  0%|          | 0/5 [00:00<?, ?it/s]"
            ]
          },
          "metadata": {},
          "output_type": "display_data"
        },
        {
          "name": "stdout",
          "output_type": "stream",
          "text": [
            "Epoch : 17 train_loss : 0.8576214986801869 valid_loss : 1.8900987841740637\n"
          ]
        },
        {
          "data": {
            "application/vnd.jupyter.widget-view+json": {
              "model_id": "36ca9f3bf413467a83e62d136b6f6451",
              "version_major": 2,
              "version_minor": 0
            },
            "text/plain": [
              "  0%|          | 0/20 [00:00<?, ?it/s]"
            ]
          },
          "metadata": {},
          "output_type": "display_data"
        },
        {
          "data": {
            "application/vnd.jupyter.widget-view+json": {
              "model_id": "441c44757abb4aeabcd7be63a08788fb",
              "version_major": 2,
              "version_minor": 0
            },
            "text/plain": [
              "  0%|          | 0/5 [00:00<?, ?it/s]"
            ]
          },
          "metadata": {},
          "output_type": "display_data"
        },
        {
          "name": "stdout",
          "output_type": "stream",
          "text": [
            "Epoch : 18 train_loss : 0.8552327502048609 valid_loss : 1.8980504288416928\n"
          ]
        },
        {
          "data": {
            "application/vnd.jupyter.widget-view+json": {
              "model_id": "8c6b060ac67643978228265f380328f8",
              "version_major": 2,
              "version_minor": 0
            },
            "text/plain": [
              "  0%|          | 0/20 [00:00<?, ?it/s]"
            ]
          },
          "metadata": {},
          "output_type": "display_data"
        },
        {
          "data": {
            "application/vnd.jupyter.widget-view+json": {
              "model_id": "0aabc9b60d484436b5407f5bc39b8089",
              "version_major": 2,
              "version_minor": 0
            },
            "text/plain": [
              "  0%|          | 0/5 [00:00<?, ?it/s]"
            ]
          },
          "metadata": {},
          "output_type": "display_data"
        },
        {
          "name": "stdout",
          "output_type": "stream",
          "text": [
            "Epoch : 19 train_loss : 0.8536028212111584 valid_loss : 1.900554973471727\n"
          ]
        },
        {
          "data": {
            "application/vnd.jupyter.widget-view+json": {
              "model_id": "016875f117d043b1ab7afa97b1ea3c2f",
              "version_major": 2,
              "version_minor": 0
            },
            "text/plain": [
              "  0%|          | 0/20 [00:00<?, ?it/s]"
            ]
          },
          "metadata": {},
          "output_type": "display_data"
        },
        {
          "data": {
            "application/vnd.jupyter.widget-view+json": {
              "model_id": "ed66ead6797f49d69ff6fa10b9b87405",
              "version_major": 2,
              "version_minor": 0
            },
            "text/plain": [
              "  0%|          | 0/5 [00:00<?, ?it/s]"
            ]
          },
          "metadata": {},
          "output_type": "display_data"
        },
        {
          "name": "stdout",
          "output_type": "stream",
          "text": [
            "Epoch : 20 train_loss : 0.8511454768012248 valid_loss : 1.9028675371651755\n"
          ]
        },
        {
          "data": {
            "application/vnd.jupyter.widget-view+json": {
              "model_id": "3c8f4653ec9e4222b23c89e898fdc5e3",
              "version_major": 2,
              "version_minor": 0
            },
            "text/plain": [
              "  0%|          | 0/20 [00:00<?, ?it/s]"
            ]
          },
          "metadata": {},
          "output_type": "display_data"
        },
        {
          "data": {
            "application/vnd.jupyter.widget-view+json": {
              "model_id": "a83f0cabff0e4d5c92b56cb959e5b65c",
              "version_major": 2,
              "version_minor": 0
            },
            "text/plain": [
              "  0%|          | 0/5 [00:00<?, ?it/s]"
            ]
          },
          "metadata": {},
          "output_type": "display_data"
        },
        {
          "name": "stdout",
          "output_type": "stream",
          "text": [
            "Epoch : 21 train_loss : 0.8503272631380806 valid_loss : 1.8997954670216715\n"
          ]
        },
        {
          "data": {
            "application/vnd.jupyter.widget-view+json": {
              "model_id": "17539a9381ce4f66a19ee2924bd17ef0",
              "version_major": 2,
              "version_minor": 0
            },
            "text/plain": [
              "  0%|          | 0/20 [00:00<?, ?it/s]"
            ]
          },
          "metadata": {},
          "output_type": "display_data"
        },
        {
          "data": {
            "application/vnd.jupyter.widget-view+json": {
              "model_id": "58fe38b8698647e9b45db27ac983e02f",
              "version_major": 2,
              "version_minor": 0
            },
            "text/plain": [
              "  0%|          | 0/5 [00:00<?, ?it/s]"
            ]
          },
          "metadata": {},
          "output_type": "display_data"
        },
        {
          "name": "stdout",
          "output_type": "stream",
          "text": [
            "Epoch : 22 train_loss : 0.848223331968301 valid_loss : 1.8994053618746052\n"
          ]
        },
        {
          "data": {
            "application/vnd.jupyter.widget-view+json": {
              "model_id": "2efa4ad7bc0340639d646b8c8eb8d8ed",
              "version_major": 2,
              "version_minor": 0
            },
            "text/plain": [
              "  0%|          | 0/20 [00:00<?, ?it/s]"
            ]
          },
          "metadata": {},
          "output_type": "display_data"
        },
        {
          "data": {
            "application/vnd.jupyter.widget-view+json": {
              "model_id": "c853e0710fd141d8b21b31c64a7d0bc6",
              "version_major": 2,
              "version_minor": 0
            },
            "text/plain": [
              "  0%|          | 0/5 [00:00<?, ?it/s]"
            ]
          },
          "metadata": {},
          "output_type": "display_data"
        },
        {
          "name": "stdout",
          "output_type": "stream",
          "text": [
            "Epoch 00023: reducing learning rate of group 0 to 1.2500e-04.\n",
            "Epoch : 23 train_loss : 0.8459617056681787 valid_loss : 1.8933427392514486\n"
          ]
        },
        {
          "data": {
            "application/vnd.jupyter.widget-view+json": {
              "model_id": "3b41613968e94018a008c03072c8b69b",
              "version_major": 2,
              "version_minor": 0
            },
            "text/plain": [
              "  0%|          | 0/20 [00:00<?, ?it/s]"
            ]
          },
          "metadata": {},
          "output_type": "display_data"
        },
        {
          "data": {
            "application/vnd.jupyter.widget-view+json": {
              "model_id": "eee952ccf7c84ce68dd221bbb24e8575",
              "version_major": 2,
              "version_minor": 0
            },
            "text/plain": [
              "  0%|          | 0/5 [00:00<?, ?it/s]"
            ]
          },
          "metadata": {},
          "output_type": "display_data"
        },
        {
          "name": "stdout",
          "output_type": "stream",
          "text": [
            "Epoch : 24 train_loss : 0.8474794463992362 valid_loss : 1.9029700154185487\n"
          ]
        },
        {
          "data": {
            "application/vnd.jupyter.widget-view+json": {
              "model_id": "8767c132242641b1b603e2e52681d8ce",
              "version_major": 2,
              "version_minor": 0
            },
            "text/plain": [
              "  0%|          | 0/20 [00:00<?, ?it/s]"
            ]
          },
          "metadata": {},
          "output_type": "display_data"
        },
        {
          "data": {
            "application/vnd.jupyter.widget-view+json": {
              "model_id": "e83ccb7c477c45628c0928b54dde1518",
              "version_major": 2,
              "version_minor": 0
            },
            "text/plain": [
              "  0%|          | 0/5 [00:00<?, ?it/s]"
            ]
          },
          "metadata": {},
          "output_type": "display_data"
        },
        {
          "name": "stdout",
          "output_type": "stream",
          "text": [
            "Epoch : 25 train_loss : 0.846930591226676 valid_loss : 1.906563607865575\n"
          ]
        },
        {
          "data": {
            "application/vnd.jupyter.widget-view+json": {
              "model_id": "6685910351e54d13a3b312aae12b8f8d",
              "version_major": 2,
              "version_minor": 0
            },
            "text/plain": [
              "  0%|          | 0/20 [00:00<?, ?it/s]"
            ]
          },
          "metadata": {},
          "output_type": "display_data"
        },
        {
          "data": {
            "application/vnd.jupyter.widget-view+json": {
              "model_id": "a63eda9c54af4d159f2f2d4ddc7250d4",
              "version_major": 2,
              "version_minor": 0
            },
            "text/plain": [
              "  0%|          | 0/5 [00:00<?, ?it/s]"
            ]
          },
          "metadata": {},
          "output_type": "display_data"
        },
        {
          "name": "stdout",
          "output_type": "stream",
          "text": [
            "Epoch : 26 train_loss : 0.8463671893047631 valid_loss : 1.9097762340222695\n"
          ]
        },
        {
          "data": {
            "application/vnd.jupyter.widget-view+json": {
              "model_id": "ab34dcab2c1b4c65b12c2cf4369e57bb",
              "version_major": 2,
              "version_minor": 0
            },
            "text/plain": [
              "  0%|          | 0/20 [00:00<?, ?it/s]"
            ]
          },
          "metadata": {},
          "output_type": "display_data"
        },
        {
          "data": {
            "application/vnd.jupyter.widget-view+json": {
              "model_id": "39177f62fefb4e73aa6b00632aeeaa0a",
              "version_major": 2,
              "version_minor": 0
            },
            "text/plain": [
              "  0%|          | 0/5 [00:00<?, ?it/s]"
            ]
          },
          "metadata": {},
          "output_type": "display_data"
        },
        {
          "name": "stdout",
          "output_type": "stream",
          "text": [
            "Epoch : 27 train_loss : 0.8451565997018692 valid_loss : 1.9095968708881401\n"
          ]
        },
        {
          "data": {
            "application/vnd.jupyter.widget-view+json": {
              "model_id": "e3072005f34047788e33fdf9c4e1396e",
              "version_major": 2,
              "version_minor": 0
            },
            "text/plain": [
              "  0%|          | 0/20 [00:00<?, ?it/s]"
            ]
          },
          "metadata": {},
          "output_type": "display_data"
        },
        {
          "data": {
            "application/vnd.jupyter.widget-view+json": {
              "model_id": "e99d132f2ae24590983c96eab7afa83b",
              "version_major": 2,
              "version_minor": 0
            },
            "text/plain": [
              "  0%|          | 0/5 [00:00<?, ?it/s]"
            ]
          },
          "metadata": {},
          "output_type": "display_data"
        },
        {
          "name": "stdout",
          "output_type": "stream",
          "text": [
            "Epoch : 28 train_loss : 0.8443289900225931 valid_loss : 1.9160662241511197\n"
          ]
        },
        {
          "data": {
            "application/vnd.jupyter.widget-view+json": {
              "model_id": "009b026b888d4011a49c3b01eb2aba33",
              "version_major": 2,
              "version_minor": 0
            },
            "text/plain": [
              "  0%|          | 0/20 [00:00<?, ?it/s]"
            ]
          },
          "metadata": {},
          "output_type": "display_data"
        },
        {
          "data": {
            "application/vnd.jupyter.widget-view+json": {
              "model_id": "a6365213854f42f686238563739ccdfc",
              "version_major": 2,
              "version_minor": 0
            },
            "text/plain": [
              "  0%|          | 0/5 [00:00<?, ?it/s]"
            ]
          },
          "metadata": {},
          "output_type": "display_data"
        },
        {
          "name": "stdout",
          "output_type": "stream",
          "text": [
            "Epoch : 29 train_loss : 0.8412964535581932 valid_loss : 1.9131123678859154\n"
          ]
        },
        {
          "data": {
            "application/vnd.jupyter.widget-view+json": {
              "model_id": "c1b7ad24109d4b259a9cb72cafc72174",
              "version_major": 2,
              "version_minor": 0
            },
            "text/plain": [
              "  0%|          | 0/20 [00:00<?, ?it/s]"
            ]
          },
          "metadata": {},
          "output_type": "display_data"
        },
        {
          "data": {
            "application/vnd.jupyter.widget-view+json": {
              "model_id": "8309ca25e2d441aa84396660837eea67",
              "version_major": 2,
              "version_minor": 0
            },
            "text/plain": [
              "  0%|          | 0/5 [00:00<?, ?it/s]"
            ]
          },
          "metadata": {},
          "output_type": "display_data"
        },
        {
          "name": "stdout",
          "output_type": "stream",
          "text": [
            "Epoch : 30 train_loss : 0.8380967157277073 valid_loss : 1.9214051573922029\n"
          ]
        },
        {
          "data": {
            "application/vnd.jupyter.widget-view+json": {
              "model_id": "b96598511c01419b848a3733bddfd1db",
              "version_major": 2,
              "version_minor": 0
            },
            "text/plain": [
              "  0%|          | 0/20 [00:00<?, ?it/s]"
            ]
          },
          "metadata": {},
          "output_type": "display_data"
        },
        {
          "data": {
            "application/vnd.jupyter.widget-view+json": {
              "model_id": "ef8b75e7af4345ad925e9a42511e4e77",
              "version_major": 2,
              "version_minor": 0
            },
            "text/plain": [
              "  0%|          | 0/5 [00:00<?, ?it/s]"
            ]
          },
          "metadata": {},
          "output_type": "display_data"
        },
        {
          "name": "stdout",
          "output_type": "stream",
          "text": [
            "Epoch : 31 train_loss : 0.8326965682599937 valid_loss : 1.9150479281331587\n"
          ]
        },
        {
          "data": {
            "application/vnd.jupyter.widget-view+json": {
              "model_id": "7adf41dcbbff499ea8b0d922d083f913",
              "version_major": 2,
              "version_minor": 0
            },
            "text/plain": [
              "  0%|          | 0/20 [00:00<?, ?it/s]"
            ]
          },
          "metadata": {},
          "output_type": "display_data"
        },
        {
          "data": {
            "application/vnd.jupyter.widget-view+json": {
              "model_id": "7cffa4caec32406c9a711921b13316db",
              "version_major": 2,
              "version_minor": 0
            },
            "text/plain": [
              "  0%|          | 0/5 [00:00<?, ?it/s]"
            ]
          },
          "metadata": {},
          "output_type": "display_data"
        },
        {
          "name": "stdout",
          "output_type": "stream",
          "text": [
            "Epoch : 32 train_loss : 0.8304478090509967 valid_loss : 1.9073696387590655\n"
          ]
        },
        {
          "data": {
            "application/vnd.jupyter.widget-view+json": {
              "model_id": "62a3ded2d1e84e7e9f4af7de34eb78b9",
              "version_major": 2,
              "version_minor": 0
            },
            "text/plain": [
              "  0%|          | 0/20 [00:00<?, ?it/s]"
            ]
          },
          "metadata": {},
          "output_type": "display_data"
        },
        {
          "data": {
            "application/vnd.jupyter.widget-view+json": {
              "model_id": "5ee6c9d351424ce3b3aa55a0e9b28ab2",
              "version_major": 2,
              "version_minor": 0
            },
            "text/plain": [
              "  0%|          | 0/5 [00:00<?, ?it/s]"
            ]
          },
          "metadata": {},
          "output_type": "display_data"
        },
        {
          "name": "stdout",
          "output_type": "stream",
          "text": [
            "Epoch 00033: reducing learning rate of group 0 to 6.2500e-05.\n",
            "Epoch : 33 train_loss : 0.8270068368113748 valid_loss : 1.9097927805248616\n"
          ]
        },
        {
          "data": {
            "application/vnd.jupyter.widget-view+json": {
              "model_id": "f88748901ba448f0be35c2e90a99d28d",
              "version_major": 2,
              "version_minor": 0
            },
            "text/plain": [
              "  0%|          | 0/20 [00:00<?, ?it/s]"
            ]
          },
          "metadata": {},
          "output_type": "display_data"
        },
        {
          "data": {
            "application/vnd.jupyter.widget-view+json": {
              "model_id": "4541ec12bf984d9f858921219cadf2e9",
              "version_major": 2,
              "version_minor": 0
            },
            "text/plain": [
              "  0%|          | 0/5 [00:00<?, ?it/s]"
            ]
          },
          "metadata": {},
          "output_type": "display_data"
        },
        {
          "name": "stdout",
          "output_type": "stream",
          "text": [
            "Epoch : 34 train_loss : 0.825788459766232 valid_loss : 1.9222867645393962\n"
          ]
        },
        {
          "data": {
            "application/vnd.jupyter.widget-view+json": {
              "model_id": "1514152864254596802e20c24c42f33a",
              "version_major": 2,
              "version_minor": 0
            },
            "text/plain": [
              "  0%|          | 0/20 [00:00<?, ?it/s]"
            ]
          },
          "metadata": {},
          "output_type": "display_data"
        },
        {
          "data": {
            "application/vnd.jupyter.widget-view+json": {
              "model_id": "633333d342114c64a32bc0af3b4fd6c6",
              "version_major": 2,
              "version_minor": 0
            },
            "text/plain": [
              "  0%|          | 0/5 [00:00<?, ?it/s]"
            ]
          },
          "metadata": {},
          "output_type": "display_data"
        },
        {
          "name": "stdout",
          "output_type": "stream",
          "text": [
            "Epoch : 35 train_loss : 0.8233277800062246 valid_loss : 1.9199114097219365\n"
          ]
        },
        {
          "data": {
            "application/vnd.jupyter.widget-view+json": {
              "model_id": "0a1f8aab91a94d79b85835df961f98e5",
              "version_major": 2,
              "version_minor": 0
            },
            "text/plain": [
              "  0%|          | 0/20 [00:00<?, ?it/s]"
            ]
          },
          "metadata": {},
          "output_type": "display_data"
        },
        {
          "data": {
            "application/vnd.jupyter.widget-view+json": {
              "model_id": "94f8bea52bc14f34bcdb4dfa96e74e2a",
              "version_major": 2,
              "version_minor": 0
            },
            "text/plain": [
              "  0%|          | 0/5 [00:00<?, ?it/s]"
            ]
          },
          "metadata": {},
          "output_type": "display_data"
        },
        {
          "name": "stdout",
          "output_type": "stream",
          "text": [
            "Epoch : 36 train_loss : 0.8214486430946211 valid_loss : 1.9169050748680114\n"
          ]
        },
        {
          "data": {
            "application/vnd.jupyter.widget-view+json": {
              "model_id": "106a1e9524654f8d80ca82a9913b8388",
              "version_major": 2,
              "version_minor": 0
            },
            "text/plain": [
              "  0%|          | 0/20 [00:00<?, ?it/s]"
            ]
          },
          "metadata": {},
          "output_type": "display_data"
        },
        {
          "data": {
            "application/vnd.jupyter.widget-view+json": {
              "model_id": "accbe64862b6436b9e3dfe5017b2dc0d",
              "version_major": 2,
              "version_minor": 0
            },
            "text/plain": [
              "  0%|          | 0/5 [00:00<?, ?it/s]"
            ]
          },
          "metadata": {},
          "output_type": "display_data"
        },
        {
          "name": "stdout",
          "output_type": "stream",
          "text": [
            "Epoch 00037: reducing learning rate of group 0 to 3.1250e-05.\n",
            "Epoch : 37 train_loss : 0.8182666552551131 valid_loss : 1.9194558471227015\n"
          ]
        },
        {
          "data": {
            "application/vnd.jupyter.widget-view+json": {
              "model_id": "d8f96e85169745d681e02a22fbebba9d",
              "version_major": 2,
              "version_minor": 0
            },
            "text/plain": [
              "  0%|          | 0/20 [00:00<?, ?it/s]"
            ]
          },
          "metadata": {},
          "output_type": "display_data"
        },
        {
          "data": {
            "application/vnd.jupyter.widget-view+json": {
              "model_id": "29b976dbe27b445fbabe961f12e7a827",
              "version_major": 2,
              "version_minor": 0
            },
            "text/plain": [
              "  0%|          | 0/5 [00:00<?, ?it/s]"
            ]
          },
          "metadata": {},
          "output_type": "display_data"
        },
        {
          "name": "stdout",
          "output_type": "stream",
          "text": [
            "Epoch : 38 train_loss : 0.8161634130402591 valid_loss : 1.9230329140295441\n"
          ]
        },
        {
          "data": {
            "application/vnd.jupyter.widget-view+json": {
              "model_id": "10ab508ce6f9418eb99f89bc07284aaf",
              "version_major": 2,
              "version_minor": 0
            },
            "text/plain": [
              "  0%|          | 0/20 [00:00<?, ?it/s]"
            ]
          },
          "metadata": {},
          "output_type": "display_data"
        },
        {
          "data": {
            "application/vnd.jupyter.widget-view+json": {
              "model_id": "5f78ca2f676e480c8b727e2207f5aea6",
              "version_major": 2,
              "version_minor": 0
            },
            "text/plain": [
              "  0%|          | 0/5 [00:00<?, ?it/s]"
            ]
          },
          "metadata": {},
          "output_type": "display_data"
        },
        {
          "name": "stdout",
          "output_type": "stream",
          "text": [
            "Epoch : 39 train_loss : 0.8116546346119675 valid_loss : 1.9263553896454007\n"
          ]
        },
        {
          "data": {
            "application/vnd.jupyter.widget-view+json": {
              "model_id": "209ade10d84e420c8cdf9136a3ceb4d3",
              "version_major": 2,
              "version_minor": 0
            },
            "text/plain": [
              "  0%|          | 0/20 [00:00<?, ?it/s]"
            ]
          },
          "metadata": {},
          "output_type": "display_data"
        },
        {
          "data": {
            "application/vnd.jupyter.widget-view+json": {
              "model_id": "6705fc67775d4409bd15ddb29865409d",
              "version_major": 2,
              "version_minor": 0
            },
            "text/plain": [
              "  0%|          | 0/5 [00:00<?, ?it/s]"
            ]
          },
          "metadata": {},
          "output_type": "display_data"
        },
        {
          "name": "stdout",
          "output_type": "stream",
          "text": [
            "Epoch : 40 train_loss : 0.8072423401465258 valid_loss : 1.9265734578067373\n"
          ]
        },
        {
          "data": {
            "application/vnd.jupyter.widget-view+json": {
              "model_id": "95a017a5be4b4bf6ad6c7559a9c405c8",
              "version_major": 2,
              "version_minor": 0
            },
            "text/plain": [
              "  0%|          | 0/20 [00:00<?, ?it/s]"
            ]
          },
          "metadata": {},
          "output_type": "display_data"
        },
        {
          "data": {
            "application/vnd.jupyter.widget-view+json": {
              "model_id": "edc1ece2e79e4e47b991e66818c93f4b",
              "version_major": 2,
              "version_minor": 0
            },
            "text/plain": [
              "  0%|          | 0/5 [00:00<?, ?it/s]"
            ]
          },
          "metadata": {},
          "output_type": "display_data"
        },
        {
          "name": "stdout",
          "output_type": "stream",
          "text": [
            "Epoch : 41 train_loss : 0.8021338088997009 valid_loss : 1.9266078170924046\n"
          ]
        },
        {
          "data": {
            "application/vnd.jupyter.widget-view+json": {
              "model_id": "2089769b4d8b461e8bee01b8e2d199fc",
              "version_major": 2,
              "version_minor": 0
            },
            "text/plain": [
              "  0%|          | 0/20 [00:00<?, ?it/s]"
            ]
          },
          "metadata": {},
          "output_type": "display_data"
        },
        {
          "data": {
            "application/vnd.jupyter.widget-view+json": {
              "model_id": "c569521f160d418084f6857663764352",
              "version_major": 2,
              "version_minor": 0
            },
            "text/plain": [
              "  0%|          | 0/5 [00:00<?, ?it/s]"
            ]
          },
          "metadata": {},
          "output_type": "display_data"
        },
        {
          "name": "stdout",
          "output_type": "stream",
          "text": [
            "Epoch : 42 train_loss : 0.7969543704653093 valid_loss : 1.9264625680940184\n"
          ]
        },
        {
          "data": {
            "application/vnd.jupyter.widget-view+json": {
              "model_id": "3c408ca6cfc1458ea551cbb247c3e2e3",
              "version_major": 2,
              "version_minor": 0
            },
            "text/plain": [
              "  0%|          | 0/20 [00:00<?, ?it/s]"
            ]
          },
          "metadata": {},
          "output_type": "display_data"
        },
        {
          "data": {
            "application/vnd.jupyter.widget-view+json": {
              "model_id": "403ddb9caf5844c88b922b3ac0b9f1b1",
              "version_major": 2,
              "version_minor": 0
            },
            "text/plain": [
              "  0%|          | 0/5 [00:00<?, ?it/s]"
            ]
          },
          "metadata": {},
          "output_type": "display_data"
        },
        {
          "name": "stdout",
          "output_type": "stream",
          "text": [
            "Epoch 00043: reducing learning rate of group 0 to 1.5625e-05.\n",
            "Epoch : 43 train_loss : 0.792144670358733 valid_loss : 1.925875708867401\n"
          ]
        },
        {
          "data": {
            "application/vnd.jupyter.widget-view+json": {
              "model_id": "07b1dea064f14a6d95ae63613993be6c",
              "version_major": 2,
              "version_minor": 0
            },
            "text/plain": [
              "  0%|          | 0/20 [00:00<?, ?it/s]"
            ]
          },
          "metadata": {},
          "output_type": "display_data"
        },
        {
          "data": {
            "application/vnd.jupyter.widget-view+json": {
              "model_id": "0ce6a404ecc14c55bdb33434ab938a6f",
              "version_major": 2,
              "version_minor": 0
            },
            "text/plain": [
              "  0%|          | 0/5 [00:00<?, ?it/s]"
            ]
          },
          "metadata": {},
          "output_type": "display_data"
        },
        {
          "name": "stdout",
          "output_type": "stream",
          "text": [
            "Epoch : 44 train_loss : 0.7893034461186377 valid_loss : 1.9261749471466598\n"
          ]
        },
        {
          "data": {
            "application/vnd.jupyter.widget-view+json": {
              "model_id": "432ad48252bb41caa3202da404062c7d",
              "version_major": 2,
              "version_minor": 0
            },
            "text/plain": [
              "  0%|          | 0/20 [00:00<?, ?it/s]"
            ]
          },
          "metadata": {},
          "output_type": "display_data"
        },
        {
          "data": {
            "application/vnd.jupyter.widget-view+json": {
              "model_id": "02fab898251f426c8007f32cf33c6728",
              "version_major": 2,
              "version_minor": 0
            },
            "text/plain": [
              "  0%|          | 0/5 [00:00<?, ?it/s]"
            ]
          },
          "metadata": {},
          "output_type": "display_data"
        },
        {
          "name": "stdout",
          "output_type": "stream",
          "text": [
            "Epoch : 45 train_loss : 0.7865785654393059 valid_loss : 1.927912845842491\n"
          ]
        },
        {
          "data": {
            "application/vnd.jupyter.widget-view+json": {
              "model_id": "059dd0a73fd5425da86aa8b46b9aeae1",
              "version_major": 2,
              "version_minor": 0
            },
            "text/plain": [
              "  0%|          | 0/20 [00:00<?, ?it/s]"
            ]
          },
          "metadata": {},
          "output_type": "display_data"
        },
        {
          "data": {
            "application/vnd.jupyter.widget-view+json": {
              "model_id": "f1b4d1f66be6404a8ae67c6b60e14787",
              "version_major": 2,
              "version_minor": 0
            },
            "text/plain": [
              "  0%|          | 0/5 [00:00<?, ?it/s]"
            ]
          },
          "metadata": {},
          "output_type": "display_data"
        },
        {
          "name": "stdout",
          "output_type": "stream",
          "text": [
            "Epoch : 46 train_loss : 0.7843742133673284 valid_loss : 1.9303870307297804\n"
          ]
        },
        {
          "data": {
            "application/vnd.jupyter.widget-view+json": {
              "model_id": "8833eab0cbe647f6b94a769ab88b451f",
              "version_major": 2,
              "version_minor": 0
            },
            "text/plain": [
              "  0%|          | 0/20 [00:00<?, ?it/s]"
            ]
          },
          "metadata": {},
          "output_type": "display_data"
        },
        {
          "data": {
            "application/vnd.jupyter.widget-view+json": {
              "model_id": "2aab775b2b1b42aab1cfb77b9f792df2",
              "version_major": 2,
              "version_minor": 0
            },
            "text/plain": [
              "  0%|          | 0/5 [00:00<?, ?it/s]"
            ]
          },
          "metadata": {},
          "output_type": "display_data"
        },
        {
          "name": "stdout",
          "output_type": "stream",
          "text": [
            "Epoch : 47 train_loss : 0.7828556465249263 valid_loss : 1.931955668879174\n"
          ]
        },
        {
          "data": {
            "application/vnd.jupyter.widget-view+json": {
              "model_id": "e2f431ed1c1d407980e05b7e7501f74f",
              "version_major": 2,
              "version_minor": 0
            },
            "text/plain": [
              "  0%|          | 0/20 [00:00<?, ?it/s]"
            ]
          },
          "metadata": {},
          "output_type": "display_data"
        },
        {
          "data": {
            "application/vnd.jupyter.widget-view+json": {
              "model_id": "8e3a1a60475145e5a59a8e09872cabc2",
              "version_major": 2,
              "version_minor": 0
            },
            "text/plain": [
              "  0%|          | 0/5 [00:00<?, ?it/s]"
            ]
          },
          "metadata": {},
          "output_type": "display_data"
        },
        {
          "name": "stdout",
          "output_type": "stream",
          "text": [
            "Epoch : 48 train_loss : 0.7808501946028849 valid_loss : 1.9328265270936327\n"
          ]
        },
        {
          "data": {
            "application/vnd.jupyter.widget-view+json": {
              "model_id": "90955acebe4143a29e277fec53b5a3a2",
              "version_major": 2,
              "version_minor": 0
            },
            "text/plain": [
              "  0%|          | 0/20 [00:00<?, ?it/s]"
            ]
          },
          "metadata": {},
          "output_type": "display_data"
        },
        {
          "data": {
            "application/vnd.jupyter.widget-view+json": {
              "model_id": "e009597cd656453ab170b0bbe585d70e",
              "version_major": 2,
              "version_minor": 0
            },
            "text/plain": [
              "  0%|          | 0/5 [00:00<?, ?it/s]"
            ]
          },
          "metadata": {},
          "output_type": "display_data"
        },
        {
          "name": "stdout",
          "output_type": "stream",
          "text": [
            "Epoch : 49 train_loss : 0.7784257653516146 valid_loss : 1.9342321875773831\n"
          ]
        },
        {
          "data": {
            "application/vnd.jupyter.widget-view+json": {
              "model_id": "f1533734d83e4ff9b97092add038323b",
              "version_major": 2,
              "version_minor": 0
            },
            "text/plain": [
              "  0%|          | 0/20 [00:00<?, ?it/s]"
            ]
          },
          "metadata": {},
          "output_type": "display_data"
        },
        {
          "data": {
            "application/vnd.jupyter.widget-view+json": {
              "model_id": "93c85bd32c924cdfa76ebb2ee89433ad",
              "version_major": 2,
              "version_minor": 0
            },
            "text/plain": [
              "  0%|          | 0/5 [00:00<?, ?it/s]"
            ]
          },
          "metadata": {},
          "output_type": "display_data"
        },
        {
          "name": "stdout",
          "output_type": "stream",
          "text": [
            "Epoch : 50 train_loss : 0.7763269392211247 valid_loss : 1.9345259942927604\n",
            "best loss : 1.0842905514987589\n"
          ]
        }
      ],
      "source": [
        "model = Model(1, 3135, A)\n",
        "model = nn.DataParallel(model, device_ids = [0, 1])\n",
        "\n",
        "optimizer = torch.optim.Adam(params = model.parameters(), lr = 1e-3)\n",
        "scheduler = torch.optim.lr_scheduler.ReduceLROnPlateau(optimizer, mode='max', factor=0.5, patience=2,threshold_mode='abs',min_lr=1e-8, verbose=True)\n",
        "\n",
        "best_model, hist = train(model, train_dataloader, optimizer, val_dataloader, scheduler, device)"
      ]
    },
    {
      "cell_type": "code",
      "execution_count": 47,
      "id": "IU1dqLEEGYm9",
      "metadata": {
        "id": "IU1dqLEEGYm9"
      },
      "outputs": [
        {
          "data": {
            "text/plain": [
              "(1, 11, 3135)"
            ]
          },
          "execution_count": 47,
          "metadata": {},
          "output_type": "execute_result"
        }
      ],
      "source": [
        "test_data = [data.values[-11:]]\n",
        "test_data = np.array(test_data)\n",
        "test_data.shape"
      ]
    },
    {
      "cell_type": "code",
      "execution_count": 50,
      "id": "mJNI9XIrEqYr",
      "metadata": {
        "id": "mJNI9XIrEqYr"
      },
      "outputs": [],
      "source": [
        "def inference(model, test_data):\n",
        "  model = model.to(device)\n",
        "  with torch.no_grad():\n",
        "    model.eval()\n",
        "    test_data = torch.tensor(test_data).to(device)\n",
        "    pred = torch.zeros((4, 3135))\n",
        "    for i in range(4):\n",
        "          \n",
        "      optimizer.zero_grad()\n",
        "      \n",
        "      logit = model(test_data, A, device)\n",
        "      logit = logit.view(1, -1)\n",
        "      pred[i, :] = logit\n",
        "      test_data = torch.cat((test_data[0][1:], logit)).view(1, 11, 3135)\n",
        "\n",
        "  return pred"
      ]
    },
    {
      "cell_type": "code",
      "execution_count": 51,
      "id": "0bb0e5d7",
      "metadata": {},
      "outputs": [
        {
          "name": "stderr",
          "output_type": "stream",
          "text": [
            "<ipython-input-40-b90fe0543d41>:37: UserWarning: To copy construct from a tensor, it is recommended to use sourceTensor.clone().detach() or sourceTensor.clone().detach().requires_grad_(True), rather than torch.tensor(sourceTensor).\n",
            "  x = torch.tensor(x, dtype = torch.float32)\n"
          ]
        }
      ],
      "source": [
        "pred = inference(best_model, test_data)"
      ]
    },
    {
      "cell_type": "code",
      "execution_count": 69,
      "id": "5fe356d5",
      "metadata": {},
      "outputs": [
        {
          "data": {
            "text/plain": [
              "tensor([[ 1.4356e+02, -3.5972e+01,  6.9055e+01,  ..., -4.1917e+01,\n",
              "          1.6043e+02,  9.7549e+01],\n",
              "        [ 3.5915e+04, -9.0887e+03,  1.7538e+04,  ..., -1.0061e+04,\n",
              "          3.9926e+04,  2.4005e+04],\n",
              "        [ 9.1511e+06, -2.3153e+06,  4.4695e+06,  ..., -2.5640e+06,\n",
              "          1.0172e+07,  6.1159e+06],\n",
              "        [ 2.3317e+09, -5.8993e+08,  1.1388e+09,  ..., -6.5332e+08,\n",
              "          2.5919e+09,  1.5584e+09]])"
            ]
          },
          "execution_count": 69,
          "metadata": {},
          "output_type": "execute_result"
        }
      ],
      "source": [
        "pred"
      ]
    },
    {
      "cell_type": "code",
      "execution_count": 53,
      "id": "15a036f9",
      "metadata": {},
      "outputs": [
        {
          "data": {
            "text/html": [
              "<div>\n",
              "<style scoped>\n",
              "    .dataframe tbody tr th:only-of-type {\n",
              "        vertical-align: middle;\n",
              "    }\n",
              "\n",
              "    .dataframe tbody tr th {\n",
              "        vertical-align: top;\n",
              "    }\n",
              "\n",
              "    .dataframe thead th {\n",
              "        text-align: right;\n",
              "    }\n",
              "</style>\n",
              "<table border=\"1\" class=\"dataframe\">\n",
              "  <thead>\n",
              "    <tr style=\"text-align: right;\">\n",
              "      <th></th>\n",
              "      <th>row_id</th>\n",
              "      <th>microbusiness_density</th>\n",
              "    </tr>\n",
              "  </thead>\n",
              "  <tbody>\n",
              "    <tr>\n",
              "      <th>0</th>\n",
              "      <td>1001_2022-11-01</td>\n",
              "      <td>3.817671</td>\n",
              "    </tr>\n",
              "    <tr>\n",
              "      <th>1</th>\n",
              "      <td>1003_2022-11-01</td>\n",
              "      <td>3.817671</td>\n",
              "    </tr>\n",
              "    <tr>\n",
              "      <th>2</th>\n",
              "      <td>1005_2022-11-01</td>\n",
              "      <td>3.817671</td>\n",
              "    </tr>\n",
              "    <tr>\n",
              "      <th>3</th>\n",
              "      <td>1007_2022-11-01</td>\n",
              "      <td>3.817671</td>\n",
              "    </tr>\n",
              "    <tr>\n",
              "      <th>4</th>\n",
              "      <td>1009_2022-11-01</td>\n",
              "      <td>3.817671</td>\n",
              "    </tr>\n",
              "    <tr>\n",
              "      <th>...</th>\n",
              "      <td>...</td>\n",
              "      <td>...</td>\n",
              "    </tr>\n",
              "    <tr>\n",
              "      <th>25075</th>\n",
              "      <td>56037_2023-06-01</td>\n",
              "      <td>3.817671</td>\n",
              "    </tr>\n",
              "    <tr>\n",
              "      <th>25076</th>\n",
              "      <td>56039_2023-06-01</td>\n",
              "      <td>3.817671</td>\n",
              "    </tr>\n",
              "    <tr>\n",
              "      <th>25077</th>\n",
              "      <td>56041_2023-06-01</td>\n",
              "      <td>3.817671</td>\n",
              "    </tr>\n",
              "    <tr>\n",
              "      <th>25078</th>\n",
              "      <td>56043_2023-06-01</td>\n",
              "      <td>3.817671</td>\n",
              "    </tr>\n",
              "    <tr>\n",
              "      <th>25079</th>\n",
              "      <td>56045_2023-06-01</td>\n",
              "      <td>3.817671</td>\n",
              "    </tr>\n",
              "  </tbody>\n",
              "</table>\n",
              "<p>25080 rows × 2 columns</p>\n",
              "</div>"
            ],
            "text/plain": [
              "                 row_id  microbusiness_density\n",
              "0       1001_2022-11-01               3.817671\n",
              "1       1003_2022-11-01               3.817671\n",
              "2       1005_2022-11-01               3.817671\n",
              "3       1007_2022-11-01               3.817671\n",
              "4       1009_2022-11-01               3.817671\n",
              "...                 ...                    ...\n",
              "25075  56037_2023-06-01               3.817671\n",
              "25076  56039_2023-06-01               3.817671\n",
              "25077  56041_2023-06-01               3.817671\n",
              "25078  56043_2023-06-01               3.817671\n",
              "25079  56045_2023-06-01               3.817671\n",
              "\n",
              "[25080 rows x 2 columns]"
            ]
          },
          "execution_count": 53,
          "metadata": {},
          "output_type": "execute_result"
        }
      ],
      "source": [
        "submit = pd.read_csv(\"sample_submission.csv\")\n",
        "submit"
      ]
    },
    {
      "cell_type": "code",
      "execution_count": 77,
      "id": "eab13441",
      "metadata": {},
      "outputs": [],
      "source": [
        "submit[\"microbusiness_density\"][:12540] = np.array(pred.clip(0,)).reshape(12540,)"
      ]
    },
    {
      "cell_type": "code",
      "execution_count": 79,
      "id": "1eed7c90",
      "metadata": {},
      "outputs": [],
      "source": [
        "submit.to_csv(\"GCN.csv\", index = False)"
      ]
    },
    {
      "cell_type": "code",
      "execution_count": null,
      "id": "462be048",
      "metadata": {},
      "outputs": [],
      "source": []
    }
  ],
  "metadata": {
    "accelerator": "GPU",
    "colab": {
      "provenance": []
    },
    "gpuClass": "standard",
    "kernelspec": {
      "display_name": "base",
      "language": "python",
      "name": "python3"
    },
    "language_info": {
      "codemirror_mode": {
        "name": "ipython",
        "version": 3
      },
      "file_extension": ".py",
      "mimetype": "text/x-python",
      "name": "python",
      "nbconvert_exporter": "python",
      "pygments_lexer": "ipython3",
      "version": "3.8.3"
    },
    "papermill": {
      "default_parameters": {},
      "duration": 137.282025,
      "end_time": "2022-12-30T23:26:24.973659",
      "environment_variables": {},
      "exception": null,
      "input_path": "__notebook__.ipynb",
      "output_path": "__notebook__.ipynb",
      "parameters": {},
      "start_time": "2022-12-30T23:24:07.691634",
      "version": "2.3.4"
    },
    "vscode": {
      "interpreter": {
        "hash": "062945cf05476a4a5aad44300c5bd9ba606571b08acbd052637fc40425c6d69c"
      }
    },
    "widgets": {
      "application/vnd.jupyter.widget-state+json": {
        "007036d825684c37b15acccc6d5d2f5d": {
          "model_module": "@jupyter-widgets/controls",
          "model_module_version": "1.5.0",
          "model_name": "ProgressStyleModel",
          "state": {
            "_model_module": "@jupyter-widgets/controls",
            "_model_module_version": "1.5.0",
            "_model_name": "ProgressStyleModel",
            "_view_count": null,
            "_view_module": "@jupyter-widgets/base",
            "_view_module_version": "1.2.0",
            "_view_name": "StyleView",
            "bar_color": null,
            "description_width": ""
          }
        },
        "1a6bd959d0d5400c8f303641e416eddd": {
          "model_module": "@jupyter-widgets/controls",
          "model_module_version": "1.5.0",
          "model_name": "HBoxModel",
          "state": {
            "_dom_classes": [],
            "_model_module": "@jupyter-widgets/controls",
            "_model_module_version": "1.5.0",
            "_model_name": "HBoxModel",
            "_view_count": null,
            "_view_module": "@jupyter-widgets/controls",
            "_view_module_version": "1.5.0",
            "_view_name": "HBoxView",
            "box_style": "",
            "children": [
              "IPY_MODEL_8c1d1e1e04e2481ead843a353802c25d",
              "IPY_MODEL_8419e27aba994b0fbfadaa31d80bab14",
              "IPY_MODEL_4978c90859fd408f9b81664749b19c36"
            ],
            "layout": "IPY_MODEL_d205aeb7bc064b7c8f1dd1c3245f4391"
          }
        },
        "2524a5e01fef40d3a8921c41c369ca86": {
          "model_module": "@jupyter-widgets/controls",
          "model_module_version": "1.5.0",
          "model_name": "DescriptionStyleModel",
          "state": {
            "_model_module": "@jupyter-widgets/controls",
            "_model_module_version": "1.5.0",
            "_model_name": "DescriptionStyleModel",
            "_view_count": null,
            "_view_module": "@jupyter-widgets/base",
            "_view_module_version": "1.2.0",
            "_view_name": "StyleView",
            "description_width": ""
          }
        },
        "394dddfcb18343879aa5fff919804a6c": {
          "model_module": "@jupyter-widgets/base",
          "model_module_version": "1.2.0",
          "model_name": "LayoutModel",
          "state": {
            "_model_module": "@jupyter-widgets/base",
            "_model_module_version": "1.2.0",
            "_model_name": "LayoutModel",
            "_view_count": null,
            "_view_module": "@jupyter-widgets/base",
            "_view_module_version": "1.2.0",
            "_view_name": "LayoutView",
            "align_content": null,
            "align_items": null,
            "align_self": null,
            "border": null,
            "bottom": null,
            "display": null,
            "flex": null,
            "flex_flow": null,
            "grid_area": null,
            "grid_auto_columns": null,
            "grid_auto_flow": null,
            "grid_auto_rows": null,
            "grid_column": null,
            "grid_gap": null,
            "grid_row": null,
            "grid_template_areas": null,
            "grid_template_columns": null,
            "grid_template_rows": null,
            "height": null,
            "justify_content": null,
            "justify_items": null,
            "left": null,
            "margin": null,
            "max_height": null,
            "max_width": null,
            "min_height": null,
            "min_width": null,
            "object_fit": null,
            "object_position": null,
            "order": null,
            "overflow": null,
            "overflow_x": null,
            "overflow_y": null,
            "padding": null,
            "right": null,
            "top": null,
            "visibility": null,
            "width": null
          }
        },
        "4978c90859fd408f9b81664749b19c36": {
          "model_module": "@jupyter-widgets/controls",
          "model_module_version": "1.5.0",
          "model_name": "HTMLModel",
          "state": {
            "_dom_classes": [],
            "_model_module": "@jupyter-widgets/controls",
            "_model_module_version": "1.5.0",
            "_model_name": "HTMLModel",
            "_view_count": null,
            "_view_module": "@jupyter-widgets/controls",
            "_view_module_version": "1.5.0",
            "_view_name": "HTMLView",
            "description": "",
            "description_tooltip": null,
            "layout": "IPY_MODEL_8de18a61b64443f68cf2ad332a938c9d",
            "placeholder": "​",
            "style": "IPY_MODEL_2524a5e01fef40d3a8921c41c369ca86",
            "value": " 20/20 [00:00&lt;00:00, 981.48it/s]"
          }
        },
        "4fdb23832772427aa4955a388af47230": {
          "model_module": "@jupyter-widgets/base",
          "model_module_version": "1.2.0",
          "model_name": "LayoutModel",
          "state": {
            "_model_module": "@jupyter-widgets/base",
            "_model_module_version": "1.2.0",
            "_model_name": "LayoutModel",
            "_view_count": null,
            "_view_module": "@jupyter-widgets/base",
            "_view_module_version": "1.2.0",
            "_view_name": "LayoutView",
            "align_content": null,
            "align_items": null,
            "align_self": null,
            "border": null,
            "bottom": null,
            "display": null,
            "flex": null,
            "flex_flow": null,
            "grid_area": null,
            "grid_auto_columns": null,
            "grid_auto_flow": null,
            "grid_auto_rows": null,
            "grid_column": null,
            "grid_gap": null,
            "grid_row": null,
            "grid_template_areas": null,
            "grid_template_columns": null,
            "grid_template_rows": null,
            "height": null,
            "justify_content": null,
            "justify_items": null,
            "left": null,
            "margin": null,
            "max_height": null,
            "max_width": null,
            "min_height": null,
            "min_width": null,
            "object_fit": null,
            "object_position": null,
            "order": null,
            "overflow": null,
            "overflow_x": null,
            "overflow_y": null,
            "padding": null,
            "right": null,
            "top": null,
            "visibility": null,
            "width": null
          }
        },
        "8419e27aba994b0fbfadaa31d80bab14": {
          "model_module": "@jupyter-widgets/controls",
          "model_module_version": "1.5.0",
          "model_name": "FloatProgressModel",
          "state": {
            "_dom_classes": [],
            "_model_module": "@jupyter-widgets/controls",
            "_model_module_version": "1.5.0",
            "_model_name": "FloatProgressModel",
            "_view_count": null,
            "_view_module": "@jupyter-widgets/controls",
            "_view_module_version": "1.5.0",
            "_view_name": "ProgressView",
            "bar_style": "success",
            "description": "",
            "description_tooltip": null,
            "layout": "IPY_MODEL_4fdb23832772427aa4955a388af47230",
            "max": 20,
            "min": 0,
            "orientation": "horizontal",
            "style": "IPY_MODEL_007036d825684c37b15acccc6d5d2f5d",
            "value": 20
          }
        },
        "8c1d1e1e04e2481ead843a353802c25d": {
          "model_module": "@jupyter-widgets/controls",
          "model_module_version": "1.5.0",
          "model_name": "HTMLModel",
          "state": {
            "_dom_classes": [],
            "_model_module": "@jupyter-widgets/controls",
            "_model_module_version": "1.5.0",
            "_model_name": "HTMLModel",
            "_view_count": null,
            "_view_module": "@jupyter-widgets/controls",
            "_view_module_version": "1.5.0",
            "_view_name": "HTMLView",
            "description": "",
            "description_tooltip": null,
            "layout": "IPY_MODEL_394dddfcb18343879aa5fff919804a6c",
            "placeholder": "​",
            "style": "IPY_MODEL_b51cd69239694a139a0c4ac96a659cba",
            "value": "100%"
          }
        },
        "8de18a61b64443f68cf2ad332a938c9d": {
          "model_module": "@jupyter-widgets/base",
          "model_module_version": "1.2.0",
          "model_name": "LayoutModel",
          "state": {
            "_model_module": "@jupyter-widgets/base",
            "_model_module_version": "1.2.0",
            "_model_name": "LayoutModel",
            "_view_count": null,
            "_view_module": "@jupyter-widgets/base",
            "_view_module_version": "1.2.0",
            "_view_name": "LayoutView",
            "align_content": null,
            "align_items": null,
            "align_self": null,
            "border": null,
            "bottom": null,
            "display": null,
            "flex": null,
            "flex_flow": null,
            "grid_area": null,
            "grid_auto_columns": null,
            "grid_auto_flow": null,
            "grid_auto_rows": null,
            "grid_column": null,
            "grid_gap": null,
            "grid_row": null,
            "grid_template_areas": null,
            "grid_template_columns": null,
            "grid_template_rows": null,
            "height": null,
            "justify_content": null,
            "justify_items": null,
            "left": null,
            "margin": null,
            "max_height": null,
            "max_width": null,
            "min_height": null,
            "min_width": null,
            "object_fit": null,
            "object_position": null,
            "order": null,
            "overflow": null,
            "overflow_x": null,
            "overflow_y": null,
            "padding": null,
            "right": null,
            "top": null,
            "visibility": null,
            "width": null
          }
        },
        "b51cd69239694a139a0c4ac96a659cba": {
          "model_module": "@jupyter-widgets/controls",
          "model_module_version": "1.5.0",
          "model_name": "DescriptionStyleModel",
          "state": {
            "_model_module": "@jupyter-widgets/controls",
            "_model_module_version": "1.5.0",
            "_model_name": "DescriptionStyleModel",
            "_view_count": null,
            "_view_module": "@jupyter-widgets/base",
            "_view_module_version": "1.2.0",
            "_view_name": "StyleView",
            "description_width": ""
          }
        },
        "d205aeb7bc064b7c8f1dd1c3245f4391": {
          "model_module": "@jupyter-widgets/base",
          "model_module_version": "1.2.0",
          "model_name": "LayoutModel",
          "state": {
            "_model_module": "@jupyter-widgets/base",
            "_model_module_version": "1.2.0",
            "_model_name": "LayoutModel",
            "_view_count": null,
            "_view_module": "@jupyter-widgets/base",
            "_view_module_version": "1.2.0",
            "_view_name": "LayoutView",
            "align_content": null,
            "align_items": null,
            "align_self": null,
            "border": null,
            "bottom": null,
            "display": null,
            "flex": null,
            "flex_flow": null,
            "grid_area": null,
            "grid_auto_columns": null,
            "grid_auto_flow": null,
            "grid_auto_rows": null,
            "grid_column": null,
            "grid_gap": null,
            "grid_row": null,
            "grid_template_areas": null,
            "grid_template_columns": null,
            "grid_template_rows": null,
            "height": null,
            "justify_content": null,
            "justify_items": null,
            "left": null,
            "margin": null,
            "max_height": null,
            "max_width": null,
            "min_height": null,
            "min_width": null,
            "object_fit": null,
            "object_position": null,
            "order": null,
            "overflow": null,
            "overflow_x": null,
            "overflow_y": null,
            "padding": null,
            "right": null,
            "top": null,
            "visibility": null,
            "width": null
          }
        }
      }
    }
  },
  "nbformat": 4,
  "nbformat_minor": 5
}
